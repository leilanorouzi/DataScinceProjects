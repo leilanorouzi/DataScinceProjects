{
 "cells": [
  {
   "cell_type": "markdown",
   "metadata": {},
   "source": [
    "## Relax Challenge"
   ]
  },
  {
   "cell_type": "markdown",
   "metadata": {},
   "source": [
    "Defining an \"adopted user\" as a user who has logged into the product on three separate\n",
    "days in at least one sevenday\n",
    "period , identify which factors predict future user\n",
    "adoption .\n",
    "We suggest spending 12\n",
    "hours on this, but you're welcome to spend more or less.\n",
    "Please send us a brief writeup of your findings (the more concise, the better no\n",
    "more\n",
    "than one page), along with any summary tables, graphs, code, or queries that can help\n",
    "us understand your approach. Please note any factors you considered or investigation\n",
    "you did, even if they did not pan out. Feel free to identify any further research or data\n",
    "you think would be valuable.\n",
    "\n",
    "### Packages"
   ]
  },
  {
   "cell_type": "code",
   "execution_count": 1,
   "metadata": {},
   "outputs": [],
   "source": [
    "#loading packages\n",
    "import sys\n",
    "import warnings\n",
    "\n",
    "if not sys.warnoptions:\n",
    "    warnings.simplefilter(\"ignore\")\n",
    "    \n",
    "import pandas as pd\n",
    "import numpy as np\n",
    "from datetime import datetime,timedelta\n",
    "\n",
    "from matplotlib import pyplot as plt \n",
    "import seaborn as sns\n"
   ]
  },
  {
   "cell_type": "code",
   "execution_count": 2,
   "metadata": {},
   "outputs": [
    {
     "name": "stdout",
     "output_type": "stream",
     "text": [
      "Relax_challenge.ipynb            takehome_user_engagement.csv\r\n",
      "relax_data_science_challenge.pdf takehome_users.csv\r\n"
     ]
    }
   ],
   "source": [
    "!ls"
   ]
  },
  {
   "cell_type": "markdown",
   "metadata": {},
   "source": [
    "### Loading files, reading data"
   ]
  },
  {
   "cell_type": "code",
   "execution_count": 3,
   "metadata": {},
   "outputs": [
    {
     "data": {
      "text/html": [
       "<div>\n",
       "<style scoped>\n",
       "    .dataframe tbody tr th:only-of-type {\n",
       "        vertical-align: middle;\n",
       "    }\n",
       "\n",
       "    .dataframe tbody tr th {\n",
       "        vertical-align: top;\n",
       "    }\n",
       "\n",
       "    .dataframe thead th {\n",
       "        text-align: right;\n",
       "    }\n",
       "</style>\n",
       "<table border=\"1\" class=\"dataframe\">\n",
       "  <thead>\n",
       "    <tr style=\"text-align: right;\">\n",
       "      <th></th>\n",
       "      <th>object_id</th>\n",
       "      <th>creation_time</th>\n",
       "      <th>name</th>\n",
       "      <th>email</th>\n",
       "      <th>creation_source</th>\n",
       "      <th>last_session_creation_time</th>\n",
       "      <th>opted_in_to_mailing_list</th>\n",
       "      <th>enabled_for_marketing_drip</th>\n",
       "      <th>org_id</th>\n",
       "      <th>invited_by_user_id</th>\n",
       "    </tr>\n",
       "  </thead>\n",
       "  <tbody>\n",
       "    <tr>\n",
       "      <th>0</th>\n",
       "      <td>1</td>\n",
       "      <td>2014-04-22 03:53:30</td>\n",
       "      <td>Clausen August</td>\n",
       "      <td>AugustCClausen@yahoo.com</td>\n",
       "      <td>GUEST_INVITE</td>\n",
       "      <td>1.398139e+09</td>\n",
       "      <td>1</td>\n",
       "      <td>0</td>\n",
       "      <td>11</td>\n",
       "      <td>10803.0</td>\n",
       "    </tr>\n",
       "    <tr>\n",
       "      <th>1</th>\n",
       "      <td>2</td>\n",
       "      <td>2013-11-15 03:45:04</td>\n",
       "      <td>Poole Matthew</td>\n",
       "      <td>MatthewPoole@gustr.com</td>\n",
       "      <td>ORG_INVITE</td>\n",
       "      <td>1.396238e+09</td>\n",
       "      <td>0</td>\n",
       "      <td>0</td>\n",
       "      <td>1</td>\n",
       "      <td>316.0</td>\n",
       "    </tr>\n",
       "    <tr>\n",
       "      <th>2</th>\n",
       "      <td>3</td>\n",
       "      <td>2013-03-19 23:14:52</td>\n",
       "      <td>Bottrill Mitchell</td>\n",
       "      <td>MitchellBottrill@gustr.com</td>\n",
       "      <td>ORG_INVITE</td>\n",
       "      <td>1.363735e+09</td>\n",
       "      <td>0</td>\n",
       "      <td>0</td>\n",
       "      <td>94</td>\n",
       "      <td>1525.0</td>\n",
       "    </tr>\n",
       "    <tr>\n",
       "      <th>3</th>\n",
       "      <td>4</td>\n",
       "      <td>2013-05-21 08:09:28</td>\n",
       "      <td>Clausen Nicklas</td>\n",
       "      <td>NicklasSClausen@yahoo.com</td>\n",
       "      <td>GUEST_INVITE</td>\n",
       "      <td>1.369210e+09</td>\n",
       "      <td>0</td>\n",
       "      <td>0</td>\n",
       "      <td>1</td>\n",
       "      <td>5151.0</td>\n",
       "    </tr>\n",
       "    <tr>\n",
       "      <th>4</th>\n",
       "      <td>5</td>\n",
       "      <td>2013-01-17 10:14:20</td>\n",
       "      <td>Raw Grace</td>\n",
       "      <td>GraceRaw@yahoo.com</td>\n",
       "      <td>GUEST_INVITE</td>\n",
       "      <td>1.358850e+09</td>\n",
       "      <td>0</td>\n",
       "      <td>0</td>\n",
       "      <td>193</td>\n",
       "      <td>5240.0</td>\n",
       "    </tr>\n",
       "  </tbody>\n",
       "</table>\n",
       "</div>"
      ],
      "text/plain": [
       "   object_id        creation_time               name  \\\n",
       "0          1  2014-04-22 03:53:30     Clausen August   \n",
       "1          2  2013-11-15 03:45:04      Poole Matthew   \n",
       "2          3  2013-03-19 23:14:52  Bottrill Mitchell   \n",
       "3          4  2013-05-21 08:09:28    Clausen Nicklas   \n",
       "4          5  2013-01-17 10:14:20          Raw Grace   \n",
       "\n",
       "                        email creation_source  last_session_creation_time  \\\n",
       "0    AugustCClausen@yahoo.com    GUEST_INVITE                1.398139e+09   \n",
       "1      MatthewPoole@gustr.com      ORG_INVITE                1.396238e+09   \n",
       "2  MitchellBottrill@gustr.com      ORG_INVITE                1.363735e+09   \n",
       "3   NicklasSClausen@yahoo.com    GUEST_INVITE                1.369210e+09   \n",
       "4          GraceRaw@yahoo.com    GUEST_INVITE                1.358850e+09   \n",
       "\n",
       "   opted_in_to_mailing_list  enabled_for_marketing_drip  org_id  \\\n",
       "0                         1                           0      11   \n",
       "1                         0                           0       1   \n",
       "2                         0                           0      94   \n",
       "3                         0                           0       1   \n",
       "4                         0                           0     193   \n",
       "\n",
       "   invited_by_user_id  \n",
       "0             10803.0  \n",
       "1               316.0  \n",
       "2              1525.0  \n",
       "3              5151.0  \n",
       "4              5240.0  "
      ]
     },
     "execution_count": 3,
     "metadata": {},
     "output_type": "execute_result"
    }
   ],
   "source": [
    "data_user=pd.read_csv('takehome_users.csv', encoding='cp1252')\n",
    "data_user.head()"
   ]
  },
  {
   "cell_type": "code",
   "execution_count": 4,
   "metadata": {},
   "outputs": [
    {
     "data": {
      "text/html": [
       "<div>\n",
       "<style scoped>\n",
       "    .dataframe tbody tr th:only-of-type {\n",
       "        vertical-align: middle;\n",
       "    }\n",
       "\n",
       "    .dataframe tbody tr th {\n",
       "        vertical-align: top;\n",
       "    }\n",
       "\n",
       "    .dataframe thead th {\n",
       "        text-align: right;\n",
       "    }\n",
       "</style>\n",
       "<table border=\"1\" class=\"dataframe\">\n",
       "  <thead>\n",
       "    <tr style=\"text-align: right;\">\n",
       "      <th></th>\n",
       "      <th>object_id</th>\n",
       "      <th>last_session_creation_time</th>\n",
       "      <th>opted_in_to_mailing_list</th>\n",
       "      <th>enabled_for_marketing_drip</th>\n",
       "      <th>org_id</th>\n",
       "      <th>invited_by_user_id</th>\n",
       "    </tr>\n",
       "  </thead>\n",
       "  <tbody>\n",
       "    <tr>\n",
       "      <th>count</th>\n",
       "      <td>12000.00000</td>\n",
       "      <td>8.823000e+03</td>\n",
       "      <td>12000.000000</td>\n",
       "      <td>12000.000000</td>\n",
       "      <td>12000.000000</td>\n",
       "      <td>6417.000000</td>\n",
       "    </tr>\n",
       "    <tr>\n",
       "      <th>mean</th>\n",
       "      <td>6000.50000</td>\n",
       "      <td>1.379279e+09</td>\n",
       "      <td>0.249500</td>\n",
       "      <td>0.149333</td>\n",
       "      <td>141.884583</td>\n",
       "      <td>5962.957145</td>\n",
       "    </tr>\n",
       "    <tr>\n",
       "      <th>std</th>\n",
       "      <td>3464.24595</td>\n",
       "      <td>1.953116e+07</td>\n",
       "      <td>0.432742</td>\n",
       "      <td>0.356432</td>\n",
       "      <td>124.056723</td>\n",
       "      <td>3383.761968</td>\n",
       "    </tr>\n",
       "    <tr>\n",
       "      <th>min</th>\n",
       "      <td>1.00000</td>\n",
       "      <td>1.338452e+09</td>\n",
       "      <td>0.000000</td>\n",
       "      <td>0.000000</td>\n",
       "      <td>0.000000</td>\n",
       "      <td>3.000000</td>\n",
       "    </tr>\n",
       "    <tr>\n",
       "      <th>25%</th>\n",
       "      <td>3000.75000</td>\n",
       "      <td>1.363195e+09</td>\n",
       "      <td>0.000000</td>\n",
       "      <td>0.000000</td>\n",
       "      <td>29.000000</td>\n",
       "      <td>3058.000000</td>\n",
       "    </tr>\n",
       "    <tr>\n",
       "      <th>50%</th>\n",
       "      <td>6000.50000</td>\n",
       "      <td>1.382888e+09</td>\n",
       "      <td>0.000000</td>\n",
       "      <td>0.000000</td>\n",
       "      <td>108.000000</td>\n",
       "      <td>5954.000000</td>\n",
       "    </tr>\n",
       "    <tr>\n",
       "      <th>75%</th>\n",
       "      <td>9000.25000</td>\n",
       "      <td>1.398443e+09</td>\n",
       "      <td>0.000000</td>\n",
       "      <td>0.000000</td>\n",
       "      <td>238.250000</td>\n",
       "      <td>8817.000000</td>\n",
       "    </tr>\n",
       "    <tr>\n",
       "      <th>max</th>\n",
       "      <td>12000.00000</td>\n",
       "      <td>1.402067e+09</td>\n",
       "      <td>1.000000</td>\n",
       "      <td>1.000000</td>\n",
       "      <td>416.000000</td>\n",
       "      <td>11999.000000</td>\n",
       "    </tr>\n",
       "  </tbody>\n",
       "</table>\n",
       "</div>"
      ],
      "text/plain": [
       "         object_id  last_session_creation_time  opted_in_to_mailing_list  \\\n",
       "count  12000.00000                8.823000e+03              12000.000000   \n",
       "mean    6000.50000                1.379279e+09                  0.249500   \n",
       "std     3464.24595                1.953116e+07                  0.432742   \n",
       "min        1.00000                1.338452e+09                  0.000000   \n",
       "25%     3000.75000                1.363195e+09                  0.000000   \n",
       "50%     6000.50000                1.382888e+09                  0.000000   \n",
       "75%     9000.25000                1.398443e+09                  0.000000   \n",
       "max    12000.00000                1.402067e+09                  1.000000   \n",
       "\n",
       "       enabled_for_marketing_drip        org_id  invited_by_user_id  \n",
       "count                12000.000000  12000.000000         6417.000000  \n",
       "mean                     0.149333    141.884583         5962.957145  \n",
       "std                      0.356432    124.056723         3383.761968  \n",
       "min                      0.000000      0.000000            3.000000  \n",
       "25%                      0.000000     29.000000         3058.000000  \n",
       "50%                      0.000000    108.000000         5954.000000  \n",
       "75%                      0.000000    238.250000         8817.000000  \n",
       "max                      1.000000    416.000000        11999.000000  "
      ]
     },
     "execution_count": 4,
     "metadata": {},
     "output_type": "execute_result"
    }
   ],
   "source": [
    "data_user.describe()"
   ]
  },
  {
   "cell_type": "code",
   "execution_count": 5,
   "metadata": {},
   "outputs": [
    {
     "data": {
      "text/html": [
       "<div>\n",
       "<style scoped>\n",
       "    .dataframe tbody tr th:only-of-type {\n",
       "        vertical-align: middle;\n",
       "    }\n",
       "\n",
       "    .dataframe tbody tr th {\n",
       "        vertical-align: top;\n",
       "    }\n",
       "\n",
       "    .dataframe thead th {\n",
       "        text-align: right;\n",
       "    }\n",
       "</style>\n",
       "<table border=\"1\" class=\"dataframe\">\n",
       "  <thead>\n",
       "    <tr style=\"text-align: right;\">\n",
       "      <th></th>\n",
       "      <th>time_stamp</th>\n",
       "      <th>user_id</th>\n",
       "      <th>visited</th>\n",
       "    </tr>\n",
       "  </thead>\n",
       "  <tbody>\n",
       "    <tr>\n",
       "      <th>0</th>\n",
       "      <td>2014-04-22 03:53:30</td>\n",
       "      <td>1</td>\n",
       "      <td>1</td>\n",
       "    </tr>\n",
       "    <tr>\n",
       "      <th>1</th>\n",
       "      <td>2013-11-15 03:45:04</td>\n",
       "      <td>2</td>\n",
       "      <td>1</td>\n",
       "    </tr>\n",
       "    <tr>\n",
       "      <th>2</th>\n",
       "      <td>2013-11-29 03:45:04</td>\n",
       "      <td>2</td>\n",
       "      <td>1</td>\n",
       "    </tr>\n",
       "    <tr>\n",
       "      <th>3</th>\n",
       "      <td>2013-12-09 03:45:04</td>\n",
       "      <td>2</td>\n",
       "      <td>1</td>\n",
       "    </tr>\n",
       "    <tr>\n",
       "      <th>4</th>\n",
       "      <td>2013-12-25 03:45:04</td>\n",
       "      <td>2</td>\n",
       "      <td>1</td>\n",
       "    </tr>\n",
       "  </tbody>\n",
       "</table>\n",
       "</div>"
      ],
      "text/plain": [
       "            time_stamp  user_id  visited\n",
       "0  2014-04-22 03:53:30        1        1\n",
       "1  2013-11-15 03:45:04        2        1\n",
       "2  2013-11-29 03:45:04        2        1\n",
       "3  2013-12-09 03:45:04        2        1\n",
       "4  2013-12-25 03:45:04        2        1"
      ]
     },
     "execution_count": 5,
     "metadata": {},
     "output_type": "execute_result"
    }
   ],
   "source": [
    "data_user_eng=pd.read_csv('takehome_user_engagement.csv', encoding='cp1252')\n",
    "data_user_eng.head()"
   ]
  },
  {
   "cell_type": "code",
   "execution_count": 6,
   "metadata": {},
   "outputs": [
    {
     "name": "stdout",
     "output_type": "stream",
     "text": [
      "<class 'pandas.core.frame.DataFrame'>\n",
      "RangeIndex: 207917 entries, 0 to 207916\n",
      "Data columns (total 3 columns):\n",
      "time_stamp    207917 non-null object\n",
      "user_id       207917 non-null int64\n",
      "visited       207917 non-null int64\n",
      "dtypes: int64(2), object(1)\n",
      "memory usage: 4.8+ MB\n"
     ]
    }
   ],
   "source": [
    "data_user_eng.info()"
   ]
  },
  {
   "cell_type": "code",
   "execution_count": 7,
   "metadata": {},
   "outputs": [
    {
     "data": {
      "text/html": [
       "<div>\n",
       "<style scoped>\n",
       "    .dataframe tbody tr th:only-of-type {\n",
       "        vertical-align: middle;\n",
       "    }\n",
       "\n",
       "    .dataframe tbody tr th {\n",
       "        vertical-align: top;\n",
       "    }\n",
       "\n",
       "    .dataframe thead th {\n",
       "        text-align: right;\n",
       "    }\n",
       "</style>\n",
       "<table border=\"1\" class=\"dataframe\">\n",
       "  <thead>\n",
       "    <tr style=\"text-align: right;\">\n",
       "      <th></th>\n",
       "      <th>user_id</th>\n",
       "      <th>visited</th>\n",
       "    </tr>\n",
       "  </thead>\n",
       "  <tbody>\n",
       "    <tr>\n",
       "      <th>count</th>\n",
       "      <td>207917.000000</td>\n",
       "      <td>207917.0</td>\n",
       "    </tr>\n",
       "    <tr>\n",
       "      <th>mean</th>\n",
       "      <td>5913.314197</td>\n",
       "      <td>1.0</td>\n",
       "    </tr>\n",
       "    <tr>\n",
       "      <th>std</th>\n",
       "      <td>3394.941674</td>\n",
       "      <td>0.0</td>\n",
       "    </tr>\n",
       "    <tr>\n",
       "      <th>min</th>\n",
       "      <td>1.000000</td>\n",
       "      <td>1.0</td>\n",
       "    </tr>\n",
       "    <tr>\n",
       "      <th>25%</th>\n",
       "      <td>3087.000000</td>\n",
       "      <td>1.0</td>\n",
       "    </tr>\n",
       "    <tr>\n",
       "      <th>50%</th>\n",
       "      <td>5682.000000</td>\n",
       "      <td>1.0</td>\n",
       "    </tr>\n",
       "    <tr>\n",
       "      <th>75%</th>\n",
       "      <td>8944.000000</td>\n",
       "      <td>1.0</td>\n",
       "    </tr>\n",
       "    <tr>\n",
       "      <th>max</th>\n",
       "      <td>12000.000000</td>\n",
       "      <td>1.0</td>\n",
       "    </tr>\n",
       "  </tbody>\n",
       "</table>\n",
       "</div>"
      ],
      "text/plain": [
       "             user_id   visited\n",
       "count  207917.000000  207917.0\n",
       "mean     5913.314197       1.0\n",
       "std      3394.941674       0.0\n",
       "min         1.000000       1.0\n",
       "25%      3087.000000       1.0\n",
       "50%      5682.000000       1.0\n",
       "75%      8944.000000       1.0\n",
       "max     12000.000000       1.0"
      ]
     },
     "execution_count": 7,
     "metadata": {},
     "output_type": "execute_result"
    }
   ],
   "source": [
    "data_user_eng.describe()"
   ]
  },
  {
   "cell_type": "markdown",
   "metadata": {},
   "source": [
    "### Processing data\n",
    "#### data_user "
   ]
  },
  {
   "cell_type": "markdown",
   "metadata": {},
   "source": [
    "- The date, year, month, day, hour and day of the week from datetime creation data will be generate.\n",
    "- New data named **invited**: shows whether an user has been invited by other users or not\n",
    "- New data named **group_count**: the number of users in each org_id group"
   ]
  },
  {
   "cell_type": "code",
   "execution_count": 8,
   "metadata": {},
   "outputs": [],
   "source": [
    "data_user.creation_time=pd.to_datetime(data_user.creation_time)\n",
    "\n",
    "data_user['invited']=data_user.invited_by_user_id.apply(lambda x: 0 if np.isnan(x) else 1)\n",
    "data_user['creation_date']=data_user.creation_time.apply(lambda x: x.date())    \n",
    "data_user['creation_year']=data_user.creation_time.apply(lambda x: x.year)\n",
    "data_user['creation_month']=data_user.creation_time.apply(lambda x: x.month)\n",
    "data_user['creation_day']=data_user.creation_time.apply(lambda x: x.day)\n",
    "data_user['creation_hour']=data_user.creation_time.apply(lambda x: x.hour)\n",
    "data_user['creation_dow']=data_user.creation_time.apply(lambda x: x.weekday())    \n",
    "\n",
    "data_user=data_user.join(pd.DataFrame({'group_count':data_user.groupby('org_id').org_id.count()}),on='org_id')\n"
   ]
  },
  {
   "cell_type": "code",
   "execution_count": 9,
   "metadata": {
    "scrolled": true
   },
   "outputs": [
    {
     "data": {
      "text/html": [
       "<div>\n",
       "<style scoped>\n",
       "    .dataframe tbody tr th:only-of-type {\n",
       "        vertical-align: middle;\n",
       "    }\n",
       "\n",
       "    .dataframe tbody tr th {\n",
       "        vertical-align: top;\n",
       "    }\n",
       "\n",
       "    .dataframe thead th {\n",
       "        text-align: right;\n",
       "    }\n",
       "</style>\n",
       "<table border=\"1\" class=\"dataframe\">\n",
       "  <thead>\n",
       "    <tr style=\"text-align: right;\">\n",
       "      <th></th>\n",
       "      <th>object_id</th>\n",
       "      <th>creation_time</th>\n",
       "      <th>name</th>\n",
       "      <th>email</th>\n",
       "      <th>creation_source</th>\n",
       "      <th>last_session_creation_time</th>\n",
       "      <th>opted_in_to_mailing_list</th>\n",
       "      <th>enabled_for_marketing_drip</th>\n",
       "      <th>org_id</th>\n",
       "      <th>invited_by_user_id</th>\n",
       "      <th>invited</th>\n",
       "      <th>creation_date</th>\n",
       "      <th>creation_year</th>\n",
       "      <th>creation_month</th>\n",
       "      <th>creation_day</th>\n",
       "      <th>creation_hour</th>\n",
       "      <th>creation_dow</th>\n",
       "      <th>group_count</th>\n",
       "    </tr>\n",
       "  </thead>\n",
       "  <tbody>\n",
       "    <tr>\n",
       "      <th>11995</th>\n",
       "      <td>11996</td>\n",
       "      <td>2013-09-06 06:14:15</td>\n",
       "      <td>Meier Sophia</td>\n",
       "      <td>SophiaMeier@gustr.com</td>\n",
       "      <td>ORG_INVITE</td>\n",
       "      <td>1.378448e+09</td>\n",
       "      <td>0</td>\n",
       "      <td>0</td>\n",
       "      <td>89</td>\n",
       "      <td>8263.0</td>\n",
       "      <td>1</td>\n",
       "      <td>2013-09-06</td>\n",
       "      <td>2013</td>\n",
       "      <td>9</td>\n",
       "      <td>6</td>\n",
       "      <td>6</td>\n",
       "      <td>4</td>\n",
       "      <td>40</td>\n",
       "    </tr>\n",
       "    <tr>\n",
       "      <th>11996</th>\n",
       "      <td>11997</td>\n",
       "      <td>2013-01-10 18:28:37</td>\n",
       "      <td>Fisher Amelie</td>\n",
       "      <td>AmelieFisher@gmail.com</td>\n",
       "      <td>SIGNUP_GOOGLE_AUTH</td>\n",
       "      <td>1.358275e+09</td>\n",
       "      <td>0</td>\n",
       "      <td>0</td>\n",
       "      <td>200</td>\n",
       "      <td>NaN</td>\n",
       "      <td>0</td>\n",
       "      <td>2013-01-10</td>\n",
       "      <td>2013</td>\n",
       "      <td>1</td>\n",
       "      <td>10</td>\n",
       "      <td>18</td>\n",
       "      <td>3</td>\n",
       "      <td>25</td>\n",
       "    </tr>\n",
       "    <tr>\n",
       "      <th>11997</th>\n",
       "      <td>11998</td>\n",
       "      <td>2014-04-27 12:45:16</td>\n",
       "      <td>Haynes Jake</td>\n",
       "      <td>JakeHaynes@cuvox.de</td>\n",
       "      <td>GUEST_INVITE</td>\n",
       "      <td>1.398603e+09</td>\n",
       "      <td>1</td>\n",
       "      <td>1</td>\n",
       "      <td>83</td>\n",
       "      <td>8074.0</td>\n",
       "      <td>1</td>\n",
       "      <td>2014-04-27</td>\n",
       "      <td>2014</td>\n",
       "      <td>4</td>\n",
       "      <td>27</td>\n",
       "      <td>12</td>\n",
       "      <td>6</td>\n",
       "      <td>27</td>\n",
       "    </tr>\n",
       "    <tr>\n",
       "      <th>11998</th>\n",
       "      <td>11999</td>\n",
       "      <td>2012-05-31 11:55:59</td>\n",
       "      <td>Faber Annett</td>\n",
       "      <td>mhaerzxp@iuxiw.com</td>\n",
       "      <td>PERSONAL_PROJECTS</td>\n",
       "      <td>1.338638e+09</td>\n",
       "      <td>0</td>\n",
       "      <td>0</td>\n",
       "      <td>6</td>\n",
       "      <td>NaN</td>\n",
       "      <td>0</td>\n",
       "      <td>2012-05-31</td>\n",
       "      <td>2012</td>\n",
       "      <td>5</td>\n",
       "      <td>31</td>\n",
       "      <td>11</td>\n",
       "      <td>3</td>\n",
       "      <td>138</td>\n",
       "    </tr>\n",
       "    <tr>\n",
       "      <th>11999</th>\n",
       "      <td>12000</td>\n",
       "      <td>2014-01-26 08:57:12</td>\n",
       "      <td>Lima Thaís</td>\n",
       "      <td>ThaisMeloLima@hotmail.com</td>\n",
       "      <td>SIGNUP</td>\n",
       "      <td>1.390727e+09</td>\n",
       "      <td>0</td>\n",
       "      <td>1</td>\n",
       "      <td>0</td>\n",
       "      <td>NaN</td>\n",
       "      <td>0</td>\n",
       "      <td>2014-01-26</td>\n",
       "      <td>2014</td>\n",
       "      <td>1</td>\n",
       "      <td>26</td>\n",
       "      <td>8</td>\n",
       "      <td>6</td>\n",
       "      <td>319</td>\n",
       "    </tr>\n",
       "  </tbody>\n",
       "</table>\n",
       "</div>"
      ],
      "text/plain": [
       "       object_id       creation_time           name  \\\n",
       "11995      11996 2013-09-06 06:14:15   Meier Sophia   \n",
       "11996      11997 2013-01-10 18:28:37  Fisher Amelie   \n",
       "11997      11998 2014-04-27 12:45:16    Haynes Jake   \n",
       "11998      11999 2012-05-31 11:55:59   Faber Annett   \n",
       "11999      12000 2014-01-26 08:57:12     Lima Thaís   \n",
       "\n",
       "                           email     creation_source  \\\n",
       "11995      SophiaMeier@gustr.com          ORG_INVITE   \n",
       "11996     AmelieFisher@gmail.com  SIGNUP_GOOGLE_AUTH   \n",
       "11997        JakeHaynes@cuvox.de        GUEST_INVITE   \n",
       "11998         mhaerzxp@iuxiw.com   PERSONAL_PROJECTS   \n",
       "11999  ThaisMeloLima@hotmail.com              SIGNUP   \n",
       "\n",
       "       last_session_creation_time  opted_in_to_mailing_list  \\\n",
       "11995                1.378448e+09                         0   \n",
       "11996                1.358275e+09                         0   \n",
       "11997                1.398603e+09                         1   \n",
       "11998                1.338638e+09                         0   \n",
       "11999                1.390727e+09                         0   \n",
       "\n",
       "       enabled_for_marketing_drip  org_id  invited_by_user_id  invited  \\\n",
       "11995                           0      89              8263.0        1   \n",
       "11996                           0     200                 NaN        0   \n",
       "11997                           1      83              8074.0        1   \n",
       "11998                           0       6                 NaN        0   \n",
       "11999                           1       0                 NaN        0   \n",
       "\n",
       "      creation_date  creation_year  creation_month  creation_day  \\\n",
       "11995    2013-09-06           2013               9             6   \n",
       "11996    2013-01-10           2013               1            10   \n",
       "11997    2014-04-27           2014               4            27   \n",
       "11998    2012-05-31           2012               5            31   \n",
       "11999    2014-01-26           2014               1            26   \n",
       "\n",
       "       creation_hour  creation_dow  group_count  \n",
       "11995              6             4           40  \n",
       "11996             18             3           25  \n",
       "11997             12             6           27  \n",
       "11998             11             3          138  \n",
       "11999              8             6          319  "
      ]
     },
     "execution_count": 9,
     "metadata": {},
     "output_type": "execute_result"
    }
   ],
   "source": [
    "data_user.tail()"
   ]
  },
  {
   "cell_type": "markdown",
   "metadata": {},
   "source": [
    "#### data_user_eng\n",
    "- generate date, year,month,day,hour and day of the week of the time_stamp \n",
    "- generate **num_act** : the number of activity for each user\n",
    "- generate **duration**: the number of the day between first entry and the last entry for every user\n",
    "- generate **rate_daily_log**: the number of entries  / the number of all entries for each day. rate_daily_log can show how much people were active in each day. "
   ]
  },
  {
   "cell_type": "code",
   "execution_count": 10,
   "metadata": {},
   "outputs": [],
   "source": [
    "data_user_eng.time_stamp=pd.to_datetime(data_user_eng.time_stamp)\n",
    "\n",
    "data_user_eng=data_user_eng.join(pd.DataFrame({'duration':data_user_eng.groupby(\"user_id\").time_stamp.last()\\\n",
    "                -data_user_eng.groupby(\"user_id\").time_stamp.first()}),on='user_id')\n",
    "\n",
    "data_user_eng=data_user_eng.join(pd.DataFrame({'num_act':data_user_eng.groupby(\"user_id\").user_id.count()}),on='user_id')\n",
    "\n",
    "data_user_eng.duration=data_user_eng.duration.apply(lambda x: x.days)\n",
    "data_user_eng['time_stamp_date']=data_user_eng.time_stamp.apply(lambda x: x.strftime('%Y-%m-%d'))\n",
    "data_user_eng['time_stamp_year']=data_user_eng.time_stamp.apply(lambda x: x.year)\n",
    "data_user_eng['time_stamp_month']=data_user_eng.time_stamp.apply(lambda x: x.month)\n",
    "data_user_eng['time_stamp_day']=data_user_eng.time_stamp.apply(lambda x: x.day)\n",
    "data_user_eng['time_stamp_hour']=data_user_eng.time_stamp.apply(lambda x: x.hour)\n",
    "data_user_eng['time_stamp_dow']=data_user_eng.time_stamp.apply(lambda x: x.weekday())\n",
    " "
   ]
  },
  {
   "cell_type": "code",
   "execution_count": 11,
   "metadata": {},
   "outputs": [
    {
     "data": {
      "text/html": [
       "<div>\n",
       "<style scoped>\n",
       "    .dataframe tbody tr th:only-of-type {\n",
       "        vertical-align: middle;\n",
       "    }\n",
       "\n",
       "    .dataframe tbody tr th {\n",
       "        vertical-align: top;\n",
       "    }\n",
       "\n",
       "    .dataframe thead th {\n",
       "        text-align: right;\n",
       "    }\n",
       "</style>\n",
       "<table border=\"1\" class=\"dataframe\">\n",
       "  <thead>\n",
       "    <tr style=\"text-align: right;\">\n",
       "      <th></th>\n",
       "      <th>time_stamp</th>\n",
       "      <th>user_id</th>\n",
       "      <th>visited</th>\n",
       "      <th>duration</th>\n",
       "      <th>num_act</th>\n",
       "      <th>time_stamp_date</th>\n",
       "      <th>time_stamp_year</th>\n",
       "      <th>time_stamp_month</th>\n",
       "      <th>time_stamp_day</th>\n",
       "      <th>time_stamp_hour</th>\n",
       "      <th>time_stamp_dow</th>\n",
       "    </tr>\n",
       "  </thead>\n",
       "  <tbody>\n",
       "  </tbody>\n",
       "</table>\n",
       "</div>"
      ],
      "text/plain": [
       "Empty DataFrame\n",
       "Columns: [time_stamp, user_id, visited, duration, num_act, time_stamp_date, time_stamp_year, time_stamp_month, time_stamp_day, time_stamp_hour, time_stamp_dow]\n",
       "Index: []"
      ]
     },
     "execution_count": 11,
     "metadata": {},
     "output_type": "execute_result"
    }
   ],
   "source": [
    "# Some user_id s are missing for example:\n",
    "data_user_eng.loc[data_user_eng.user_id==8]"
   ]
  },
  {
   "cell_type": "code",
   "execution_count": 12,
   "metadata": {},
   "outputs": [
    {
     "data": {
      "text/plain": [
       "user_id\n",
       "1   2014-04-22 03:53:30\n",
       "2   2014-03-31 03:45:04\n",
       "3   2013-03-19 23:14:52\n",
       "4   2013-05-22 08:09:28\n",
       "5   2013-01-22 10:14:20\n",
       "Name: time_stamp, dtype: datetime64[ns]"
      ]
     },
     "execution_count": 12,
     "metadata": {},
     "output_type": "execute_result"
    }
   ],
   "source": [
    "data_user_eng.groupby(\"user_id\").time_stamp.last().head()"
   ]
  },
  {
   "cell_type": "code",
   "execution_count": 13,
   "metadata": {},
   "outputs": [
    {
     "data": {
      "text/plain": [
       "user_id\n",
       "1   2014-04-22 03:53:30\n",
       "2   2013-11-15 03:45:04\n",
       "3   2013-03-19 23:14:52\n",
       "4   2013-05-22 08:09:28\n",
       "5   2013-01-22 10:14:20\n",
       "Name: time_stamp, dtype: datetime64[ns]"
      ]
     },
     "execution_count": 13,
     "metadata": {},
     "output_type": "execute_result"
    }
   ],
   "source": [
    "data_user_eng.groupby(\"user_id\").time_stamp.first().head()"
   ]
  },
  {
   "cell_type": "code",
   "execution_count": 14,
   "metadata": {},
   "outputs": [],
   "source": [
    "data_user_eng=data_user_eng.join(pd.DataFrame({'rate_daily_log':data_user_eng.groupby('time_stamp_date').\\\n",
    "                                               time_stamp.count()/data_user_eng.time_stamp_date.nunique()}),on='time_stamp_date')\n",
    "\n"
   ]
  },
  {
   "cell_type": "code",
   "execution_count": 15,
   "metadata": {},
   "outputs": [
    {
     "data": {
      "text/html": [
       "<div>\n",
       "<style scoped>\n",
       "    .dataframe tbody tr th:only-of-type {\n",
       "        vertical-align: middle;\n",
       "    }\n",
       "\n",
       "    .dataframe tbody tr th {\n",
       "        vertical-align: top;\n",
       "    }\n",
       "\n",
       "    .dataframe thead th {\n",
       "        text-align: right;\n",
       "    }\n",
       "</style>\n",
       "<table border=\"1\" class=\"dataframe\">\n",
       "  <thead>\n",
       "    <tr style=\"text-align: right;\">\n",
       "      <th></th>\n",
       "      <th>time_stamp</th>\n",
       "      <th>user_id</th>\n",
       "      <th>visited</th>\n",
       "      <th>duration</th>\n",
       "      <th>num_act</th>\n",
       "      <th>time_stamp_date</th>\n",
       "      <th>time_stamp_year</th>\n",
       "      <th>time_stamp_month</th>\n",
       "      <th>time_stamp_day</th>\n",
       "      <th>time_stamp_hour</th>\n",
       "      <th>time_stamp_dow</th>\n",
       "      <th>rate_daily_log</th>\n",
       "    </tr>\n",
       "  </thead>\n",
       "  <tbody>\n",
       "    <tr>\n",
       "      <th>0</th>\n",
       "      <td>2014-04-22 03:53:30</td>\n",
       "      <td>1</td>\n",
       "      <td>1</td>\n",
       "      <td>0</td>\n",
       "      <td>1</td>\n",
       "      <td>2014-04-22</td>\n",
       "      <td>2014</td>\n",
       "      <td>4</td>\n",
       "      <td>22</td>\n",
       "      <td>3</td>\n",
       "      <td>1</td>\n",
       "      <td>0.861413</td>\n",
       "    </tr>\n",
       "    <tr>\n",
       "      <th>1</th>\n",
       "      <td>2013-11-15 03:45:04</td>\n",
       "      <td>2</td>\n",
       "      <td>1</td>\n",
       "      <td>136</td>\n",
       "      <td>14</td>\n",
       "      <td>2013-11-15</td>\n",
       "      <td>2013</td>\n",
       "      <td>11</td>\n",
       "      <td>15</td>\n",
       "      <td>3</td>\n",
       "      <td>4</td>\n",
       "      <td>0.604620</td>\n",
       "    </tr>\n",
       "    <tr>\n",
       "      <th>2</th>\n",
       "      <td>2013-11-29 03:45:04</td>\n",
       "      <td>2</td>\n",
       "      <td>1</td>\n",
       "      <td>136</td>\n",
       "      <td>14</td>\n",
       "      <td>2013-11-29</td>\n",
       "      <td>2013</td>\n",
       "      <td>11</td>\n",
       "      <td>29</td>\n",
       "      <td>3</td>\n",
       "      <td>4</td>\n",
       "      <td>0.610054</td>\n",
       "    </tr>\n",
       "    <tr>\n",
       "      <th>3</th>\n",
       "      <td>2013-12-09 03:45:04</td>\n",
       "      <td>2</td>\n",
       "      <td>1</td>\n",
       "      <td>136</td>\n",
       "      <td>14</td>\n",
       "      <td>2013-12-09</td>\n",
       "      <td>2013</td>\n",
       "      <td>12</td>\n",
       "      <td>9</td>\n",
       "      <td>3</td>\n",
       "      <td>0</td>\n",
       "      <td>0.627717</td>\n",
       "    </tr>\n",
       "    <tr>\n",
       "      <th>4</th>\n",
       "      <td>2013-12-25 03:45:04</td>\n",
       "      <td>2</td>\n",
       "      <td>1</td>\n",
       "      <td>136</td>\n",
       "      <td>14</td>\n",
       "      <td>2013-12-25</td>\n",
       "      <td>2013</td>\n",
       "      <td>12</td>\n",
       "      <td>25</td>\n",
       "      <td>3</td>\n",
       "      <td>2</td>\n",
       "      <td>0.691576</td>\n",
       "    </tr>\n",
       "  </tbody>\n",
       "</table>\n",
       "</div>"
      ],
      "text/plain": [
       "           time_stamp  user_id  visited  duration  num_act time_stamp_date  \\\n",
       "0 2014-04-22 03:53:30        1        1         0        1      2014-04-22   \n",
       "1 2013-11-15 03:45:04        2        1       136       14      2013-11-15   \n",
       "2 2013-11-29 03:45:04        2        1       136       14      2013-11-29   \n",
       "3 2013-12-09 03:45:04        2        1       136       14      2013-12-09   \n",
       "4 2013-12-25 03:45:04        2        1       136       14      2013-12-25   \n",
       "\n",
       "   time_stamp_year  time_stamp_month  time_stamp_day  time_stamp_hour  \\\n",
       "0             2014                 4              22                3   \n",
       "1             2013                11              15                3   \n",
       "2             2013                11              29                3   \n",
       "3             2013                12               9                3   \n",
       "4             2013                12              25                3   \n",
       "\n",
       "   time_stamp_dow  rate_daily_log  \n",
       "0               1        0.861413  \n",
       "1               4        0.604620  \n",
       "2               4        0.610054  \n",
       "3               0        0.627717  \n",
       "4               2        0.691576  "
      ]
     },
     "execution_count": 15,
     "metadata": {},
     "output_type": "execute_result"
    }
   ],
   "source": [
    "data_user_eng.head() "
   ]
  },
  {
   "cell_type": "markdown",
   "metadata": {},
   "source": [
    "## Visualization"
   ]
  },
  {
   "cell_type": "code",
   "execution_count": 16,
   "metadata": {},
   "outputs": [
    {
     "data": {
      "text/html": [
       "<div>\n",
       "<style scoped>\n",
       "    .dataframe tbody tr th:only-of-type {\n",
       "        vertical-align: middle;\n",
       "    }\n",
       "\n",
       "    .dataframe tbody tr th {\n",
       "        vertical-align: top;\n",
       "    }\n",
       "\n",
       "    .dataframe thead th {\n",
       "        text-align: right;\n",
       "    }\n",
       "</style>\n",
       "<table border=\"1\" class=\"dataframe\">\n",
       "  <thead>\n",
       "    <tr style=\"text-align: right;\">\n",
       "      <th></th>\n",
       "      <th>object_id</th>\n",
       "      <th>creation_time</th>\n",
       "      <th>name</th>\n",
       "      <th>email</th>\n",
       "      <th>creation_source</th>\n",
       "      <th>last_session_creation_time</th>\n",
       "      <th>opted_in_to_mailing_list</th>\n",
       "      <th>enabled_for_marketing_drip</th>\n",
       "      <th>org_id</th>\n",
       "      <th>invited_by_user_id</th>\n",
       "      <th>invited</th>\n",
       "      <th>creation_date</th>\n",
       "      <th>creation_year</th>\n",
       "      <th>creation_month</th>\n",
       "      <th>creation_day</th>\n",
       "      <th>creation_hour</th>\n",
       "      <th>creation_dow</th>\n",
       "      <th>group_count</th>\n",
       "    </tr>\n",
       "  </thead>\n",
       "  <tbody>\n",
       "    <tr>\n",
       "      <th>0</th>\n",
       "      <td>1</td>\n",
       "      <td>2014-04-22 03:53:30</td>\n",
       "      <td>Clausen August</td>\n",
       "      <td>AugustCClausen@yahoo.com</td>\n",
       "      <td>GUEST_INVITE</td>\n",
       "      <td>1.398139e+09</td>\n",
       "      <td>1</td>\n",
       "      <td>0</td>\n",
       "      <td>11</td>\n",
       "      <td>10803.0</td>\n",
       "      <td>1</td>\n",
       "      <td>2014-04-22</td>\n",
       "      <td>2014</td>\n",
       "      <td>4</td>\n",
       "      <td>22</td>\n",
       "      <td>3</td>\n",
       "      <td>1</td>\n",
       "      <td>75</td>\n",
       "    </tr>\n",
       "    <tr>\n",
       "      <th>1</th>\n",
       "      <td>2</td>\n",
       "      <td>2013-11-15 03:45:04</td>\n",
       "      <td>Poole Matthew</td>\n",
       "      <td>MatthewPoole@gustr.com</td>\n",
       "      <td>ORG_INVITE</td>\n",
       "      <td>1.396238e+09</td>\n",
       "      <td>0</td>\n",
       "      <td>0</td>\n",
       "      <td>1</td>\n",
       "      <td>316.0</td>\n",
       "      <td>1</td>\n",
       "      <td>2013-11-15</td>\n",
       "      <td>2013</td>\n",
       "      <td>11</td>\n",
       "      <td>15</td>\n",
       "      <td>3</td>\n",
       "      <td>4</td>\n",
       "      <td>233</td>\n",
       "    </tr>\n",
       "  </tbody>\n",
       "</table>\n",
       "</div>"
      ],
      "text/plain": [
       "   object_id       creation_time            name                     email  \\\n",
       "0          1 2014-04-22 03:53:30  Clausen August  AugustCClausen@yahoo.com   \n",
       "1          2 2013-11-15 03:45:04   Poole Matthew    MatthewPoole@gustr.com   \n",
       "\n",
       "  creation_source  last_session_creation_time  opted_in_to_mailing_list  \\\n",
       "0    GUEST_INVITE                1.398139e+09                         1   \n",
       "1      ORG_INVITE                1.396238e+09                         0   \n",
       "\n",
       "   enabled_for_marketing_drip  org_id  invited_by_user_id  invited  \\\n",
       "0                           0      11             10803.0        1   \n",
       "1                           0       1               316.0        1   \n",
       "\n",
       "  creation_date  creation_year  creation_month  creation_day  creation_hour  \\\n",
       "0    2014-04-22           2014               4            22              3   \n",
       "1    2013-11-15           2013              11            15              3   \n",
       "\n",
       "   creation_dow  group_count  \n",
       "0             1           75  \n",
       "1             4          233  "
      ]
     },
     "execution_count": 16,
     "metadata": {},
     "output_type": "execute_result"
    }
   ],
   "source": [
    "data_user.head(2)"
   ]
  },
  {
   "cell_type": "code",
   "execution_count": 17,
   "metadata": {},
   "outputs": [
    {
     "data": {
      "image/png": "[encoded data removed]",
      "text/plain": [
       "<Figure size 1440x2520 with 8 Axes>"
      ]
     },
     "metadata": {},
     "output_type": "display_data"
    }
   ],
   "source": [
    "#User data\n",
    "fig,axes=plt.subplots(4,2,figsize=(20,35))\n",
    "\n",
    "sns.countplot(data_user.creation_source,ax=axes[0,0])\n",
    "axes[0,0].set_title('Histogram of the sources')\n",
    "axes[0,0].set_xlabel('Sources')\n",
    "sns.countplot(data_user.opted_in_to_mailing_list,ax=axes[0,1])\n",
    "axes[0,1].set_title('Histogram of mailing list option')\n",
    "axes[0,1].set_xlabel('mailing list option')\n",
    "sns.countplot(data_user.enabled_for_marketing_drip,ax=axes[1,0])\n",
    "axes[1,0].set_title('Histogram of enable for marketing')\n",
    "axes[1,0].set_xlabel('Enable for marketing')\n",
    "sns.countplot(data_user.invited,ax=axes[1,1])\n",
    "axes[1,1].set_title('Histogram of number of invited or uninvited peopel')\n",
    "axes[1,1].set_xlabel('Invited')\n",
    "sns.countplot(data_user.creation_year,ax=axes[2,0])\n",
    "axes[2,0].set_title('Histogram of the creation year')\n",
    "axes[2,0].set_xlabel('Year')\n",
    "sns.countplot(data_user.creation_month,ax=axes[2,1])\n",
    "axes[2,1].set_title('Histogram of the creation month')\n",
    "axes[2,1].set_xlabel('Month')\n",
    "sns.countplot(data_user.creation_dow,ax=axes[3,0])\n",
    "axes[3,0].set_title('Histogram of the creation day of the week')\n",
    "label=['Mon','Tue','Wed','Thr','Fri','Sat','Sun']\n",
    "axes[3,0].set_xlabel('Day of the week')\n",
    "axes[3,0].set_xticklabels(label)\n",
    "sns.countplot(data_user.creation_hour,ax=axes[3,1])\n",
    "axes[3,1].set_title('Histogram of the creation hour')\n",
    "axes[3,1].set_xlabel('Hour')\n",
    "\n",
    "\n",
    "plt.show()\n",
    "plt.close(fig)"
   ]
  },
  {
   "cell_type": "code",
   "execution_count": 18,
   "metadata": {},
   "outputs": [
    {
     "data": {
      "text/plain": [
       "2014-05-30    71\n",
       "2014-05-29    49\n",
       "2014-05-28    45\n",
       "2014-05-21    42\n",
       "2014-05-27    41\n",
       "2014-05-24    39\n",
       "2014-05-26    39\n",
       "2014-05-25    37\n",
       "2014-05-23    35\n",
       "2014-05-16    35\n",
       "2014-04-27    34\n",
       "2014-05-18    34\n",
       "2014-03-03    33\n",
       "2014-05-13    33\n",
       "2014-03-14    32\n",
       "2014-05-22    32\n",
       "2014-04-17    31\n",
       "2013-03-14    31\n",
       "2014-05-14    31\n",
       "2014-05-03    31\n",
       "Name: creation_date, dtype: int64"
      ]
     },
     "execution_count": 18,
     "metadata": {},
     "output_type": "execute_result"
    }
   ],
   "source": [
    "data_user.creation_date.value_counts().sort_values(ascending=False)[0:20]"
   ]
  },
  {
   "cell_type": "code",
   "execution_count": 19,
   "metadata": {},
   "outputs": [
    {
     "data": {
      "text/plain": [
       "0     319\n",
       "1     233\n",
       "2     201\n",
       "3     168\n",
       "4     159\n",
       "6     138\n",
       "5     128\n",
       "9     124\n",
       "7     119\n",
       "10    104\n",
       "8      97\n",
       "14     87\n",
       "11     75\n",
       "12     75\n",
       "17     74\n",
       "18     73\n",
       "13     72\n",
       "16     72\n",
       "20     68\n",
       "15     64\n",
       "Name: org_id, dtype: int64"
      ]
     },
     "execution_count": 19,
     "metadata": {},
     "output_type": "execute_result"
    }
   ],
   "source": [
    "data_user.org_id.value_counts().sort_values(ascending=False)[0:20]"
   ]
  },
  {
   "cell_type": "markdown",
   "metadata": {},
   "source": [
    "#### results:\n",
    "- Above graphs show most of people intend to no to be added in the marketing and mailing list. \n",
    "- There are more people signed up becasue of an organization were invited them\n",
    "- There are more creation in second year, 2013\n",
    "- No significant changes have been seen in terms of day and time of the day. However, the number of creations increases in May, espicially toward to the end of May. \n",
    "- Looking at org_id shows organization with lower id consist of higher number of people "
   ]
  },
  {
   "cell_type": "code",
   "execution_count": null,
   "metadata": {},
   "outputs": [],
   "source": []
  },
  {
   "cell_type": "code",
   "execution_count": 20,
   "metadata": {},
   "outputs": [
    {
     "data": {
      "text/html": [
       "<div>\n",
       "<style scoped>\n",
       "    .dataframe tbody tr th:only-of-type {\n",
       "        vertical-align: middle;\n",
       "    }\n",
       "\n",
       "    .dataframe tbody tr th {\n",
       "        vertical-align: top;\n",
       "    }\n",
       "\n",
       "    .dataframe thead th {\n",
       "        text-align: right;\n",
       "    }\n",
       "</style>\n",
       "<table border=\"1\" class=\"dataframe\">\n",
       "  <thead>\n",
       "    <tr style=\"text-align: right;\">\n",
       "      <th></th>\n",
       "      <th>time_stamp</th>\n",
       "      <th>user_id</th>\n",
       "      <th>visited</th>\n",
       "      <th>duration</th>\n",
       "      <th>num_act</th>\n",
       "      <th>time_stamp_date</th>\n",
       "      <th>time_stamp_year</th>\n",
       "      <th>time_stamp_month</th>\n",
       "      <th>time_stamp_day</th>\n",
       "      <th>time_stamp_hour</th>\n",
       "      <th>time_stamp_dow</th>\n",
       "      <th>rate_daily_log</th>\n",
       "    </tr>\n",
       "  </thead>\n",
       "  <tbody>\n",
       "    <tr>\n",
       "      <th>0</th>\n",
       "      <td>2014-04-22 03:53:30</td>\n",
       "      <td>1</td>\n",
       "      <td>1</td>\n",
       "      <td>0</td>\n",
       "      <td>1</td>\n",
       "      <td>2014-04-22</td>\n",
       "      <td>2014</td>\n",
       "      <td>4</td>\n",
       "      <td>22</td>\n",
       "      <td>3</td>\n",
       "      <td>1</td>\n",
       "      <td>0.861413</td>\n",
       "    </tr>\n",
       "    <tr>\n",
       "      <th>1</th>\n",
       "      <td>2013-11-15 03:45:04</td>\n",
       "      <td>2</td>\n",
       "      <td>1</td>\n",
       "      <td>136</td>\n",
       "      <td>14</td>\n",
       "      <td>2013-11-15</td>\n",
       "      <td>2013</td>\n",
       "      <td>11</td>\n",
       "      <td>15</td>\n",
       "      <td>3</td>\n",
       "      <td>4</td>\n",
       "      <td>0.604620</td>\n",
       "    </tr>\n",
       "  </tbody>\n",
       "</table>\n",
       "</div>"
      ],
      "text/plain": [
       "           time_stamp  user_id  visited  duration  num_act time_stamp_date  \\\n",
       "0 2014-04-22 03:53:30        1        1         0        1      2014-04-22   \n",
       "1 2013-11-15 03:45:04        2        1       136       14      2013-11-15   \n",
       "\n",
       "   time_stamp_year  time_stamp_month  time_stamp_day  time_stamp_hour  \\\n",
       "0             2014                 4              22                3   \n",
       "1             2013                11              15                3   \n",
       "\n",
       "   time_stamp_dow  rate_daily_log  \n",
       "0               1        0.861413  \n",
       "1               4        0.604620  "
      ]
     },
     "execution_count": 20,
     "metadata": {},
     "output_type": "execute_result"
    }
   ],
   "source": [
    "data_user_eng.head(2)"
   ]
  },
  {
   "cell_type": "code",
   "execution_count": 21,
   "metadata": {},
   "outputs": [
    {
     "data": {
      "image/png": "[encoded data removed]",
      "text/plain": [
       "<Figure size 1440x1440 with 4 Axes>"
      ]
     },
     "metadata": {},
     "output_type": "display_data"
    }
   ],
   "source": [
    "#User data\n",
    "fig,axes=plt.subplots(2,2,figsize=(20,20))\n",
    "\n",
    "sns.distplot(data_user_eng.rate_daily_log,bins=50,kde=False,ax=axes[0,0],color='g')\n",
    "axes[0,0].set_title('Histogram of reletive daily activities')\n",
    "axes[0,0].set_xlabel('Activities')\n",
    "sns.countplot(data_user_eng.time_stamp_year,ax=axes[0,1])\n",
    "axes[0,1].set_title('Histogram of the acivity year')\n",
    "axes[0,1].set_xlabel('Year')\n",
    "\n",
    "sns.countplot(data_user_eng.time_stamp_month,ax=axes[1,0])\n",
    "label = ['January', 'February', 'March', 'April', 'May', 'June', 'July',\n",
    "         'August', 'September', 'October', 'November', 'December']\n",
    "axes[1,0].set_title('Histogram of the acivity month')\n",
    "axes[1,0].set_xlabel('Month')\n",
    "axes[1,0].set_xticklabels(label,rotation=30)\n",
    "\n",
    "sns.countplot(data_user_eng.time_stamp_dow,ax=axes[1,1])\n",
    "axes[1,1].set_title('Histogram of the acivity day of the week')\n",
    "label=['Mon','Tue','Wed','Thr','Fri','Sat','Sun']\n",
    "axes[1,1].set_xlabel('Day of the week')\n",
    "axes[1,1].set_xticklabels(label)\n",
    "\n",
    "plt.show()\n",
    "plt.close(fig)"
   ]
  },
  {
   "cell_type": "code",
   "execution_count": 22,
   "metadata": {},
   "outputs": [
    {
     "data": {
      "text/plain": [
       "Text(0.5, 0, 'Hour')"
      ]
     },
     "execution_count": 22,
     "metadata": {},
     "output_type": "execute_result"
    },
    {
     "data": {
      "image/png": "[encoded data removed]",
      "text/plain": [
       "<Figure size 1440x576 with 1 Axes>"
      ]
     },
     "metadata": {},
     "output_type": "display_data"
    }
   ],
   "source": [
    "fig,ax1=plt.subplots(1,1,figsize=(20,8))\n",
    "sns.countplot(data_user_eng.time_stamp_hour,ax=ax1)\n",
    "ax1.set_title('Histogram of the acivity hour')\n",
    "ax1.set_xlabel('Hour')\n"
   ]
  },
  {
   "cell_type": "code",
   "execution_count": 23,
   "metadata": {},
   "outputs": [
    {
     "data": {
      "text/plain": [
       "699    9758\n",
       "643    7592\n",
       "615    6560\n",
       "0      6235\n",
       "559    5853\n",
       "587    5278\n",
       "671    5252\n",
       "475    4235\n",
       "503    3571\n",
       "531    3528\n",
       "391    3359\n",
       "447    2863\n",
       "558    2439\n",
       "363    2396\n",
       "727    2013\n",
       "688    1989\n",
       "723    1987\n",
       "279    1950\n",
       "307    1824\n",
       "696    1704\n",
       "Name: duration, dtype: int64"
      ]
     },
     "execution_count": 23,
     "metadata": {},
     "output_type": "execute_result"
    }
   ],
   "source": [
    "data_user_eng.duration.value_counts().sort_values(ascending=False)[0:20]"
   ]
  },
  {
   "cell_type": "code",
   "execution_count": 24,
   "metadata": {},
   "outputs": [
    {
     "data": {
      "text/plain": [
       "1      6235\n",
       "463    1852\n",
       "304    1824\n",
       "217    1736\n",
       "326    1630\n",
       "487    1461\n",
       "291    1455\n",
       "289    1445\n",
       "319    1276\n",
       "308    1232\n",
       "408    1224\n",
       "406    1218\n",
       "405    1215\n",
       "243    1215\n",
       "237    1185\n",
       "229    1145\n",
       "374    1122\n",
       "272    1088\n",
       "271    1084\n",
       "361    1083\n",
       "Name: num_act, dtype: int64"
      ]
     },
     "execution_count": 24,
     "metadata": {},
     "output_type": "execute_result"
    }
   ],
   "source": [
    "data_user_eng.num_act.value_counts().sort_values(ascending=False)[0:20]"
   ]
  },
  {
   "cell_type": "markdown",
   "metadata": {},
   "source": [
    "#### Results:\n",
    "- There are more activities in second and third year and in May\n",
    "- Peopel intend to have long history of activies as most peopel have duration higher than 500 days\n",
    "- Despite poepel who only were active only for one day or just put there info, most peopel have number of acivity larger than 200."
   ]
  },
  {
   "cell_type": "markdown",
   "metadata": {},
   "source": [
    "### determining the dependent variable\n",
    "\n",
    "Based on project: Defining an \"adopted user\" as a user who has logged into the product on three separate days in at least one sevenday period. So:\n",
    "- find users who have less than 3 logs\n",
    "- users with more than the 3 logs\n",
    "    - search within a 7 days period\n",
    "    - if they are have 3 or more than 3 entries in different days, label them as adopted\n",
    "\n"
   ]
  },
  {
   "cell_type": "code",
   "execution_count": 25,
   "metadata": {},
   "outputs": [
    {
     "name": "stdout",
     "output_type": "stream",
     "text": [
      "Number non-adopted entries:  6281\n"
     ]
    }
   ],
   "source": [
    "data_user_eng[\"adopted\"]=data_user_eng.duration.astype(int).apply(lambda x: 0 if x<3 else np.nan)\n",
    "print('Number non-adopted entries: ',np.shape(data_user_eng.loc[data_user_eng[\"adopted\"]==0,:])[0])\n"
   ]
  },
  {
   "cell_type": "code",
   "execution_count": 26,
   "metadata": {},
   "outputs": [
    {
     "data": {
      "text/plain": [
       "201636"
      ]
     },
     "execution_count": 26,
     "metadata": {},
     "output_type": "execute_result"
    }
   ],
   "source": [
    "len(data_user_eng.loc[data_user_eng.adopted!=0,:].index.unique())"
   ]
  },
  {
   "cell_type": "code",
   "execution_count": 27,
   "metadata": {},
   "outputs": [
    {
     "data": {
      "text/html": [
       "<div>\n",
       "<style scoped>\n",
       "    .dataframe tbody tr th:only-of-type {\n",
       "        vertical-align: middle;\n",
       "    }\n",
       "\n",
       "    .dataframe tbody tr th {\n",
       "        vertical-align: top;\n",
       "    }\n",
       "\n",
       "    .dataframe thead th {\n",
       "        text-align: right;\n",
       "    }\n",
       "</style>\n",
       "<table border=\"1\" class=\"dataframe\">\n",
       "  <thead>\n",
       "    <tr style=\"text-align: right;\">\n",
       "      <th></th>\n",
       "      <th>time_stamp</th>\n",
       "      <th>user_id</th>\n",
       "      <th>visited</th>\n",
       "      <th>duration</th>\n",
       "      <th>num_act</th>\n",
       "      <th>time_stamp_date</th>\n",
       "      <th>time_stamp_year</th>\n",
       "      <th>time_stamp_month</th>\n",
       "      <th>time_stamp_day</th>\n",
       "      <th>time_stamp_hour</th>\n",
       "      <th>time_stamp_dow</th>\n",
       "      <th>rate_daily_log</th>\n",
       "      <th>adopted</th>\n",
       "    </tr>\n",
       "  </thead>\n",
       "  <tbody>\n",
       "    <tr>\n",
       "      <th>0</th>\n",
       "      <td>2014-04-22 03:53:30</td>\n",
       "      <td>1</td>\n",
       "      <td>1</td>\n",
       "      <td>0</td>\n",
       "      <td>1</td>\n",
       "      <td>2014-04-22</td>\n",
       "      <td>2014</td>\n",
       "      <td>4</td>\n",
       "      <td>22</td>\n",
       "      <td>3</td>\n",
       "      <td>1</td>\n",
       "      <td>0.861413</td>\n",
       "      <td>0.0</td>\n",
       "    </tr>\n",
       "    <tr>\n",
       "      <th>1</th>\n",
       "      <td>2013-11-15 03:45:04</td>\n",
       "      <td>2</td>\n",
       "      <td>1</td>\n",
       "      <td>136</td>\n",
       "      <td>14</td>\n",
       "      <td>2013-11-15</td>\n",
       "      <td>2013</td>\n",
       "      <td>11</td>\n",
       "      <td>15</td>\n",
       "      <td>3</td>\n",
       "      <td>4</td>\n",
       "      <td>0.604620</td>\n",
       "      <td>NaN</td>\n",
       "    </tr>\n",
       "    <tr>\n",
       "      <th>2</th>\n",
       "      <td>2013-11-29 03:45:04</td>\n",
       "      <td>2</td>\n",
       "      <td>1</td>\n",
       "      <td>136</td>\n",
       "      <td>14</td>\n",
       "      <td>2013-11-29</td>\n",
       "      <td>2013</td>\n",
       "      <td>11</td>\n",
       "      <td>29</td>\n",
       "      <td>3</td>\n",
       "      <td>4</td>\n",
       "      <td>0.610054</td>\n",
       "      <td>NaN</td>\n",
       "    </tr>\n",
       "    <tr>\n",
       "      <th>3</th>\n",
       "      <td>2013-12-09 03:45:04</td>\n",
       "      <td>2</td>\n",
       "      <td>1</td>\n",
       "      <td>136</td>\n",
       "      <td>14</td>\n",
       "      <td>2013-12-09</td>\n",
       "      <td>2013</td>\n",
       "      <td>12</td>\n",
       "      <td>9</td>\n",
       "      <td>3</td>\n",
       "      <td>0</td>\n",
       "      <td>0.627717</td>\n",
       "      <td>NaN</td>\n",
       "    </tr>\n",
       "    <tr>\n",
       "      <th>4</th>\n",
       "      <td>2013-12-25 03:45:04</td>\n",
       "      <td>2</td>\n",
       "      <td>1</td>\n",
       "      <td>136</td>\n",
       "      <td>14</td>\n",
       "      <td>2013-12-25</td>\n",
       "      <td>2013</td>\n",
       "      <td>12</td>\n",
       "      <td>25</td>\n",
       "      <td>3</td>\n",
       "      <td>2</td>\n",
       "      <td>0.691576</td>\n",
       "      <td>NaN</td>\n",
       "    </tr>\n",
       "  </tbody>\n",
       "</table>\n",
       "</div>"
      ],
      "text/plain": [
       "           time_stamp  user_id  visited  duration  num_act time_stamp_date  \\\n",
       "0 2014-04-22 03:53:30        1        1         0        1      2014-04-22   \n",
       "1 2013-11-15 03:45:04        2        1       136       14      2013-11-15   \n",
       "2 2013-11-29 03:45:04        2        1       136       14      2013-11-29   \n",
       "3 2013-12-09 03:45:04        2        1       136       14      2013-12-09   \n",
       "4 2013-12-25 03:45:04        2        1       136       14      2013-12-25   \n",
       "\n",
       "   time_stamp_year  time_stamp_month  time_stamp_day  time_stamp_hour  \\\n",
       "0             2014                 4              22                3   \n",
       "1             2013                11              15                3   \n",
       "2             2013                11              29                3   \n",
       "3             2013                12               9                3   \n",
       "4             2013                12              25                3   \n",
       "\n",
       "   time_stamp_dow  rate_daily_log  adopted  \n",
       "0               1        0.861413      0.0  \n",
       "1               4        0.604620      NaN  \n",
       "2               4        0.610054      NaN  \n",
       "3               0        0.627717      NaN  \n",
       "4               2        0.691576      NaN  "
      ]
     },
     "execution_count": 27,
     "metadata": {},
     "output_type": "execute_result"
    }
   ],
   "source": [
    "#user_id is the index, checking for user_id=10\n",
    "data_user_eng.head()"
   ]
  },
  {
   "cell_type": "code",
   "execution_count": 28,
   "metadata": {},
   "outputs": [],
   "source": [
    "\n",
    "def num_log(user):\n",
    "    result=0\n",
    "    count_log=0\n",
    "    itr=user.index[0]\n",
    "    #print(user)\n",
    "    while (count_log <3) & (itr<len(user.loc[:,'time_stamp'])):\n",
    "        location=((user.loc[:,'time_stamp']>=user.loc[itr,'time_stamp'])&\\\n",
    "                   (user.loc[:,'time_stamp']<user.loc[itr,'time_stamp']+timedelta(days=7)))\n",
    "        \n",
    "        count_log=location.sum()\n",
    "        #print(user.loc[location,'time_stamp'].dt.day.duplicated().any(),count_log)\n",
    "        if count_log >=3:\n",
    "            if not user.loc[location,'time_stamp'].dt.day.duplicated().any():\n",
    "                result=1\n",
    "            else: result=0\n",
    "        #print('Adopted:',itr,count_log,result)    \n",
    "        itr=itr+count_log\n",
    "    return result\n",
    "\n",
    "group=data_user_eng.loc[data_user_eng.adopted!=0,:].groupby('user_id')\n",
    "\n",
    "for i in group.groups:\n",
    "    section_user=group.get_group(i)\n",
    "    indx=np.where((data_user_eng.user_id==i)&(data_user_eng.adopted!=0))[0]\n",
    "    #print(i,section_user,indx)\n",
    "    data_user_eng.loc[indx,'adopted']=num_log(section_user)\n",
    "    \n"
   ]
  },
  {
   "cell_type": "code",
   "execution_count": 29,
   "metadata": {},
   "outputs": [
    {
     "data": {
      "text/html": [
       "<div>\n",
       "<style scoped>\n",
       "    .dataframe tbody tr th:only-of-type {\n",
       "        vertical-align: middle;\n",
       "    }\n",
       "\n",
       "    .dataframe tbody tr th {\n",
       "        vertical-align: top;\n",
       "    }\n",
       "\n",
       "    .dataframe thead th {\n",
       "        text-align: right;\n",
       "    }\n",
       "</style>\n",
       "<table border=\"1\" class=\"dataframe\">\n",
       "  <thead>\n",
       "    <tr style=\"text-align: right;\">\n",
       "      <th></th>\n",
       "      <th>time_stamp</th>\n",
       "      <th>user_id</th>\n",
       "      <th>visited</th>\n",
       "      <th>duration</th>\n",
       "      <th>num_act</th>\n",
       "      <th>time_stamp_date</th>\n",
       "      <th>time_stamp_year</th>\n",
       "      <th>time_stamp_month</th>\n",
       "      <th>time_stamp_day</th>\n",
       "      <th>time_stamp_hour</th>\n",
       "      <th>time_stamp_dow</th>\n",
       "      <th>rate_daily_log</th>\n",
       "      <th>adopted</th>\n",
       "    </tr>\n",
       "  </thead>\n",
       "  <tbody>\n",
       "    <tr>\n",
       "      <th>0</th>\n",
       "      <td>2014-04-22 03:53:30</td>\n",
       "      <td>1</td>\n",
       "      <td>1</td>\n",
       "      <td>0</td>\n",
       "      <td>1</td>\n",
       "      <td>2014-04-22</td>\n",
       "      <td>2014</td>\n",
       "      <td>4</td>\n",
       "      <td>22</td>\n",
       "      <td>3</td>\n",
       "      <td>1</td>\n",
       "      <td>0.861413</td>\n",
       "      <td>0.0</td>\n",
       "    </tr>\n",
       "    <tr>\n",
       "      <th>1</th>\n",
       "      <td>2013-11-15 03:45:04</td>\n",
       "      <td>2</td>\n",
       "      <td>1</td>\n",
       "      <td>136</td>\n",
       "      <td>14</td>\n",
       "      <td>2013-11-15</td>\n",
       "      <td>2013</td>\n",
       "      <td>11</td>\n",
       "      <td>15</td>\n",
       "      <td>3</td>\n",
       "      <td>4</td>\n",
       "      <td>0.604620</td>\n",
       "      <td>1.0</td>\n",
       "    </tr>\n",
       "    <tr>\n",
       "      <th>2</th>\n",
       "      <td>2013-11-29 03:45:04</td>\n",
       "      <td>2</td>\n",
       "      <td>1</td>\n",
       "      <td>136</td>\n",
       "      <td>14</td>\n",
       "      <td>2013-11-29</td>\n",
       "      <td>2013</td>\n",
       "      <td>11</td>\n",
       "      <td>29</td>\n",
       "      <td>3</td>\n",
       "      <td>4</td>\n",
       "      <td>0.610054</td>\n",
       "      <td>1.0</td>\n",
       "    </tr>\n",
       "    <tr>\n",
       "      <th>3</th>\n",
       "      <td>2013-12-09 03:45:04</td>\n",
       "      <td>2</td>\n",
       "      <td>1</td>\n",
       "      <td>136</td>\n",
       "      <td>14</td>\n",
       "      <td>2013-12-09</td>\n",
       "      <td>2013</td>\n",
       "      <td>12</td>\n",
       "      <td>9</td>\n",
       "      <td>3</td>\n",
       "      <td>0</td>\n",
       "      <td>0.627717</td>\n",
       "      <td>1.0</td>\n",
       "    </tr>\n",
       "    <tr>\n",
       "      <th>4</th>\n",
       "      <td>2013-12-25 03:45:04</td>\n",
       "      <td>2</td>\n",
       "      <td>1</td>\n",
       "      <td>136</td>\n",
       "      <td>14</td>\n",
       "      <td>2013-12-25</td>\n",
       "      <td>2013</td>\n",
       "      <td>12</td>\n",
       "      <td>25</td>\n",
       "      <td>3</td>\n",
       "      <td>2</td>\n",
       "      <td>0.691576</td>\n",
       "      <td>1.0</td>\n",
       "    </tr>\n",
       "  </tbody>\n",
       "</table>\n",
       "</div>"
      ],
      "text/plain": [
       "           time_stamp  user_id  visited  duration  num_act time_stamp_date  \\\n",
       "0 2014-04-22 03:53:30        1        1         0        1      2014-04-22   \n",
       "1 2013-11-15 03:45:04        2        1       136       14      2013-11-15   \n",
       "2 2013-11-29 03:45:04        2        1       136       14      2013-11-29   \n",
       "3 2013-12-09 03:45:04        2        1       136       14      2013-12-09   \n",
       "4 2013-12-25 03:45:04        2        1       136       14      2013-12-25   \n",
       "\n",
       "   time_stamp_year  time_stamp_month  time_stamp_day  time_stamp_hour  \\\n",
       "0             2014                 4              22                3   \n",
       "1             2013                11              15                3   \n",
       "2             2013                11              29                3   \n",
       "3             2013                12               9                3   \n",
       "4             2013                12              25                3   \n",
       "\n",
       "   time_stamp_dow  rate_daily_log  adopted  \n",
       "0               1        0.861413      0.0  \n",
       "1               4        0.604620      1.0  \n",
       "2               4        0.610054      1.0  \n",
       "3               0        0.627717      1.0  \n",
       "4               2        0.691576      1.0  "
      ]
     },
     "execution_count": 29,
     "metadata": {},
     "output_type": "execute_result"
    }
   ],
   "source": [
    "data_user_eng.head()"
   ]
  },
  {
   "cell_type": "code",
   "execution_count": 30,
   "metadata": {},
   "outputs": [
    {
     "data": {
      "text/plain": [
       "object_id                     False\n",
       "creation_time                 False\n",
       "name                          False\n",
       "email                         False\n",
       "creation_source               False\n",
       "last_session_creation_time     True\n",
       "opted_in_to_mailing_list      False\n",
       "enabled_for_marketing_drip    False\n",
       "org_id                        False\n",
       "invited_by_user_id             True\n",
       "invited                       False\n",
       "creation_date                 False\n",
       "creation_year                 False\n",
       "creation_month                False\n",
       "creation_day                  False\n",
       "creation_hour                 False\n",
       "creation_dow                  False\n",
       "group_count                   False\n",
       "dtype: bool"
      ]
     },
     "execution_count": 30,
     "metadata": {},
     "output_type": "execute_result"
    }
   ],
   "source": [
    "data_user.isnull().any()"
   ]
  },
  {
   "cell_type": "markdown",
   "metadata": {},
   "source": [
    "#### Cleaning data\n",
    "visited data in data_user_eng only got value of 1. so we can delete it."
   ]
  },
  {
   "cell_type": "code",
   "execution_count": 31,
   "metadata": {},
   "outputs": [
    {
     "data": {
      "text/plain": [
       "False"
      ]
     },
     "execution_count": 31,
     "metadata": {},
     "output_type": "execute_result"
    }
   ],
   "source": [
    "(data_user_eng.visited!=1).any()"
   ]
  },
  {
   "cell_type": "code",
   "execution_count": 32,
   "metadata": {},
   "outputs": [],
   "source": [
    "#all values of column visited is 1 therefore we delete it\n",
    "data_user_eng=data_user_eng.drop(['visited'],axis=1)"
   ]
  },
  {
   "cell_type": "code",
   "execution_count": 33,
   "metadata": {},
   "outputs": [
    {
     "data": {
      "text/html": [
       "<div>\n",
       "<style scoped>\n",
       "    .dataframe tbody tr th:only-of-type {\n",
       "        vertical-align: middle;\n",
       "    }\n",
       "\n",
       "    .dataframe tbody tr th {\n",
       "        vertical-align: top;\n",
       "    }\n",
       "\n",
       "    .dataframe thead th {\n",
       "        text-align: right;\n",
       "    }\n",
       "</style>\n",
       "<table border=\"1\" class=\"dataframe\">\n",
       "  <thead>\n",
       "    <tr style=\"text-align: right;\">\n",
       "      <th></th>\n",
       "      <th>object_id</th>\n",
       "      <th>creation_time</th>\n",
       "      <th>name</th>\n",
       "      <th>email</th>\n",
       "      <th>creation_source</th>\n",
       "      <th>last_session_creation_time</th>\n",
       "      <th>opted_in_to_mailing_list</th>\n",
       "      <th>enabled_for_marketing_drip</th>\n",
       "      <th>org_id</th>\n",
       "      <th>invited_by_user_id</th>\n",
       "      <th>invited</th>\n",
       "      <th>creation_date</th>\n",
       "      <th>creation_year</th>\n",
       "      <th>creation_month</th>\n",
       "      <th>creation_day</th>\n",
       "      <th>creation_hour</th>\n",
       "      <th>creation_dow</th>\n",
       "      <th>group_count</th>\n",
       "    </tr>\n",
       "  </thead>\n",
       "  <tbody>\n",
       "    <tr>\n",
       "      <th>0</th>\n",
       "      <td>1</td>\n",
       "      <td>2014-04-22 03:53:30</td>\n",
       "      <td>Clausen August</td>\n",
       "      <td>AugustCClausen@yahoo.com</td>\n",
       "      <td>GUEST_INVITE</td>\n",
       "      <td>1.398139e+09</td>\n",
       "      <td>1</td>\n",
       "      <td>0</td>\n",
       "      <td>11</td>\n",
       "      <td>10803.0</td>\n",
       "      <td>1</td>\n",
       "      <td>2014-04-22</td>\n",
       "      <td>2014</td>\n",
       "      <td>4</td>\n",
       "      <td>22</td>\n",
       "      <td>3</td>\n",
       "      <td>1</td>\n",
       "      <td>75</td>\n",
       "    </tr>\n",
       "    <tr>\n",
       "      <th>1</th>\n",
       "      <td>2</td>\n",
       "      <td>2013-11-15 03:45:04</td>\n",
       "      <td>Poole Matthew</td>\n",
       "      <td>MatthewPoole@gustr.com</td>\n",
       "      <td>ORG_INVITE</td>\n",
       "      <td>1.396238e+09</td>\n",
       "      <td>0</td>\n",
       "      <td>0</td>\n",
       "      <td>1</td>\n",
       "      <td>316.0</td>\n",
       "      <td>1</td>\n",
       "      <td>2013-11-15</td>\n",
       "      <td>2013</td>\n",
       "      <td>11</td>\n",
       "      <td>15</td>\n",
       "      <td>3</td>\n",
       "      <td>4</td>\n",
       "      <td>233</td>\n",
       "    </tr>\n",
       "  </tbody>\n",
       "</table>\n",
       "</div>"
      ],
      "text/plain": [
       "   object_id       creation_time            name                     email  \\\n",
       "0          1 2014-04-22 03:53:30  Clausen August  AugustCClausen@yahoo.com   \n",
       "1          2 2013-11-15 03:45:04   Poole Matthew    MatthewPoole@gustr.com   \n",
       "\n",
       "  creation_source  last_session_creation_time  opted_in_to_mailing_list  \\\n",
       "0    GUEST_INVITE                1.398139e+09                         1   \n",
       "1      ORG_INVITE                1.396238e+09                         0   \n",
       "\n",
       "   enabled_for_marketing_drip  org_id  invited_by_user_id  invited  \\\n",
       "0                           0      11             10803.0        1   \n",
       "1                           0       1               316.0        1   \n",
       "\n",
       "  creation_date  creation_year  creation_month  creation_day  creation_hour  \\\n",
       "0    2014-04-22           2014               4            22              3   \n",
       "1    2013-11-15           2013              11            15              3   \n",
       "\n",
       "   creation_dow  group_count  \n",
       "0             1           75  \n",
       "1             4          233  "
      ]
     },
     "execution_count": 33,
     "metadata": {},
     "output_type": "execute_result"
    }
   ],
   "source": [
    "data_user.head(2)"
   ]
  },
  {
   "cell_type": "markdown",
   "metadata": {},
   "source": [
    "### Merging data sets"
   ]
  },
  {
   "cell_type": "code",
   "execution_count": 34,
   "metadata": {},
   "outputs": [
    {
     "data": {
      "text/html": [
       "<div>\n",
       "<style scoped>\n",
       "    .dataframe tbody tr th:only-of-type {\n",
       "        vertical-align: middle;\n",
       "    }\n",
       "\n",
       "    .dataframe tbody tr th {\n",
       "        vertical-align: top;\n",
       "    }\n",
       "\n",
       "    .dataframe thead th {\n",
       "        text-align: right;\n",
       "    }\n",
       "</style>\n",
       "<table border=\"1\" class=\"dataframe\">\n",
       "  <thead>\n",
       "    <tr style=\"text-align: right;\">\n",
       "      <th></th>\n",
       "      <th>user_id</th>\n",
       "      <th>creation_time</th>\n",
       "      <th>creation_source</th>\n",
       "      <th>opted_in_to_mailing_list</th>\n",
       "      <th>enabled_for_marketing_drip</th>\n",
       "      <th>invited</th>\n",
       "      <th>creation_date</th>\n",
       "      <th>creation_year</th>\n",
       "      <th>creation_month</th>\n",
       "      <th>creation_day</th>\n",
       "      <th>...</th>\n",
       "      <th>duration</th>\n",
       "      <th>num_act</th>\n",
       "      <th>time_stamp_date</th>\n",
       "      <th>time_stamp_year</th>\n",
       "      <th>time_stamp_month</th>\n",
       "      <th>time_stamp_day</th>\n",
       "      <th>time_stamp_hour</th>\n",
       "      <th>time_stamp_dow</th>\n",
       "      <th>rate_daily_log</th>\n",
       "      <th>adopted</th>\n",
       "    </tr>\n",
       "  </thead>\n",
       "  <tbody>\n",
       "    <tr>\n",
       "      <th>0</th>\n",
       "      <td>1</td>\n",
       "      <td>2014-04-22 03:53:30</td>\n",
       "      <td>GUEST_INVITE</td>\n",
       "      <td>1</td>\n",
       "      <td>0</td>\n",
       "      <td>1</td>\n",
       "      <td>2014-04-22</td>\n",
       "      <td>2014</td>\n",
       "      <td>4</td>\n",
       "      <td>22</td>\n",
       "      <td>...</td>\n",
       "      <td>0</td>\n",
       "      <td>1</td>\n",
       "      <td>2014-04-22</td>\n",
       "      <td>2014</td>\n",
       "      <td>4</td>\n",
       "      <td>22</td>\n",
       "      <td>3</td>\n",
       "      <td>1</td>\n",
       "      <td>0.861413</td>\n",
       "      <td>0.0</td>\n",
       "    </tr>\n",
       "    <tr>\n",
       "      <th>1</th>\n",
       "      <td>2</td>\n",
       "      <td>2013-11-15 03:45:04</td>\n",
       "      <td>ORG_INVITE</td>\n",
       "      <td>0</td>\n",
       "      <td>0</td>\n",
       "      <td>1</td>\n",
       "      <td>2013-11-15</td>\n",
       "      <td>2013</td>\n",
       "      <td>11</td>\n",
       "      <td>15</td>\n",
       "      <td>...</td>\n",
       "      <td>136</td>\n",
       "      <td>14</td>\n",
       "      <td>2013-11-15</td>\n",
       "      <td>2013</td>\n",
       "      <td>11</td>\n",
       "      <td>15</td>\n",
       "      <td>3</td>\n",
       "      <td>4</td>\n",
       "      <td>0.604620</td>\n",
       "      <td>1.0</td>\n",
       "    </tr>\n",
       "    <tr>\n",
       "      <th>2</th>\n",
       "      <td>2</td>\n",
       "      <td>2013-11-15 03:45:04</td>\n",
       "      <td>ORG_INVITE</td>\n",
       "      <td>0</td>\n",
       "      <td>0</td>\n",
       "      <td>1</td>\n",
       "      <td>2013-11-15</td>\n",
       "      <td>2013</td>\n",
       "      <td>11</td>\n",
       "      <td>15</td>\n",
       "      <td>...</td>\n",
       "      <td>136</td>\n",
       "      <td>14</td>\n",
       "      <td>2013-11-29</td>\n",
       "      <td>2013</td>\n",
       "      <td>11</td>\n",
       "      <td>29</td>\n",
       "      <td>3</td>\n",
       "      <td>4</td>\n",
       "      <td>0.610054</td>\n",
       "      <td>1.0</td>\n",
       "    </tr>\n",
       "    <tr>\n",
       "      <th>3</th>\n",
       "      <td>2</td>\n",
       "      <td>2013-11-15 03:45:04</td>\n",
       "      <td>ORG_INVITE</td>\n",
       "      <td>0</td>\n",
       "      <td>0</td>\n",
       "      <td>1</td>\n",
       "      <td>2013-11-15</td>\n",
       "      <td>2013</td>\n",
       "      <td>11</td>\n",
       "      <td>15</td>\n",
       "      <td>...</td>\n",
       "      <td>136</td>\n",
       "      <td>14</td>\n",
       "      <td>2013-12-09</td>\n",
       "      <td>2013</td>\n",
       "      <td>12</td>\n",
       "      <td>9</td>\n",
       "      <td>3</td>\n",
       "      <td>0</td>\n",
       "      <td>0.627717</td>\n",
       "      <td>1.0</td>\n",
       "    </tr>\n",
       "    <tr>\n",
       "      <th>4</th>\n",
       "      <td>2</td>\n",
       "      <td>2013-11-15 03:45:04</td>\n",
       "      <td>ORG_INVITE</td>\n",
       "      <td>0</td>\n",
       "      <td>0</td>\n",
       "      <td>1</td>\n",
       "      <td>2013-11-15</td>\n",
       "      <td>2013</td>\n",
       "      <td>11</td>\n",
       "      <td>15</td>\n",
       "      <td>...</td>\n",
       "      <td>136</td>\n",
       "      <td>14</td>\n",
       "      <td>2013-12-25</td>\n",
       "      <td>2013</td>\n",
       "      <td>12</td>\n",
       "      <td>25</td>\n",
       "      <td>3</td>\n",
       "      <td>2</td>\n",
       "      <td>0.691576</td>\n",
       "      <td>1.0</td>\n",
       "    </tr>\n",
       "  </tbody>\n",
       "</table>\n",
       "<p>5 rows × 25 columns</p>\n",
       "</div>"
      ],
      "text/plain": [
       "   user_id       creation_time creation_source  opted_in_to_mailing_list  \\\n",
       "0        1 2014-04-22 03:53:30    GUEST_INVITE                         1   \n",
       "1        2 2013-11-15 03:45:04      ORG_INVITE                         0   \n",
       "2        2 2013-11-15 03:45:04      ORG_INVITE                         0   \n",
       "3        2 2013-11-15 03:45:04      ORG_INVITE                         0   \n",
       "4        2 2013-11-15 03:45:04      ORG_INVITE                         0   \n",
       "\n",
       "   enabled_for_marketing_drip  invited creation_date  creation_year  \\\n",
       "0                           0        1    2014-04-22           2014   \n",
       "1                           0        1    2013-11-15           2013   \n",
       "2                           0        1    2013-11-15           2013   \n",
       "3                           0        1    2013-11-15           2013   \n",
       "4                           0        1    2013-11-15           2013   \n",
       "\n",
       "   creation_month  creation_day   ...     duration  num_act  time_stamp_date  \\\n",
       "0               4            22   ...            0        1       2014-04-22   \n",
       "1              11            15   ...          136       14       2013-11-15   \n",
       "2              11            15   ...          136       14       2013-11-29   \n",
       "3              11            15   ...          136       14       2013-12-09   \n",
       "4              11            15   ...          136       14       2013-12-25   \n",
       "\n",
       "   time_stamp_year time_stamp_month  time_stamp_day  time_stamp_hour  \\\n",
       "0             2014                4              22                3   \n",
       "1             2013               11              15                3   \n",
       "2             2013               11              29                3   \n",
       "3             2013               12               9                3   \n",
       "4             2013               12              25                3   \n",
       "\n",
       "  time_stamp_dow  rate_daily_log  adopted  \n",
       "0              1        0.861413      0.0  \n",
       "1              4        0.604620      1.0  \n",
       "2              4        0.610054      1.0  \n",
       "3              0        0.627717      1.0  \n",
       "4              2        0.691576      1.0  \n",
       "\n",
       "[5 rows x 25 columns]"
      ]
     },
     "execution_count": 34,
     "metadata": {},
     "output_type": "execute_result"
    }
   ],
   "source": [
    "df=data_user.drop(['name','email','invited_by_user_id','org_id','last_session_creation_time'],axis=1).rename(columns={'object_id': 'user_id'})\\\n",
    ".set_index('user_id').join(data_user_eng.reset_index().set_index('user_id'),on='user_id',how='inner').reset_index()\n",
    "df.head()"
   ]
  },
  {
   "cell_type": "code",
   "execution_count": 35,
   "metadata": {},
   "outputs": [
    {
     "data": {
      "text/plain": [
       "user_id                       False\n",
       "creation_time                 False\n",
       "creation_source               False\n",
       "opted_in_to_mailing_list      False\n",
       "enabled_for_marketing_drip    False\n",
       "invited                       False\n",
       "creation_date                 False\n",
       "creation_year                 False\n",
       "creation_month                False\n",
       "creation_day                  False\n",
       "creation_hour                 False\n",
       "creation_dow                  False\n",
       "group_count                   False\n",
       "index                         False\n",
       "time_stamp                    False\n",
       "duration                      False\n",
       "num_act                       False\n",
       "time_stamp_date               False\n",
       "time_stamp_year               False\n",
       "time_stamp_month              False\n",
       "time_stamp_day                False\n",
       "time_stamp_hour               False\n",
       "time_stamp_dow                False\n",
       "rate_daily_log                False\n",
       "adopted                       False\n",
       "dtype: bool"
      ]
     },
     "execution_count": 35,
     "metadata": {},
     "output_type": "execute_result"
    }
   ],
   "source": [
    "df.isnull().any()"
   ]
  },
  {
   "cell_type": "code",
   "execution_count": 36,
   "metadata": {},
   "outputs": [
    {
     "name": "stdout",
     "output_type": "stream",
     "text": [
      "<class 'pandas.core.frame.DataFrame'>\n",
      "RangeIndex: 207917 entries, 0 to 207916\n",
      "Data columns (total 25 columns):\n",
      "user_id                       207917 non-null int64\n",
      "creation_time                 207917 non-null datetime64[ns]\n",
      "creation_source               207917 non-null object\n",
      "opted_in_to_mailing_list      207917 non-null int64\n",
      "enabled_for_marketing_drip    207917 non-null int64\n",
      "invited                       207917 non-null int64\n",
      "creation_date                 207917 non-null object\n",
      "creation_year                 207917 non-null int64\n",
      "creation_month                207917 non-null int64\n",
      "creation_day                  207917 non-null int64\n",
      "creation_hour                 207917 non-null int64\n",
      "creation_dow                  207917 non-null int64\n",
      "group_count                   207917 non-null int64\n",
      "index                         207917 non-null int64\n",
      "time_stamp                    207917 non-null datetime64[ns]\n",
      "duration                      207917 non-null int64\n",
      "num_act                       207917 non-null int64\n",
      "time_stamp_date               207917 non-null object\n",
      "time_stamp_year               207917 non-null int64\n",
      "time_stamp_month              207917 non-null int64\n",
      "time_stamp_day                207917 non-null int64\n",
      "time_stamp_hour               207917 non-null int64\n",
      "time_stamp_dow                207917 non-null int64\n",
      "rate_daily_log                207917 non-null float64\n",
      "adopted                       207917 non-null float64\n",
      "dtypes: datetime64[ns](2), float64(2), int64(18), object(3)\n",
      "memory usage: 39.7+ MB\n"
     ]
    }
   ],
   "source": [
    "df.info()"
   ]
  },
  {
   "cell_type": "code",
   "execution_count": 37,
   "metadata": {},
   "outputs": [
    {
     "data": {
      "text/plain": [
       "False"
      ]
     },
     "execution_count": 37,
     "metadata": {},
     "output_type": "execute_result"
    }
   ],
   "source": [
    "#There are some users from data_user that are not in data_user_eng so we will remove them\n",
    "data_user.object_id.isin(data_user_eng.reset_index().user_id).all()"
   ]
  },
  {
   "cell_type": "code",
   "execution_count": 38,
   "metadata": {},
   "outputs": [
    {
     "name": "stdout",
     "output_type": "stream",
     "text": [
      "(207917, 25) \n",
      " Index(['user_id', 'creation_time', 'creation_source',\n",
      "       'opted_in_to_mailing_list', 'enabled_for_marketing_drip', 'invited',\n",
      "       'creation_date', 'creation_year', 'creation_month', 'creation_day',\n",
      "       'creation_hour', 'creation_dow', 'group_count', 'index', 'time_stamp',\n",
      "       'duration', 'num_act', 'time_stamp_date', 'time_stamp_year',\n",
      "       'time_stamp_month', 'time_stamp_day', 'time_stamp_hour',\n",
      "       'time_stamp_dow', 'rate_daily_log', 'adopted'],\n",
      "      dtype='object')\n"
     ]
    }
   ],
   "source": [
    "print(np.shape(df),'\\n',df.keys())"
   ]
  },
  {
   "cell_type": "code",
   "execution_count": null,
   "metadata": {},
   "outputs": [],
   "source": []
  },
  {
   "cell_type": "markdown",
   "metadata": {},
   "source": [
    "## Model\n",
    "- There are lots of categorical features like date and time components.\n",
    "- devide independent features  into categorical features, numerical features\n",
    "- make dummy variables using hotencoding method\n",
    "- since there are large number of categorical features, we need to find a way to 1- reduce the time of running time 2- avoide curse of dimensionalty. Here, MCA has been used which is equivalent technique PCA for categorical features.\n",
    "- Defining traing set and test set by splitting data\n",
    "- Scaling  data using StandardScaler\n",
    "- The approach is taring a random forest calssifier and tuning it using gridsearch\n"
   ]
  },
  {
   "cell_type": "markdown",
   "metadata": {},
   "source": [
    "### Defining dependent and independent variables"
   ]
  },
  {
   "cell_type": "code",
   "execution_count": 39,
   "metadata": {},
   "outputs": [],
   "source": [
    "#Categorical features\n",
    "x_cat_keys=['creation_source','time_stamp_year','time_stamp_month', 'time_stamp_day', 'time_stamp_hour', 'time_stamp_dow',\n",
    "       'opted_in_to_mailing_list','enabled_for_marketing_drip','invited']\n",
    "#Numerical features\n",
    "x_num_keys=['group_count', 'rate_daily_log', 'duration','num_act']\n",
    "\n",
    "X_cat=df.loc[:,x_cat_keys]\n",
    "X_num=df.loc[:,x_num_keys]\n",
    "y=df.loc[:,'adopted']\n",
    "\n"
   ]
  },
  {
   "cell_type": "code",
   "execution_count": 40,
   "metadata": {},
   "outputs": [
    {
     "data": {
      "text/plain": [
       "group_count       0.011293\n",
       "rate_daily_log    0.004040\n",
       "duration          0.002058\n",
       "num_act           0.003717\n",
       "adopted           1.000000\n",
       "Name: adopted, dtype: float64"
      ]
     },
     "execution_count": 40,
     "metadata": {},
     "output_type": "execute_result"
    }
   ],
   "source": [
    "np.abs(df.loc[:,['group_count', 'rate_daily_log', 'duration','num_act','adopted']].corr(method='pearson').adopted)"
   ]
  },
  {
   "cell_type": "code",
   "execution_count": 41,
   "metadata": {},
   "outputs": [
    {
     "name": "stdout",
     "output_type": "stream",
     "text": [
      "<class 'pandas.core.frame.DataFrame'>\n",
      "RangeIndex: 207917 entries, 0 to 207916\n",
      "Data columns (total 9 columns):\n",
      "creation_source               207917 non-null object\n",
      "time_stamp_year               207917 non-null int64\n",
      "time_stamp_month              207917 non-null int64\n",
      "time_stamp_day                207917 non-null int64\n",
      "time_stamp_hour               207917 non-null int64\n",
      "time_stamp_dow                207917 non-null int64\n",
      "opted_in_to_mailing_list      207917 non-null int64\n",
      "enabled_for_marketing_drip    207917 non-null int64\n",
      "invited                       207917 non-null int64\n",
      "dtypes: int64(8), object(1)\n",
      "memory usage: 14.3+ MB\n"
     ]
    }
   ],
   "source": [
    "X_cat.info()"
   ]
  },
  {
   "cell_type": "code",
   "execution_count": 42,
   "metadata": {},
   "outputs": [
    {
     "data": {
      "text/plain": [
       "(207917, 4)"
      ]
     },
     "execution_count": 42,
     "metadata": {},
     "output_type": "execute_result"
    }
   ],
   "source": [
    "np.shape(X_num)"
   ]
  },
  {
   "cell_type": "code",
   "execution_count": 43,
   "metadata": {},
   "outputs": [
    {
     "name": "stdout",
     "output_type": "stream",
     "text": [
      "<class 'pandas.core.frame.DataFrame'>\n",
      "RangeIndex: 207917 entries, 0 to 207916\n",
      "Data columns (total 4 columns):\n",
      "group_count       207917 non-null int64\n",
      "rate_daily_log    207917 non-null float64\n",
      "duration          207917 non-null int64\n",
      "num_act           207917 non-null int64\n",
      "dtypes: float64(1), int64(3)\n",
      "memory usage: 6.3 MB\n"
     ]
    }
   ],
   "source": [
    "X_num.info()"
   ]
  },
  {
   "cell_type": "markdown",
   "metadata": {},
   "source": [
    "#### Encoding categorical features"
   ]
  },
  {
   "cell_type": "code",
   "execution_count": 44,
   "metadata": {},
   "outputs": [
    {
     "name": "stderr",
     "output_type": "stream",
     "text": [
      "/Users/leilasapple/anaconda/lib/python3.6/site-packages/sklearn/preprocessing/_encoders.py:390: DeprecationWarning: The 'categorical_features' keyword is deprecated in version 0.20 and will be removed in 0.22. You can use the ColumnTransformer instead.\n",
      "  \"use the ColumnTransformer instead.\", DeprecationWarning)\n"
     ]
    }
   ],
   "source": [
    "from sklearn.preprocessing import LabelEncoder, OneHotEncoder\n",
    "labelencoder_X = LabelEncoder()\n",
    "for i in range(len(x_cat_keys)):\n",
    "    X_cat.iloc[:, i] = labelencoder_X.fit_transform(X_cat.iloc[:, i])\n",
    "onehotencoder = OneHotEncoder(categorical_features = [0,1,2,3,4,5,6,7,8])\n",
    "X_cat = onehotencoder.fit_transform(X_cat).toarray()\n"
   ]
  },
  {
   "cell_type": "code",
   "execution_count": 45,
   "metadata": {},
   "outputs": [
    {
     "data": {
      "text/plain": [
       "array([[0., 0., 0., 0., 0.],\n",
       "       [1., 0., 0., 0., 0.],\n",
       "       [1., 0., 0., 0., 0.],\n",
       "       ...,\n",
       "       [0., 0., 0., 0., 0.],\n",
       "       [0., 1., 0., 0., 1.],\n",
       "       [0., 0., 1., 0., 0.]])"
      ]
     },
     "execution_count": 45,
     "metadata": {},
     "output_type": "execute_result"
    }
   ],
   "source": [
    "X_cat[:,1:6]"
   ]
  },
  {
   "cell_type": "markdown",
   "metadata": {},
   "source": [
    "#### Dimension reduction"
   ]
  },
  {
   "cell_type": "code",
   "execution_count": 46,
   "metadata": {},
   "outputs": [],
   "source": [
    "# Dimension reduction for categorical featrures\n",
    "import prince\n",
    "mca = prince.MCA(n_components=3,n_iter=5,copy=True,check_input=True,engine='auto',random_state=42)\n",
    "mca = mca.fit(X_cat)\n",
    "X_cat=mca.transform(X_cat)"
   ]
  },
  {
   "cell_type": "code",
   "execution_count": 47,
   "metadata": {},
   "outputs": [
    {
     "name": "stdout",
     "output_type": "stream",
     "text": [
      "True\n"
     ]
    }
   ],
   "source": [
    "print(np.shape(X_cat)[0]==np.shape(X_num)[0])"
   ]
  },
  {
   "cell_type": "code",
   "execution_count": 48,
   "metadata": {},
   "outputs": [
    {
     "data": {
      "text/plain": [
       "0    False\n",
       "1    False\n",
       "2    False\n",
       "dtype: bool"
      ]
     },
     "execution_count": 48,
     "metadata": {},
     "output_type": "execute_result"
    }
   ],
   "source": [
    "X_cat.isnull().any()"
   ]
  },
  {
   "cell_type": "code",
   "execution_count": 49,
   "metadata": {},
   "outputs": [],
   "source": [
    "X=pd.concat([X_cat,X_num],axis=1)"
   ]
  },
  {
   "cell_type": "code",
   "execution_count": 50,
   "metadata": {},
   "outputs": [
    {
     "data": {
      "text/html": [
       "<div>\n",
       "<style scoped>\n",
       "    .dataframe tbody tr th:only-of-type {\n",
       "        vertical-align: middle;\n",
       "    }\n",
       "\n",
       "    .dataframe tbody tr th {\n",
       "        vertical-align: top;\n",
       "    }\n",
       "\n",
       "    .dataframe thead th {\n",
       "        text-align: right;\n",
       "    }\n",
       "</style>\n",
       "<table border=\"1\" class=\"dataframe\">\n",
       "  <thead>\n",
       "    <tr style=\"text-align: right;\">\n",
       "      <th></th>\n",
       "      <th>0</th>\n",
       "      <th>1</th>\n",
       "      <th>2</th>\n",
       "      <th>group_count</th>\n",
       "      <th>rate_daily_log</th>\n",
       "      <th>duration</th>\n",
       "      <th>num_act</th>\n",
       "    </tr>\n",
       "  </thead>\n",
       "  <tbody>\n",
       "    <tr>\n",
       "      <th>0</th>\n",
       "      <td>0.183631</td>\n",
       "      <td>0.056387</td>\n",
       "      <td>-0.191756</td>\n",
       "      <td>75</td>\n",
       "      <td>0.861413</td>\n",
       "      <td>0</td>\n",
       "      <td>1</td>\n",
       "    </tr>\n",
       "    <tr>\n",
       "      <th>1</th>\n",
       "      <td>0.121043</td>\n",
       "      <td>-0.187298</td>\n",
       "      <td>0.161887</td>\n",
       "      <td>233</td>\n",
       "      <td>0.604620</td>\n",
       "      <td>136</td>\n",
       "      <td>14</td>\n",
       "    </tr>\n",
       "    <tr>\n",
       "      <th>2</th>\n",
       "      <td>0.120967</td>\n",
       "      <td>-0.188702</td>\n",
       "      <td>0.176742</td>\n",
       "      <td>233</td>\n",
       "      <td>0.610054</td>\n",
       "      <td>136</td>\n",
       "      <td>14</td>\n",
       "    </tr>\n",
       "    <tr>\n",
       "      <th>3</th>\n",
       "      <td>0.120083</td>\n",
       "      <td>-0.185055</td>\n",
       "      <td>0.165553</td>\n",
       "      <td>233</td>\n",
       "      <td>0.627717</td>\n",
       "      <td>136</td>\n",
       "      <td>14</td>\n",
       "    </tr>\n",
       "    <tr>\n",
       "      <th>4</th>\n",
       "      <td>0.121634</td>\n",
       "      <td>-0.183800</td>\n",
       "      <td>0.158669</td>\n",
       "      <td>233</td>\n",
       "      <td>0.691576</td>\n",
       "      <td>136</td>\n",
       "      <td>14</td>\n",
       "    </tr>\n",
       "  </tbody>\n",
       "</table>\n",
       "</div>"
      ],
      "text/plain": [
       "          0         1         2  group_count  rate_daily_log  duration  \\\n",
       "0  0.183631  0.056387 -0.191756           75        0.861413         0   \n",
       "1  0.121043 -0.187298  0.161887          233        0.604620       136   \n",
       "2  0.120967 -0.188702  0.176742          233        0.610054       136   \n",
       "3  0.120083 -0.185055  0.165553          233        0.627717       136   \n",
       "4  0.121634 -0.183800  0.158669          233        0.691576       136   \n",
       "\n",
       "   num_act  \n",
       "0        1  \n",
       "1       14  \n",
       "2       14  \n",
       "3       14  \n",
       "4       14  "
      ]
     },
     "execution_count": 50,
     "metadata": {},
     "output_type": "execute_result"
    }
   ],
   "source": [
    "X.head()"
   ]
  },
  {
   "cell_type": "code",
   "execution_count": 51,
   "metadata": {},
   "outputs": [
    {
     "data": {
      "text/plain": [
       "(207917, 3)"
      ]
     },
     "execution_count": 51,
     "metadata": {},
     "output_type": "execute_result"
    }
   ],
   "source": [
    "np.shape(X_cat)"
   ]
  },
  {
   "cell_type": "markdown",
   "metadata": {},
   "source": [
    "#### Spliting data into training and test sets"
   ]
  },
  {
   "cell_type": "code",
   "execution_count": 52,
   "metadata": {},
   "outputs": [],
   "source": [
    "# Splitting the dataset into the Training set and Test set\n",
    "from sklearn.model_selection import train_test_split,GridSearchCV\n",
    "X_train, X_test, y_train, y_test = train_test_split(X, y, test_size = 0.25, random_state = 0)\n"
   ]
  },
  {
   "cell_type": "markdown",
   "metadata": {},
   "source": [
    "#### Scaling features"
   ]
  },
  {
   "cell_type": "code",
   "execution_count": 53,
   "metadata": {},
   "outputs": [
    {
     "name": "stderr",
     "output_type": "stream",
     "text": [
      "/Users/leilasapple/anaconda/lib/python3.6/site-packages/sklearn/preprocessing/data.py:625: DataConversionWarning: Data with input dtype int64, float64 were all converted to float64 by StandardScaler.\n",
      "  return self.partial_fit(X, y)\n",
      "/Users/leilasapple/anaconda/lib/python3.6/site-packages/sklearn/base.py:462: DataConversionWarning: Data with input dtype int64, float64 were all converted to float64 by StandardScaler.\n",
      "  return self.fit(X, **fit_params).transform(X)\n",
      "/Users/leilasapple/anaconda/lib/python3.6/site-packages/ipykernel_launcher.py:5: DataConversionWarning: Data with input dtype int64, float64 were all converted to float64 by StandardScaler.\n",
      "  \"\"\"\n"
     ]
    }
   ],
   "source": [
    "# Feature Scaling\n",
    "from sklearn.preprocessing import StandardScaler\n",
    "sc = StandardScaler()\n",
    "X_train = sc.fit_transform(X_train)\n",
    "X_test = sc.transform(X_test)\n"
   ]
  },
  {
   "cell_type": "markdown",
   "metadata": {},
   "source": [
    "#### Random forest calssification and tuning hyperparameters"
   ]
  },
  {
   "cell_type": "code",
   "execution_count": 59,
   "metadata": {},
   "outputs": [
    {
     "name": "stdout",
     "output_type": "stream",
     "text": [
      "{'criterion': 'gini', 'max_depth': 8, 'max_features': 'auto', 'n_estimators': 400, 'random_state': 0}\n"
     ]
    }
   ],
   "source": [
    "from sklearn.ensemble import RandomForestClassifier\n",
    "\n",
    "parameters = {\n",
    "    'n_estimators'      : [100,400,700],\n",
    "    'max_depth'         : [8, 10,15],\n",
    "    'random_state'      : [0],\n",
    "    'max_features': ['auto'],\n",
    "    'criterion' :['gini']\n",
    "}\n",
    "\n",
    "clf=RandomForestClassifier()\n",
    "grid=GridSearchCV(clf,parameters,cv=5)\n",
    "grid.fit(X_train,y_train)\n",
    "print(grid.best_params_)\n",
    "rf_clf=grid.best_estimator_"
   ]
  },
  {
   "cell_type": "markdown",
   "metadata": {},
   "source": [
    "#### Feature importance"
   ]
  },
  {
   "cell_type": "code",
   "execution_count": 60,
   "metadata": {},
   "outputs": [
    {
     "data": {
      "text/plain": [
       "Text(0.5, 0, 'Relative Importance')"
      ]
     },
     "execution_count": 60,
     "metadata": {},
     "output_type": "execute_result"
    },
    {
     "data": {
      "image/png": "[encoded data removed]",
      "text/plain": [
       "<Figure size 576x432 with 1 Axes>"
      ]
     },
     "metadata": {},
     "output_type": "display_data"
    }
   ],
   "source": [
    "importances = rf_clf.feature_importances_\n",
    "features=X.keys()\n",
    "indices = np.argsort(importances)\n",
    "\n",
    "plt.figure(1,figsize=(8,6))\n",
    "plt.title('Feature Importances')\n",
    "plt.barh(range(len(indices)), importances[indices], color='g', align='center')\n",
    "plt.yticks(range(len(indices)), [features[j] for j in indices])\n",
    "plt.xlabel('Relative Importance')"
   ]
  },
  {
   "cell_type": "markdown",
   "metadata": {},
   "source": [
    "#### validating the model"
   ]
  },
  {
   "cell_type": "code",
   "execution_count": 61,
   "metadata": {},
   "outputs": [
    {
     "name": "stdout",
     "output_type": "stream",
     "text": [
      "0.9938271604938271\n",
      "AUC: 0.993827\n",
      "F1 score: 0.993789\n",
      "Accuracy: 100.00%\n"
     ]
    }
   ],
   "source": [
    "from sklearn.metrics import roc_auc_score,f1_score,accuracy_score\n",
    "\n",
    "Y_pred=rf_clf.predict(X_test)\n",
    "print(roc_auc_score(y_test, Y_pred)) \n",
    "print('AUC: %f'%roc_auc_score(y_test, Y_pred)) \n",
    "print('F1 score: %f'%f1_score(y_test, Y_pred, average='binary')  )\n",
    "print(\"Accuracy: %.2f%%\" % (accuracy_score(y_test, Y_pred) * 100.0))"
   ]
  },
  {
   "cell_type": "markdown",
   "metadata": {},
   "source": []
  }
 ],
 "metadata": {
  "kernelspec": {
   "display_name": "Python 3",
   "language": "python",
   "name": "python3"
  },
  "language_info": {
   "codemirror_mode": {
    "name": "ipython",
    "version": 3
   },
   "file_extension": ".py",
   "mimetype": "text/x-python",
   "name": "python",
   "nbconvert_exporter": "python",
   "pygments_lexer": "ipython3",
   "version": "3.6.6"
  }
 },
 "nbformat": 4,
 "nbformat_minor": 2
}
