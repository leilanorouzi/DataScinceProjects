{
 "cells": [
  {
   "cell_type": "markdown",
   "metadata": {
    "colab_type": "text",
    "id": "Iez4jES4LcG-"
   },
   "source": [
    "# Examining Racial Discrimination in the US Job Market\n",
    "\n",
    "### Background\n",
    "Racial discrimination continues to be pervasive in cultures throughout the world. Researchers examined the level of racial discrimination in the United States labor market by randomly assigning identical résumés to black-sounding or white-sounding names and observing the impact on requests for interviews from employers.\n",
    "\n",
    "### Data\n",
    "In the dataset provided, each row represents a resume. The 'race' column has two values, 'b' and 'w', indicating black-sounding and white-sounding. The column 'call' has two values, 1 and 0, indicating whether the resume received a call from employers or not.\n",
    "\n",
    "Note that the 'b' and 'w' values in race are assigned randomly to the resumes when presented to the employer."
   ]
  },
  {
   "cell_type": "markdown",
   "metadata": {
    "colab_type": "text",
    "id": "OfKAxlxGLcHC"
   },
   "source": [
    "### Exercises\n",
    "You will perform a statistical analysis to establish whether race has a significant impact on the rate of callbacks for resumes.\n",
    "\n",
    "Answer the following questions **in this notebook below and submit to your Github account**. \n",
    "\n",
    "   1. What test is appropriate for this problem? Does CLT apply?\n",
    "   2. What are the null and alternate hypotheses?\n",
    "   3. Compute margin of error, confidence interval, and p-value. Try using both the bootstrapping and the frequentist statistical approaches.\n",
    "   4. Write a story describing the statistical significance in the context or the original problem.\n",
    "   5. Does your analysis mean that race/name is the most important factor in callback success? Why or why not? If not, how would you amend your analysis?\n",
    "\n",
    "You can include written notes in notebook cells using Markdown: \n",
    "   - In the control panel at the top, choose Cell > Cell Type > Markdown\n",
    "   - Markdown syntax: http://nestacms.com/docs/creating-content/markdown-cheat-sheet\n",
    "\n",
    "#### Resources\n",
    "+ Experiment information and data source: http://www.povertyactionlab.org/evaluation/discrimination-job-market-united-states\n",
    "+ Scipy statistical methods: http://docs.scipy.org/doc/scipy/reference/stats.html \n",
    "+ Markdown syntax: http://nestacms.com/docs/creating-content/markdown-cheat-sheet\n",
    "+ Formulas for the Bernoulli distribution: https://en.wikipedia.org/wiki/Bernoulli_distribution"
   ]
  },
  {
   "cell_type": "code",
   "execution_count": 0,
   "metadata": {
    "colab": {},
    "colab_type": "code",
    "id": "vbvMiuonLcHD"
   },
   "outputs": [],
   "source": [
    "import pandas as pd\n",
    "import numpy as np\n",
    "import os,sys\n",
    "from scipy import stats\n",
    "import seaborn as sns\n",
    "import matplotlib.pyplot as plt\n",
    "from scipy.stats import norm\n"
   ]
  },
  {
   "cell_type": "code",
   "execution_count": 3,
   "metadata": {
    "colab": {
     "base_uri": "https://localhost:8080/",
     "height": 122
    },
    "colab_type": "code",
    "id": "0KfdJCKdLcHO",
    "outputId": "24fbd673-df15-41be-8546-4174080f4a39"
   },
   "outputs": [
    {
     "name": "stdout",
     "output_type": "stream",
     "text": [
      "Go to this URL in a browser: https://accounts.google.com/o/oauth2/auth?client_id=947318989803-6bn6qk8qdgf4n4g3pfee6491hc0brc4i.apps.googleusercontent.com&redirect_uri=urn%3Aietf%3Awg%3Aoauth%3A2.0%3Aoob&scope=email%20https%3A%2F%2Fwww.googleapis.com%2Fauth%2Fdocs.test%20https%3A%2F%2Fwww.googleapis.com%2Fauth%2Fdrive%20https%3A%2F%2Fwww.googleapis.com%2Fauth%2Fdrive.photos.readonly%20https%3A%2F%2Fwww.googleapis.com%2Fauth%2Fpeopleapi.readonly&response_type=code\n",
      "\n",
      "Enter your authorization code:\n",
      "··········\n",
      "Mounted at /gdrive\n"
     ]
    }
   ],
   "source": [
    "from google.colab import files\n",
    "#To get access to the files on google drive an authorization code it nessacery which will be given by the linked below\n",
    "from google.colab import drive\n",
    "drive.mount('/gdrive')\n",
    "#The input directory in the google dirve\n",
    "input_data_path=\"/gdrive/My Drive/Colab Notebooks/springboard_mini/EDA_racial_discrimination/\"\n",
    "#os.listdir(input_data_path+'/produced')"
   ]
  },
  {
   "cell_type": "code",
   "execution_count": 0,
   "metadata": {
    "colab": {},
    "colab_type": "code",
    "id": "09_9qb3oLcHR"
   },
   "outputs": [],
   "source": [
    "data = pd.io.stata.read_stata(input_data_path+'data/us_job_market_discrimination.dta')"
   ]
  },
  {
   "cell_type": "code",
   "execution_count": 5,
   "metadata": {
    "colab": {
     "base_uri": "https://localhost:8080/",
     "height": 34
    },
    "colab_type": "code",
    "id": "kIYa5zl7LcHV",
    "outputId": "fdc24652-1a7f-4e31-cfe5-9026115a42dc"
   },
   "outputs": [
    {
     "data": {
      "text/plain": [
       "235.0"
      ]
     },
     "execution_count": 5,
     "metadata": {
      "tags": []
     },
     "output_type": "execute_result"
    }
   ],
   "source": [
    "# number of callbacks for black-sounding names\n",
    "sum(data[data.race=='w'].call)"
   ]
  },
  {
   "cell_type": "code",
   "execution_count": 8,
   "metadata": {
    "colab": {
     "base_uri": "https://localhost:8080/",
     "height": 253
    },
    "colab_type": "code",
    "id": "ZvzUALsDLcHZ",
    "outputId": "e30f9ebd-1f4d-48b0-b37b-c0f5375c90dd"
   },
   "outputs": [
    {
     "data": {
      "text/html": [
       "<div>\n",
       "<style scoped>\n",
       "    .dataframe tbody tr th:only-of-type {\n",
       "        vertical-align: middle;\n",
       "    }\n",
       "\n",
       "    .dataframe tbody tr th {\n",
       "        vertical-align: top;\n",
       "    }\n",
       "\n",
       "    .dataframe thead th {\n",
       "        text-align: right;\n",
       "    }\n",
       "</style>\n",
       "<table border=\"1\" class=\"dataframe\">\n",
       "  <thead>\n",
       "    <tr style=\"text-align: right;\">\n",
       "      <th></th>\n",
       "      <th>id</th>\n",
       "      <th>ad</th>\n",
       "      <th>education</th>\n",
       "      <th>ofjobs</th>\n",
       "      <th>yearsexp</th>\n",
       "      <th>honors</th>\n",
       "      <th>volunteer</th>\n",
       "      <th>military</th>\n",
       "      <th>empholes</th>\n",
       "      <th>occupspecific</th>\n",
       "      <th>...</th>\n",
       "      <th>compreq</th>\n",
       "      <th>orgreq</th>\n",
       "      <th>manuf</th>\n",
       "      <th>transcom</th>\n",
       "      <th>bankreal</th>\n",
       "      <th>trade</th>\n",
       "      <th>busservice</th>\n",
       "      <th>othservice</th>\n",
       "      <th>missind</th>\n",
       "      <th>ownership</th>\n",
       "    </tr>\n",
       "  </thead>\n",
       "  <tbody>\n",
       "    <tr>\n",
       "      <th>0</th>\n",
       "      <td>b</td>\n",
       "      <td>1</td>\n",
       "      <td>4</td>\n",
       "      <td>2</td>\n",
       "      <td>6</td>\n",
       "      <td>0</td>\n",
       "      <td>0</td>\n",
       "      <td>0</td>\n",
       "      <td>1</td>\n",
       "      <td>17</td>\n",
       "      <td>...</td>\n",
       "      <td>1.0</td>\n",
       "      <td>0.0</td>\n",
       "      <td>1.0</td>\n",
       "      <td>0.0</td>\n",
       "      <td>0.0</td>\n",
       "      <td>0.0</td>\n",
       "      <td>0.0</td>\n",
       "      <td>0.0</td>\n",
       "      <td>0.0</td>\n",
       "      <td></td>\n",
       "    </tr>\n",
       "    <tr>\n",
       "      <th>1</th>\n",
       "      <td>b</td>\n",
       "      <td>1</td>\n",
       "      <td>3</td>\n",
       "      <td>3</td>\n",
       "      <td>6</td>\n",
       "      <td>0</td>\n",
       "      <td>1</td>\n",
       "      <td>1</td>\n",
       "      <td>0</td>\n",
       "      <td>316</td>\n",
       "      <td>...</td>\n",
       "      <td>1.0</td>\n",
       "      <td>0.0</td>\n",
       "      <td>1.0</td>\n",
       "      <td>0.0</td>\n",
       "      <td>0.0</td>\n",
       "      <td>0.0</td>\n",
       "      <td>0.0</td>\n",
       "      <td>0.0</td>\n",
       "      <td>0.0</td>\n",
       "      <td></td>\n",
       "    </tr>\n",
       "    <tr>\n",
       "      <th>2</th>\n",
       "      <td>b</td>\n",
       "      <td>1</td>\n",
       "      <td>4</td>\n",
       "      <td>1</td>\n",
       "      <td>6</td>\n",
       "      <td>0</td>\n",
       "      <td>0</td>\n",
       "      <td>0</td>\n",
       "      <td>0</td>\n",
       "      <td>19</td>\n",
       "      <td>...</td>\n",
       "      <td>1.0</td>\n",
       "      <td>0.0</td>\n",
       "      <td>1.0</td>\n",
       "      <td>0.0</td>\n",
       "      <td>0.0</td>\n",
       "      <td>0.0</td>\n",
       "      <td>0.0</td>\n",
       "      <td>0.0</td>\n",
       "      <td>0.0</td>\n",
       "      <td></td>\n",
       "    </tr>\n",
       "    <tr>\n",
       "      <th>3</th>\n",
       "      <td>b</td>\n",
       "      <td>1</td>\n",
       "      <td>3</td>\n",
       "      <td>4</td>\n",
       "      <td>6</td>\n",
       "      <td>0</td>\n",
       "      <td>1</td>\n",
       "      <td>0</td>\n",
       "      <td>1</td>\n",
       "      <td>313</td>\n",
       "      <td>...</td>\n",
       "      <td>1.0</td>\n",
       "      <td>0.0</td>\n",
       "      <td>1.0</td>\n",
       "      <td>0.0</td>\n",
       "      <td>0.0</td>\n",
       "      <td>0.0</td>\n",
       "      <td>0.0</td>\n",
       "      <td>0.0</td>\n",
       "      <td>0.0</td>\n",
       "      <td></td>\n",
       "    </tr>\n",
       "    <tr>\n",
       "      <th>4</th>\n",
       "      <td>b</td>\n",
       "      <td>1</td>\n",
       "      <td>3</td>\n",
       "      <td>3</td>\n",
       "      <td>22</td>\n",
       "      <td>0</td>\n",
       "      <td>0</td>\n",
       "      <td>0</td>\n",
       "      <td>0</td>\n",
       "      <td>313</td>\n",
       "      <td>...</td>\n",
       "      <td>1.0</td>\n",
       "      <td>1.0</td>\n",
       "      <td>0.0</td>\n",
       "      <td>0.0</td>\n",
       "      <td>0.0</td>\n",
       "      <td>0.0</td>\n",
       "      <td>0.0</td>\n",
       "      <td>1.0</td>\n",
       "      <td>0.0</td>\n",
       "      <td>Nonprofit</td>\n",
       "    </tr>\n",
       "  </tbody>\n",
       "</table>\n",
       "<p>5 rows × 65 columns</p>\n",
       "</div>"
      ],
      "text/plain": [
       "  id ad  education  ofjobs  yearsexp  honors  volunteer  military  empholes  \\\n",
       "0  b  1          4       2         6       0          0         0         1   \n",
       "1  b  1          3       3         6       0          1         1         0   \n",
       "2  b  1          4       1         6       0          0         0         0   \n",
       "3  b  1          3       4         6       0          1         0         1   \n",
       "4  b  1          3       3        22       0          0         0         0   \n",
       "\n",
       "   occupspecific    ...      compreq  orgreq  manuf  transcom  bankreal trade  \\\n",
       "0             17    ...          1.0     0.0    1.0       0.0       0.0   0.0   \n",
       "1            316    ...          1.0     0.0    1.0       0.0       0.0   0.0   \n",
       "2             19    ...          1.0     0.0    1.0       0.0       0.0   0.0   \n",
       "3            313    ...          1.0     0.0    1.0       0.0       0.0   0.0   \n",
       "4            313    ...          1.0     1.0    0.0       0.0       0.0   0.0   \n",
       "\n",
       "  busservice othservice  missind  ownership  \n",
       "0        0.0        0.0      0.0             \n",
       "1        0.0        0.0      0.0             \n",
       "2        0.0        0.0      0.0             \n",
       "3        0.0        0.0      0.0             \n",
       "4        0.0        1.0      0.0  Nonprofit  \n",
       "\n",
       "[5 rows x 65 columns]"
      ]
     },
     "execution_count": 8,
     "metadata": {
      "tags": []
     },
     "output_type": "execute_result"
    }
   ],
   "source": [
    "data.head()"
   ]
  },
  {
   "cell_type": "code",
   "execution_count": 9,
   "metadata": {
    "colab": {
     "base_uri": "https://localhost:8080/",
     "height": 54
    },
    "colab_type": "code",
    "id": "d8C_XkohLcHb",
    "outputId": "de31d912-fe1b-4d2b-b640-605fcf3d3a2d"
   },
   "outputs": [
    {
     "name": "stdout",
     "output_type": "stream",
     "text": [
      "['id', 'ad', 'education', 'ofjobs', 'yearsexp', 'honors', 'volunteer', 'military', 'empholes', 'occupspecific', 'occupbroad', 'workinschool', 'email', 'computerskills', 'specialskills', 'firstname', 'sex', 'race', 'h', 'l', 'call', 'city', 'kind', 'adid', 'fracblack', 'fracwhite', 'lmedhhinc', 'fracdropout', 'fraccolp', 'linc', 'col', 'expminreq', 'schoolreq', 'eoe', 'parent_sales', 'parent_emp', 'branch_sales', 'branch_emp', 'fed', 'fracblack_empzip', 'fracwhite_empzip', 'lmedhhinc_empzip', 'fracdropout_empzip', 'fraccolp_empzip', 'linc_empzip', 'manager', 'supervisor', 'secretary', 'offsupport', 'salesrep', 'retailsales', 'req', 'expreq', 'comreq', 'educreq', 'compreq', 'orgreq', 'manuf', 'transcom', 'bankreal', 'trade', 'busservice', 'othservice', 'missind', 'ownership']\n"
     ]
    }
   ],
   "source": [
    "print(data.keys().values.tolist())"
   ]
  },
  {
   "cell_type": "code",
   "execution_count": 0,
   "metadata": {
    "colab": {},
    "colab_type": "code",
    "id": "vcb2rl0vLcHg"
   },
   "outputs": [],
   "source": [
    "data.info()"
   ]
  },
  {
   "cell_type": "code",
   "execution_count": 17,
   "metadata": {
    "colab": {
     "base_uri": "https://localhost:8080/",
     "height": 884
    },
    "colab_type": "code",
    "id": "r76ZZXmALcHj",
    "outputId": "166143dd-7ef8-4736-bfb7-adb51c5589a0"
   },
   "outputs": [
    {
     "name": "stdout",
     "output_type": "stream",
     "text": [
      "         education       ofjobs     yearsexp       honors    volunteer  \\\n",
      "count  4870.000000  4870.000000  4870.000000  4870.000000  4870.000000   \n",
      "mean      3.618480     3.661396     7.842916     0.052772     0.411499   \n",
      "std       0.714997     1.219126     5.044612     0.223601     0.492156   \n",
      "min       0.000000     1.000000     1.000000     0.000000     0.000000   \n",
      "25%       3.000000     3.000000     5.000000     0.000000     0.000000   \n",
      "50%       4.000000     4.000000     6.000000     0.000000     0.000000   \n",
      "75%       4.000000     4.000000     9.000000     0.000000     1.000000   \n",
      "max       4.000000     7.000000    44.000000     1.000000     1.000000   \n",
      "\n",
      "          military     empholes  occupspecific   occupbroad  workinschool  \\\n",
      "count  4870.000000  4870.000000    4870.000000  4870.000000   4870.000000   \n",
      "mean      0.097125     0.448049     215.637782     3.481520      0.559548   \n",
      "std       0.296159     0.497345     148.127551     2.038036      0.496492   \n",
      "min       0.000000     0.000000       7.000000     1.000000      0.000000   \n",
      "25%       0.000000     0.000000      27.000000     1.000000      0.000000   \n",
      "50%       0.000000     0.000000     267.000000     4.000000      1.000000   \n",
      "75%       0.000000     1.000000     313.000000     6.000000      1.000000   \n",
      "max       1.000000     1.000000     903.000000     6.000000      1.000000   \n",
      "\n",
      "          ...           educreq      compreq       orgreq        manuf  \\\n",
      "count     ...       4870.000000  4870.000000  4870.000000  4870.000000   \n",
      "mean      ...          0.106776     0.437166     0.072690     0.082957   \n",
      "std       ...          0.308860     0.496087     0.259654     0.275845   \n",
      "min       ...          0.000000     0.000000     0.000000     0.000000   \n",
      "25%       ...          0.000000     0.000000     0.000000     0.000000   \n",
      "50%       ...          0.000000     0.000000     0.000000     0.000000   \n",
      "75%       ...          0.000000     1.000000     0.000000     0.000000   \n",
      "max       ...          1.000000     1.000000     1.000000     1.000000   \n",
      "\n",
      "          transcom     bankreal        trade   busservice   othservice  \\\n",
      "count  4870.000000  4870.000000  4870.000000  4870.000000  4870.000000   \n",
      "mean      0.030390     0.085010     0.213963     0.267762     0.154825   \n",
      "std       0.171676     0.278926     0.410143     0.442838     0.361775   \n",
      "min       0.000000     0.000000     0.000000     0.000000     0.000000   \n",
      "25%       0.000000     0.000000     0.000000     0.000000     0.000000   \n",
      "50%       0.000000     0.000000     0.000000     0.000000     0.000000   \n",
      "75%       0.000000     0.000000     0.000000     1.000000     0.000000   \n",
      "max       1.000000     1.000000     1.000000     1.000000     1.000000   \n",
      "\n",
      "           missind  \n",
      "count  4870.000000  \n",
      "mean      0.165092  \n",
      "std       0.371302  \n",
      "min       0.000000  \n",
      "25%       0.000000  \n",
      "50%       0.000000  \n",
      "75%       0.000000  \n",
      "max       1.000000  \n",
      "\n",
      "[8 rows x 55 columns]\n"
     ]
    }
   ],
   "source": [
    "\n",
    "print(data.describe())"
   ]
  },
  {
   "cell_type": "markdown",
   "metadata": {
    "colab_type": "text",
    "id": "WrFECEYpLcHm"
   },
   "source": [
    "The data include 65 columnsand 4870 rows with more than 1.3 MB size. Based on the info() there are some missing data in parent_sales,parent_emp, branch_sales, branch_emp, fed, fracblack_empzip, fracwhite_empzip, lmedhhinc_empzip, fracdropout_empzip, fraccolp_empzip and linc_empzip. \n"
   ]
  },
  {
   "cell_type": "code",
   "execution_count": 18,
   "metadata": {
    "colab": {
     "base_uri": "https://localhost:8080/",
     "height": 162
    },
    "colab_type": "code",
    "id": "rqna5d7ULcHm",
    "outputId": "74d2c868-0f40-4184-bfce-89ed944b79f7"
   },
   "outputs": [
    {
     "name": "stdout",
     "output_type": "stream",
     "text": [
      "the number of black-sounded race entries: 2435\n",
      "the number of white-sounded race entries: 2435\n",
      "-0.032032854209445585\n"
     ]
    },
    {
     "data": {
      "text/html": [
       "<div>\n",
       "<style scoped>\n",
       "    .dataframe tbody tr th:only-of-type {\n",
       "        vertical-align: middle;\n",
       "    }\n",
       "\n",
       "    .dataframe tbody tr th {\n",
       "        vertical-align: top;\n",
       "    }\n",
       "\n",
       "    .dataframe thead th {\n",
       "        text-align: right;\n",
       "    }\n",
       "</style>\n",
       "<table border=\"1\" class=\"dataframe\">\n",
       "  <thead>\n",
       "    <tr style=\"text-align: right;\">\n",
       "      <th></th>\n",
       "      <th>Num_successful</th>\n",
       "      <th>Num_failure</th>\n",
       "      <th>successful_rate</th>\n",
       "      <th>failure_rate</th>\n",
       "      <th>dif_call</th>\n",
       "      <th>prop_dif_call</th>\n",
       "    </tr>\n",
       "  </thead>\n",
       "  <tbody>\n",
       "    <tr>\n",
       "      <th>black_res</th>\n",
       "      <td>157</td>\n",
       "      <td>2278</td>\n",
       "      <td>0.064476</td>\n",
       "      <td>0.935524</td>\n",
       "      <td>2121</td>\n",
       "      <td>0.871047</td>\n",
       "    </tr>\n",
       "    <tr>\n",
       "      <th>white_res</th>\n",
       "      <td>235</td>\n",
       "      <td>2200</td>\n",
       "      <td>0.096509</td>\n",
       "      <td>0.903491</td>\n",
       "      <td>1965</td>\n",
       "      <td>0.806982</td>\n",
       "    </tr>\n",
       "  </tbody>\n",
       "</table>\n",
       "</div>"
      ],
      "text/plain": [
       "           Num_successful  Num_failure  successful_rate  failure_rate  \\\n",
       "black_res             157         2278         0.064476      0.935524   \n",
       "white_res             235         2200         0.096509      0.903491   \n",
       "\n",
       "           dif_call  prop_dif_call  \n",
       "black_res      2121       0.871047  \n",
       "white_res      1965       0.806982  "
      ]
     },
     "execution_count": 18,
     "metadata": {
      "tags": []
     },
     "output_type": "execute_result"
    }
   ],
   "source": [
    "num_b=data['race'].isin(['b']).sum()\n",
    "num_w=data['race'].isin(['w']).sum()\n",
    "print('the number of black-sounded race entries:',num_b)\n",
    "print('the number of white-sounded race entries:',num_w)\n",
    "\n",
    "df=pd.DataFrame(index=['black_res','white_res'],columns=['Num_successful','Num_failure'])\n",
    "df.loc['black_res','Num_successful']=data.call[data.race=='b'].sum()\n",
    "df.loc['black_res','Num_failure']=data['race'].isin(['b']).sum()-data.call[data.race=='b'].sum()\n",
    "df.loc['white_res','Num_successful']=data.call[data.race=='w'].sum()\n",
    "df.loc['white_res','Num_failure']=data['race'].isin(['w']).sum()-data.call[data.race=='w'].sum()\n",
    "df['successful_rate']=df.Num_successful/2435\n",
    "df['failure_rate']=df.Num_failure/2435\n",
    "df['dif_call']=df['Num_failure']-df['Num_successful']\n",
    "df['prop_dif_call']=df['dif_call']/2435\n",
    "\n",
    "\n",
    "print(df.loc['black_res','successful_rate']-df.loc['white_res','successful_rate'])\n",
    "df"
   ]
  },
  {
   "cell_type": "markdown",
   "metadata": {
    "colab_type": "text",
    "id": "CDZsIKSmLcHr"
   },
   "source": [
    "There is equal number of balck and white race entries.  The race data is a categoricall data with 'w' for white-sounded resume and 'b' for black-sounded resume. The call data is also categoricall, with 1 for resumes who succeeded to get the call interview and 0 for who have failed to do so. It seems that black-sounded resumes have shown %3.2 more successful rate to get the job interview call from employers comapre to white-sounded resume. "
   ]
  },
  {
   "cell_type": "code",
   "execution_count": 7,
   "metadata": {
    "colab": {
     "base_uri": "https://localhost:8080/",
     "height": 423
    },
    "colab_type": "code",
    "id": "xRBbnsNaLcHs",
    "outputId": "ec19fce4-192f-4c5b-ddf3-e8ff2252ce57"
   },
   "outputs": [
    {
     "name": "stderr",
     "output_type": "stream",
     "text": [
      "/usr/local/lib/python3.6/dist-packages/seaborn/categorical.py:1468: FutureWarning: remove_na is deprecated and is a private function. Do not use.\n",
      "  stat_data = remove_na(group_data[hue_mask])\n"
     ]
    },
    {
     "data": {
      "image/png": "[encoded data removed]",
      "text/plain": [
       "<matplotlib.figure.Figure at 0x7f2b2dc85c88>"
      ]
     },
     "metadata": {
      "tags": []
     },
     "output_type": "display_data"
    }
   ],
   "source": [
    "sns.set(font_scale=1.5)\n",
    "sns.set_style(\"whitegrid\")\n",
    "fig = plt.figure()\n",
    "sns.countplot(data=data,x='call',hue='race',palette='husl')\n",
    "plt.title('Histogram of call for  black and white people')\n",
    "plt.show()\n",
    "plt.close(fig)"
   ]
  },
  {
   "cell_type": "markdown",
   "metadata": {
    "colab_type": "text",
    "collapsed": true,
    "id": "cVuE4B9tLcHv"
   },
   "source": [
    "<div class=\"span5 alert alert-success\">\n",
    "<p>Your answers to Q1 and Q2 here</p>\n",
    "</div>\n",
    "## 1- What test is appropriate for this problem? Does CLT apply?\n",
    "\n",
    "There are 4870 data sample including 2435 sub_set of black and white race data. It can conclided that the number of sample size is large. Hence, [two-sample binomial proportion hypothesis tests](https://ncss-wpengine.netdna-ssl.com/wp-content/themes/ncss/pdf/Procedures/PASS/Tests_for_Two_Proportions.pdf) or Bootstrapping tests may be applied here. Therefore we have: $$\\text{binomial proportion: } p=\\frac{\\text{number of success}}{\\text{total number}}\\\\\\text{Z statistic: } z= \\frac{p_w-p_b}{\\sigma_D}\\\\\\text{unpooled standard error: }\\sigma_D=\\sqrt{\\frac{p_w(1-p_w)}{n_w}+\\frac{p_b(1-p_b)}{n_b}}\\\\ \\text{margin of error: } M_E=\\sigma_D z$$\n",
    "where $n_b=n_w=2435$ in here. \n",
    "\n",
    "## 2- What are the null and alternate hypotheses?\n",
    "The null hypothesis can be if there are no difference bewtween black and with race to get the interview phone call. The population propotion of getting phone call successfully , $p$, in both groups are similar. Then the alternative hypothesis can be that there is a significant diffenerence between them (two-tailed test). $$H_{0}: p_w-p_b=0\\\\H_a: p_w- p_b\\neq0$$"
   ]
  },
  {
   "cell_type": "code",
   "execution_count": 0,
   "metadata": {
    "colab": {},
    "colab_type": "code",
    "id": "ZuC-ZEeELcHw"
   },
   "outputs": [],
   "source": [
    "w = data[data.race=='w']\n",
    "b = data[data.race=='b']"
   ]
  },
  {
   "cell_type": "markdown",
   "metadata": {
    "colab_type": "text",
    "id": "w_-UdIbfLcHy"
   },
   "source": [
    "## 3- Compute margin of error, confidence interval, and p-value. Try using both the bootstrapping and the frequentist statistical approaches.\n",
    "### Bootstrapping approach\n"
   ]
  },
  {
   "cell_type": "code",
   "execution_count": 9,
   "metadata": {
    "colab": {
     "base_uri": "https://localhost:8080/",
     "height": 68
    },
    "colab_type": "code",
    "id": "Yge8IxZQoIaa",
    "outputId": "feba8ca6-a184-44cf-d010-1129a38dea3c"
   },
   "outputs": [
    {
     "name": "stdout",
     "output_type": "stream",
     "text": [
      "Bootstraping test p-value: 0.502\n",
      "Bootstraping confidence level:  [0.0259 0.0382]\n",
      "Bootstrapping margin of error: [-0.00611933  0.00618067]\n"
     ]
    }
   ],
   "source": [
    "#defining bootstrap sampling function\n",
    "def bs_sampling(data,size=10000):\n",
    "  np.random.seed(10)\n",
    "  #data:input data\n",
    "  #size: size of sampling\n",
    "  s=np.empty(size)\n",
    "  for i in range(size): s[i]=np.sum(np.random.choice(data, size))/size\n",
    "  return s\n",
    "\n",
    "#creating bootsatrap samples\n",
    "bs_w_call= bs_sampling(w.call)\n",
    "bs_b_call= bs_sampling(b.call)\n",
    "\n",
    "bs_diff= bs_w_call-bs_b_call\n",
    "p_diff = (np.sum(w.call)-np.sum(b.call))/len(w.call)\n",
    "\n",
    "bs_p_value=np.sum(bs_diff>=abs(p_diff))/len(bs_diff)\n",
    "bs_conf_int= np.percentile(bs_diff, [2.5, 97.5])\n",
    "bs_mu= np.mean(bs_diff) #mean of bootstraped sample\n",
    "bs_me=bs_conf_int-bs_mu\n",
    "\n",
    "\n",
    "print('Bootstraping test p-value:',bs_p_value)\n",
    "print('Bootstraping confidence level: ',bs_conf_int)\n",
    "print('Bootstrapping margin of error:',bs_me)\n",
    "\n"
   ]
  },
  {
   "cell_type": "markdown",
   "metadata": {
    "colab_type": "text",
    "id": "UKLfdD71ShDM"
   },
   "source": [
    "The p_value from bootstraping hypothesis testing implys that the null value can not be rejected, because p-value>$\\alpha = 0.05$. Hence, it can be concluded that the rate of successful callback for white-sounded resume is similar to the black-sounded one. "
   ]
  },
  {
   "cell_type": "code",
   "execution_count": 10,
   "metadata": {
    "colab": {
     "base_uri": "https://localhost:8080/",
     "height": 650
    },
    "colab_type": "code",
    "id": "p_MuvaJjcMxm",
    "outputId": "eeba915a-ce14-4ec8-924b-1a1f00829e08"
   },
   "outputs": [
    {
     "data": {
      "text/plain": [
       "[]"
      ]
     },
     "execution_count": 10,
     "metadata": {
      "tags": []
     },
     "output_type": "execute_result"
    },
    {
     "data": {
      "image/png": "[encoded data removed]",
      "text/plain": [
       "<matplotlib.figure.Figure at 0x7f2b12dd1438>"
      ]
     },
     "metadata": {
      "tags": []
     },
     "output_type": "display_data"
    }
   ],
   "source": [
    "fig,axes=plt.subplots(1,figsize=(15,10))\n",
    "axes=sns.distplot(bs_diff,color='green',norm_hist=True)\n",
    "axes=plt.axvline(x=p_diff, color='r', linestyle=':',label='Mean of proportion differnce')\n",
    "conintstr = str(round(bs_conf_int[0],4))+', '+str(round(bs_conf_int[1],4))\n",
    "axes=plt.axvspan(bs_conf_int[0], bs_conf_int[1], color='y', alpha=.2, label = '95% confidence interval of sampled: '+conintstr)\n",
    "axes=plt.title('Histogram of bootstrap sampled difference proportion')\n",
    "axes=plt.ylabel('count')\n",
    "axes=plt.legend()\n",
    "plt.xlabel('Distribution of difference of black and white proportion samples')\n",
    "plt.plot()"
   ]
  },
  {
   "cell_type": "markdown",
   "metadata": {
    "colab_type": "text",
    "id": "xVGJhjGhoAJL"
   },
   "source": [
    "### Frequentist statistical approaches"
   ]
  },
  {
   "cell_type": "code",
   "execution_count": 0,
   "metadata": {
    "colab": {
     "base_uri": "https://localhost:8080/",
     "height": 102
    },
    "colab_type": "code",
    "id": "ACMQlXoSLcHz",
    "outputId": "fa016673-0ee9-4447-9e28-78af6db24039"
   },
   "outputs": [
    {
     "name": "stdout",
     "output_type": "stream",
     "text": [
      "Standar deviation (error): 0.008 \n",
      "Z-score: 4.116 \n",
      "p-value: 0.000039 \n",
      "margin of error: 0.015 \n",
      "confidence interval:   [0.016777447859559147, 0.047288260559332024]\n"
     ]
    }
   ],
   "source": [
    "\n",
    "\n",
    "#unpooled standard Eroor\n",
    "ste=np.sqrt((df.loc['black_res','successful_rate']*(1-df.loc['black_res','successful_rate'])/num_b)+(df.loc['white_res','successful_rate']*(1-df.loc['white_res','successful_rate'])/num_w))\n",
    "#Z-score value\n",
    "z_score=((df.loc['white_res','successful_rate']-df.loc['black_res','successful_rate'])/ste)\n",
    "#P-value form z_score\n",
    "p_val = stats.norm.sf(z_score)*2\n",
    "#margin of error for %95 confidence interval\n",
    "me=ste*1.96\n",
    "# Point Estimate\n",
    "pe = df.loc['white_res','successful_rate']-df.loc['black_res','successful_rate']\n",
    "#confidence level\n",
    "con_int=[pe-me,pe+me]\n",
    "\n",
    "\n",
    "\n",
    "print('Standar deviation (error): %4.3f \\nZ-score: %4.3f \\np-value: %f \\nmargin of error: %4.3f \\nconfidence interval:  '%(ste,z_score,p_val,me),con_int)\n"
   ]
  },
  {
   "cell_type": "code",
   "execution_count": 16,
   "metadata": {
    "colab": {
     "base_uri": "https://localhost:8080/",
     "height": 136
    },
    "colab_type": "code",
    "id": "eXTqfQKXQ-Gu",
    "outputId": "20d9e414-855c-419f-a085-d43c31a6b4f6"
   },
   "outputs": [
    {
     "name": "stdout",
     "output_type": "stream",
     "text": [
      "From ztest:\n",
      "Z-Score=0.080\n",
      "P-Value=0.936\n",
      "\n",
      "From Chi-square test:\n",
      "Z-Score=0.006 \n",
      "P-Value=0.936\n"
     ]
    }
   ],
   "source": [
    "# Directly using statsmodel\n",
    "from statsmodels.stats.proportion import proportions_ztest\n",
    "stat, p_val = proportions_ztest([df.loc['white_res','successful_rate'], df.loc['black_res','successful_rate']], [num_b, num_b])\n",
    "print('From ztest:\\nZ-Score={0:0.3f}\\nP-Value={1:0.3f}'.format(stat, p_val))\n",
    "\n",
    "# Directly using statsmodel (chi-squared)\n",
    "from statsmodels.stats.proportion import proportions_chisquare\n",
    "stat, p_val, tbl = proportions_chisquare([df.loc['white_res','successful_rate'], df.loc['black_res','successful_rate']], [num_b, num_b])\n",
    "print('\\nFrom Chi-square test:\\nZ-Score={0:0.3f} \\nP-Value={1:0.3f}'.format(stat, p_val))\n",
    "\n"
   ]
  },
  {
   "cell_type": "markdown",
   "metadata": {
    "colab_type": "text",
    "id": "74zjN3OPLcH6"
   },
   "source": [
    "## 4- Write a story describing the statistical significance in the context or the original problem.\n",
    "\n",
    "The dataset includes 4870 resume entries with two groups of white and black sounded race. each group contains 2435 entries.  The data have data of call feed back from employers. In black-sounding group has 157 cases has suceeded where as in white-sounding group only 235 had callbacks success. In other word, successful rate for balck-sounding group is 0.064476 and for white-sounding group is about 0.096509, resulting %3.2 difference between two groups. In order to examin if there is any racial discrimination basedon resume entries. \n",
    "\n",
    "To test the hypothesis, a bootstrap proportion test was preformed. The null hypotesis here would be if there is no difference between  two successful rates. The alternative hypothesis is these two successful rates are not equal. To preform the test,  a bootstrap sample  of mean of difference of proportions with size of 10000 were created. The bootstrap sample were compered with the mean of difference of successful rates. The p_value was larger than siginificant level ($\\alpha=0.05$) giving that the null hypothesis can not be rejected. It means that the sucessful rate of two groups are similar and thee is no siginificant difference between them. \n",
    "\n"
   ]
  },
  {
   "cell_type": "markdown",
   "metadata": {
    "colab_type": "text",
    "id": "gOY1masKLcH7"
   },
   "source": [
    "## 5- Does your analysis mean that race/name is the most important factor in callback success? Why or why not? If not, how would you amend your analysis? \n",
    "Based on the result of the test, there is no siginificant diffenece between the successful rate of callback of whote-sounding resume and black-sounding one. As a result it may be concluded that the race is not a significant factor in callback success. "
   ]
  },
  {
   "cell_type": "code",
   "execution_count": 0,
   "metadata": {
    "colab": {},
    "colab_type": "code",
    "id": "5N2GBsfLLcH8"
   },
   "outputs": [],
   "source": []
  }
 ],
 "metadata": {
  "colab": {
   "collapsed_sections": [],
   "name": "EDA_racial_discrimination.ipynb",
   "provenance": [],
   "version": "0.3.2"
  },
  "kernelspec": {
   "display_name": "Python 3",
   "language": "python",
   "name": "python3"
  },
  "language_info": {
   "codemirror_mode": {
    "name": "ipython",
    "version": 3
   },
   "file_extension": ".py",
   "mimetype": "text/x-python",
   "name": "python",
   "nbconvert_exporter": "python",
   "pygments_lexer": "ipython3",
   "version": "3.6.6"
  }
 },
 "nbformat": 4,
 "nbformat_minor": 1
}
