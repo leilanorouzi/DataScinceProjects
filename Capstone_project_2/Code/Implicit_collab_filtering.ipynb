{
 "cells": [
  {
   "cell_type": "markdown",
   "metadata": {
    "colab_type": "text",
    "id": "0490CyLTPGRq"
   },
   "source": [
    "## Updating and importing packages\n",
    "\n",
    "Skit-learn and Implicit pakages have to be updated to work properly. If not they won't work. "
   ]
  },
  {
   "cell_type": "code",
   "execution_count": 2,
   "metadata": {
    "colab": {
     "base_uri": "https://localhost:8080/",
     "height": 1941
    },
    "colab_type": "code",
    "id": "2hSBQPGZQ3Jo",
    "outputId": "391ad526-891b-4f6a-da46-0fbce9a42084"
   },
   "outputs": [
    {
     "name": "stdout",
     "output_type": "stream",
     "text": [
      "Requirement already up-to-date: scikit_learn in /Users/leilasapple/anaconda/lib/python3.6/site-packages (0.20.0)\n",
      "Requirement already satisfied, skipping upgrade: scipy>=0.13.3 in /Users/leilasapple/anaconda/lib/python3.6/site-packages (from scikit_learn) (1.1.0)\n",
      "Requirement already satisfied, skipping upgrade: numpy>=1.8.2 in /Users/leilasapple/anaconda/lib/python3.6/site-packages (from scikit_learn) (1.14.2)\n",
      "Requirement already satisfied: implicit in /Users/leilasapple/anaconda/lib/python3.6/site-packages (0.3.6)\n",
      "Requirement already satisfied: h5py in /Users/leilasapple/anaconda/lib/python3.6/site-packages (from implicit) (2.8.0)\n",
      "Requirement already satisfied: scipy>=0.16 in /Users/leilasapple/anaconda/lib/python3.6/site-packages (from implicit) (1.1.0)\n",
      "Requirement already satisfied: tqdm in /Users/leilasapple/anaconda/lib/python3.6/site-packages (from implicit) (4.26.0)\n",
      "Requirement already satisfied: numpy in /Users/leilasapple/anaconda/lib/python3.6/site-packages (from implicit) (1.14.2)\n",
      "Requirement already satisfied: six in /Users/leilasapple/anaconda/lib/python3.6/site-packages (from h5py->implicit) (1.11.0)\n"
     ]
    }
   ],
   "source": [
    "!pip install scikit_learn --upgrade\n",
    "!pip install implicit"
   ]
  },
  {
   "cell_type": "code",
   "execution_count": 3,
   "metadata": {
    "colab": {},
    "colab_type": "code",
    "id": "TCVv7vllZP0U"
   },
   "outputs": [
    {
     "name": "stderr",
     "output_type": "stream",
     "text": [
      "/Users/leilasapple/anaconda/lib/python3.6/site-packages/matplotlib/__init__.py:1067: UserWarning: Duplicate key in file \"/Users/leilasapple/.matplotlib/matplotlibrc\", line #621\n",
      "  (fname, cnt))\n",
      "/Users/leilasapple/anaconda/lib/python3.6/site-packages/sklearn/utils/fixes.py:313: FutureWarning: numpy not_equal will not check object identity in the future. The comparison did not return the same result as suggested by the identity (`is`)) and will change.\n",
      "  _nan_object_mask = _nan_object_array != _nan_object_array\n"
     ]
    }
   ],
   "source": [
    "# Importing required packeges\n",
    "import pandas as pd\n",
    "import numpy as np\n",
    "import os,sys\n",
    "import scipy.sparse as sparse\n",
    "from scipy.sparse.linalg import spsolve\n",
    "from sklearn.preprocessing import MinMaxScaler\n",
    "import random\n",
    "from sklearn import metrics\n",
    "import implicit "
   ]
  },
  {
   "cell_type": "markdown",
   "metadata": {
    "colab_type": "text",
    "id": "8sUHazRPOqek"
   },
   "source": [
    "## Define functions"
   ]
  },
  {
   "cell_type": "code",
   "execution_count": 4,
   "metadata": {
    "colab": {},
    "colab_type": "code",
    "id": "wLROdsH1MJ3H"
   },
   "outputs": [],
   "source": [
    "def make_train(ratings, pct_test = 0.2):\n",
    "    '''\n",
    "    This function will take in the original user-item matrix and \"mask\" a percentage of the original ratings where a\n",
    "    user-item interaction has taken place for use as a test set. The test set will contain all of the original ratings, \n",
    "    while the training set replaces the specified percentage of them with a zero in the original ratings matrix. \n",
    "    \n",
    "    parameters: \n",
    "    \n",
    "    ratings - the original ratings matrix from which you want to generate a train/test set. Test is just a complete\n",
    "    copy of the original set. This is in the form of a sparse csr_matrix. \n",
    "    \n",
    "    pct_test - The percentage of user-item interactions where an interaction took place that you want to mask in the \n",
    "    training set for later comparison to the test set, which contains all of the original ratings. \n",
    "    \n",
    "    returns:\n",
    "    \n",
    "    training_set - The altered version of the original data with a certain percentage of the user-item pairs \n",
    "    that originally had interaction set back to zero.\n",
    "    \n",
    "    test_set - A copy of the original ratings matrix, unaltered, so it can be used to see how the rank order \n",
    "    compares with the actual interactions.\n",
    "    \n",
    "    user_inds - From the randomly selected user-item indices, which user rows were altered in the training data.\n",
    "    This will be necessary later when evaluating the performance via AUC.\n",
    "    '''\n",
    "    test_set = ratings.copy() # Make a copy of the original set to be the test set. \n",
    "    test_set[test_set != 0] = 1 # Store the test set as a binary preference matrix\n",
    "    training_set = ratings.copy() # Make a copy of the original data we can alter as our training set. \n",
    "    nonzero_inds = training_set.nonzero() # Find the indices in the ratings data where an interaction exists\n",
    "    nonzero_pairs = list(zip(nonzero_inds[0], nonzero_inds[1])) # Zip these pairs together of user,item index into list\n",
    "    random.seed(0) # Set the random seed to zero for reproducibility\n",
    "    num_samples = int(np.ceil(pct_test*len(nonzero_pairs))) # Round the number of samples needed to the nearest integer\n",
    "    samples = random.sample(nonzero_pairs, num_samples) # Sample a random number of user-item pairs without replacement\n",
    "    user_inds = [index[0] for index in samples] # Get the user row indices\n",
    "    item_inds = [index[1] for index in samples] # Get the item column indices\n",
    "    training_set[user_inds, item_inds] = 0 # Assign all of the randomly chosen user-item pairs to zero\n",
    "    training_set.eliminate_zeros() # Get rid of zeros in sparse array storage after update to save space\n",
    "    return training_set, test_set, list(set(user_inds)) # Output the unique list of user rows that were altered "
   ]
  },
  {
   "cell_type": "code",
   "execution_count": 5,
   "metadata": {
    "colab": {},
    "colab_type": "code",
    "id": "byGrP_3cSF4p"
   },
   "outputs": [],
   "source": [
    "def rec_items(customer_id, mf_train, user_vecs, item_vecs, customer_list, item_list, item_lookup, num_items = 10):\n",
    "    '''\n",
    "    This function will return the top recommended items to our users \n",
    "    \n",
    "    parameters:\n",
    "    \n",
    "    customer_id - Input the customer's id number that you want to get recommendations for\n",
    "    \n",
    "    mf_train - The training matrix you used for matrix factorization fitting\n",
    "    \n",
    "    user_vecs - the user vectors from your fitted matrix factorization\n",
    "    \n",
    "    item_vecs - the item vectors from your fitted matrix factorization\n",
    "    \n",
    "    customer_list - an array of the customer's ID numbers that make up the rows of your ratings matrix \n",
    "                    (in order of matrix)\n",
    "    \n",
    "    item_list - an array of the products that make up the columns of your ratings matrix\n",
    "                    (in order of matrix)\n",
    "    \n",
    "    item_lookup - A simple pandas dataframe of the unique product ID/product descriptions available\n",
    "    \n",
    "    num_items - The number of items you want to recommend in order of best recommendations. Default is 10. \n",
    "    \n",
    "    returns:\n",
    "    \n",
    "    - The top n recommendations chosen based on the user/item vectors for items never interacted with/purchased\n",
    "    '''\n",
    "    cust_ind = np.where(customer_list == customer_id)[0][0] # Returns the index row of our customer id\n",
    "    pref_vec = mf_train[cust_ind,:].toarray() # Get the ratings from the training set ratings matrix\n",
    "    pref_vec = pref_vec.reshape(-1) + 1 # Add 1 to everything, so that items not purchased yet become equal to 1\n",
    "    pref_vec[pref_vec > 1] = 0 # Make everything already purchased zero\n",
    "    rec_vector = user_vecs[cust_ind,:].dot(item_vecs.T) # Get dot product of user vector and all item vectors\n",
    "    # Scale this recommendation vector between 0 and 1\n",
    "    min_max = MinMaxScaler()\n",
    "    rec_vector_scaled = min_max.fit_transform(rec_vector.reshape(-1,1))[:,0] \n",
    "    recommend_vector = pref_vec*rec_vector_scaled \n",
    "    # Items already purchased have their recommendation multiplied by zero\n",
    "    product_idx = np.argsort(recommend_vector)[::-1][:num_items] # Sort the indices of the items into order \n",
    "    # of best recommendations\n",
    "    rec_list = [] # start empty list to store items\n",
    "    for index in product_idx:\n",
    "        code = item_list[index]\n",
    "        rec_list.append([code, item_lookup.product_name.loc[item_lookup.product_id == code].iloc[0]]) \n",
    "        # Append our descriptions to the list\n",
    "    codes = [item[0] for item in rec_list]\n",
    "    descriptions = [item[1] for item in rec_list]\n",
    "    final_frame = pd.DataFrame({'product_id': codes, 'product_name': descriptions}) # Create a dataframe \n",
    "    return final_frame[['product_id', 'product_name']] # Switch order of columns around"
   ]
  },
  {
   "cell_type": "code",
   "execution_count": 6,
   "metadata": {
    "colab": {},
    "colab_type": "code",
    "id": "M1ssARSAOgNJ"
   },
   "outputs": [],
   "source": [
    "def auc_score(predictions, test):\n",
    "    '''\n",
    "    This simple function will output the area under the curve using sklearn's metrics. \n",
    "    \n",
    "    parameters:\n",
    "    \n",
    "    - predictions: your prediction output\n",
    "    \n",
    "    - test: the actual target result you are comparing to\n",
    "    \n",
    "    returns:\n",
    "    \n",
    "    - AUC (area under the Receiver Operating Characterisic curve)\n",
    "    '''\n",
    "    fpr, tpr, thresholds = metrics.roc_curve(test, predictions)\n",
    "    \n",
    "    return metrics.auc(fpr, tpr)   "
   ]
  },
  {
   "cell_type": "code",
   "execution_count": 7,
   "metadata": {
    "colab": {},
    "colab_type": "code",
    "id": "P1KQhDF2OZum"
   },
   "outputs": [],
   "source": [
    "def calc_mean_auc(training_set, altered_users, predictions, test_set):\n",
    "    '''\n",
    "    This function will calculate the mean AUC by user for any user that had their user-item matrix altered. \n",
    "    \n",
    "    parameters:\n",
    "    \n",
    "    training_set - The training set resulting from make_train, where a certain percentage of the original\n",
    "    user/item interactions are reset to zero to hide them from the model \n",
    "    \n",
    "    predictions - The matrix of your predicted ratings for each user/item pair as output from the implicit MF.\n",
    "    These should be stored in a list, with user vectors as item zero and item vectors as item one. \n",
    "    \n",
    "    altered_users - The indices of the users where at least one user/item pair was altered from make_train function\n",
    "    \n",
    "    test_set - The test set constucted earlier from make_train function\n",
    "    \n",
    "    \n",
    "    \n",
    "    returns:\n",
    "    \n",
    "    The mean AUC (area under the Receiver Operator Characteristic curve) of the test set only on user-item interactions\n",
    "    there were originally zero to test ranking ability in addition to the most popular items as a benchmark.\n",
    "    '''\n",
    "    \n",
    "    \n",
    "    store_auc = [] # An empty list to store the AUC for each user that had an item removed from the training set\n",
    "    popularity_auc = [] # To store popular AUC scores\n",
    "    pop_items = np.array(test_set.sum(axis = 0)).reshape(-1) # Get sum of item iteractions to find most popular\n",
    "    item_vecs = predictions[1]\n",
    "    for user in altered_users: # Iterate through each user that had an item altered\n",
    "        training_row = training_set[user,:].toarray().reshape(-1) # Get the training set row\n",
    "        zero_inds = np.where(training_row == 0) # Find where the interaction had not yet occurred\n",
    "        # Get the predicted values based on our user/item vectors\n",
    "        user_vec = predictions[0][user,:]\n",
    "        pred = user_vec.dot(item_vecs).toarray()[0,zero_inds].reshape(-1)\n",
    "        # Get only the items that were originally zero\n",
    "        # Select all ratings from the MF prediction for this user that originally had no iteraction\n",
    "        actual = test_set[user,:].toarray()[0,zero_inds].reshape(-1) \n",
    "        # Select the binarized yes/no interaction pairs from the original full data\n",
    "        # that align with the same pairs in training \n",
    "        pop = pop_items[zero_inds] # Get the item popularity for our chosen items\n",
    "        store_auc.append(auc_score(pred, actual)) # Calculate AUC for the given user and store\n",
    "        popularity_auc.append(auc_score(pop, actual)) # Calculate AUC using most popular and score\n",
    "    # End users iteration\n",
    "    \n",
    "    return float('%.3f'%np.mean(store_auc)), float('%.3f'%np.mean(popularity_auc))  \n",
    "   # Return the mean AUC rounded to three decimal places for both test and popularity benchmark"
   ]
  },
  {
   "cell_type": "markdown",
   "metadata": {
    "colab_type": "text",
    "id": "0Zw1OqIyOw8Q"
   },
   "source": [
    "## Input  directoies and files"
   ]
  },
  {
   "cell_type": "code",
   "execution_count": 8,
   "metadata": {
    "colab": {
     "base_uri": "https://localhost:8080/",
     "height": 204
    },
    "colab_type": "code",
    "id": "MjuIu24HZdhh",
    "outputId": "d34e5999-c908-4d80-ce06-1d6fe726f214"
   },
   "outputs": [
    {
     "data": {
      "text/plain": [
       "['.ipynb_checkpoints',\n",
       " 'data_InstaCart.csv',\n",
       " 'data_InstaCart_rating.csv',\n",
       " 'data_InstaCart_sparse.npz',\n",
       " 'data_InstaCart_sparse_2.npz']"
      ]
     },
     "execution_count": 8,
     "metadata": {},
     "output_type": "execute_result"
    }
   ],
   "source": [
    "#The input directory in the google dirve\n",
    "input_data_path=\"../Fromgoogle/Input_files\"\n",
    "os.listdir(input_data_path+'/produced')"
   ]
  },
  {
   "cell_type": "code",
   "execution_count": 9,
   "metadata": {
    "colab": {},
    "colab_type": "code",
    "id": "Oy7omVyrcSOu"
   },
   "outputs": [],
   "source": [
    "purchases_sparse=sparse.load_npz(os.path.join(input_data_path+'/produced/','data_InstaCart_sparse_2.npz'))\n",
    "#rating=pd.read_csv(os.path.join(input_data_path+'/produced/','data_InstaCart_rating.csv'))"
   ]
  },
  {
   "cell_type": "markdown",
   "metadata": {
    "colab_type": "text",
    "id": "g8auJt4gO524"
   },
   "source": [
    "## Main program"
   ]
  },
  {
   "cell_type": "markdown",
   "metadata": {
    "colab_type": "text",
    "id": "fotJng9fPCx6"
   },
   "source": [
    "### Train and test datasets"
   ]
  },
  {
   "cell_type": "code",
   "execution_count": 10,
   "metadata": {
    "colab": {},
    "colab_type": "code",
    "id": "NMiwkYuRjQ70"
   },
   "outputs": [],
   "source": [
    "product_train, product_test, product_users_altered = make_train(purchases_sparse, pct_test = 0.2)"
   ]
  },
  {
   "cell_type": "markdown",
   "metadata": {
    "colab_type": "text",
    "id": "O0s6sZetPG3f"
   },
   "source": [
    "### Model"
   ]
  },
  {
   "cell_type": "code",
   "execution_count": 11,
   "metadata": {
    "colab": {
     "base_uri": "https://localhost:8080/",
     "height": 88
    },
    "colab_type": "code",
    "id": "Ce5ujGZ_zXZy",
    "outputId": "13a32713-abd8-45ce-d2e6-e526776962f7"
   },
   "outputs": [
    {
     "name": "stderr",
     "output_type": "stream",
     "text": [
      "This method is deprecated. Please use the AlternatingLeastSquares class instead\n",
      "WARNING:root:Intel MKL BLAS detected. Its highly recommend to set the environment variable 'export MKL_NUM_THREADS=1' to disable its internal multithreading\n",
      "100%|██████████| 50.0/50 [47:22<00:00, 62.36s/it]\n"
     ]
    }
   ],
   "source": [
    "alpha = 15\n",
    "user_vecs, item_vecs = implicit.alternating_least_squares((product_train*alpha).astype('double'), \n",
    "                                                          factors=20, \n",
    "                                                          regularization = 0.1, \n",
    "                                                         iterations = 50)"
   ]
  },
  {
   "cell_type": "code",
   "execution_count": 12,
   "metadata": {
    "colab": {
     "base_uri": "https://localhost:8080/",
     "height": 34
    },
    "colab_type": "code",
    "id": "i0BiYd8AjYTz",
    "outputId": "85ee32b8-3961-4ea1-b4d2-56b8200081d8"
   },
   "outputs": [
    {
     "name": "stdout",
     "output_type": "stream",
     "text": [
      "<class 'numpy.ndarray'> (206209, 20) (49688, 20)\n"
     ]
    }
   ],
   "source": [
    "print(type(user_vecs),user_vecs.shape,item_vecs.shape)"
   ]
  },
  {
   "cell_type": "code",
   "execution_count": 13,
   "metadata": {
    "colab": {},
    "colab_type": "code",
    "id": "0Ji42XHHMdX-"
   },
   "outputs": [],
   "source": [
    "np.savetxt(os.path.join(input_data_path,'user_vecs.csv'),user_vecs, delimiter=\",\")\n",
    "np.savetxt(os.path.join(input_data_path,'item_vecs.csv'),item_vecs, delimiter=\",\")"
   ]
  },
  {
   "cell_type": "code",
   "execution_count": 14,
   "metadata": {
    "colab": {},
    "colab_type": "code",
    "id": "JKhb6D27i5js"
   },
   "outputs": [],
   "source": [
    "data=pd.read_csv(os.path.join(input_data_path+'/produced','data_InstaCart.csv'))[['user_id','product_id']]"
   ]
  },
  {
   "cell_type": "code",
   "execution_count": 15,
   "metadata": {
    "colab": {},
    "colab_type": "code",
    "id": "PsHTOvVwN5Vi"
   },
   "outputs": [],
   "source": [
    "#data=data.join(pd.DataFrame({'user_quantity':data.groupby('user_id').size()})\n",
    "#                                 .reset_index().set_index('user_id'),on=('user_id'))\n"
   ]
  },
  {
   "cell_type": "code",
   "execution_count": 16,
   "metadata": {
    "colab": {
     "base_uri": "https://localhost:8080/",
     "height": 204
    },
    "colab_type": "code",
    "id": "AcAz2ndbTmlC",
    "outputId": "e8a122ae-49b3-4fb3-c619-b0c4cd6ee826"
   },
   "outputs": [
    {
     "data": {
      "text/html": [
       "<div>\n",
       "<style scoped>\n",
       "    .dataframe tbody tr th:only-of-type {\n",
       "        vertical-align: middle;\n",
       "    }\n",
       "\n",
       "    .dataframe tbody tr th {\n",
       "        vertical-align: top;\n",
       "    }\n",
       "\n",
       "    .dataframe thead th {\n",
       "        text-align: right;\n",
       "    }\n",
       "</style>\n",
       "<table border=\"1\" class=\"dataframe\">\n",
       "  <thead>\n",
       "    <tr style=\"text-align: right;\">\n",
       "      <th></th>\n",
       "      <th>product_id</th>\n",
       "      <th>product_name</th>\n",
       "    </tr>\n",
       "  </thead>\n",
       "  <tbody>\n",
       "    <tr>\n",
       "      <th>0</th>\n",
       "      <td>1</td>\n",
       "      <td>Chocolate Sandwich Cookies</td>\n",
       "    </tr>\n",
       "    <tr>\n",
       "      <th>1</th>\n",
       "      <td>2</td>\n",
       "      <td>All-Seasons Salt</td>\n",
       "    </tr>\n",
       "    <tr>\n",
       "      <th>2</th>\n",
       "      <td>3</td>\n",
       "      <td>Robust Golden Unsweetened Oolong Tea</td>\n",
       "    </tr>\n",
       "    <tr>\n",
       "      <th>3</th>\n",
       "      <td>4</td>\n",
       "      <td>Smart Ones Classic Favorites Mini Rigatoni Wit...</td>\n",
       "    </tr>\n",
       "    <tr>\n",
       "      <th>4</th>\n",
       "      <td>5</td>\n",
       "      <td>Green Chile Anytime Sauce</td>\n",
       "    </tr>\n",
       "  </tbody>\n",
       "</table>\n",
       "</div>"
      ],
      "text/plain": [
       "   product_id                                       product_name\n",
       "0           1                         Chocolate Sandwich Cookies\n",
       "1           2                                   All-Seasons Salt\n",
       "2           3               Robust Golden Unsweetened Oolong Tea\n",
       "3           4  Smart Ones Classic Favorites Mini Rigatoni Wit...\n",
       "4           5                          Green Chile Anytime Sauce"
      ]
     },
     "execution_count": 16,
     "metadata": {},
     "output_type": "execute_result"
    }
   ],
   "source": [
    "item_lookup=pd.read_csv(os.path.join('../Input_files/','products.csv'))[['product_id','product_name']]\n",
    "item_lookup.head()"
   ]
  },
  {
   "cell_type": "code",
   "execution_count": 17,
   "metadata": {
    "colab": {},
    "colab_type": "code",
    "id": "n9taUXU4jgWU"
   },
   "outputs": [],
   "source": [
    "customers_arr = np.array(data.user_id.unique()) # Array of customer IDs from the ratings matrix"
   ]
  },
  {
   "cell_type": "code",
   "execution_count": 18,
   "metadata": {
    "colab": {},
    "colab_type": "code",
    "id": "QWCR1R4jKW9w"
   },
   "outputs": [],
   "source": [
    "products_arr = np.array(data.product_id.unique()) # Array of product IDs from the ratings matrix"
   ]
  },
  {
   "cell_type": "code",
   "execution_count": 19,
   "metadata": {
    "colab": {
     "base_uri": "https://localhost:8080/",
     "height": 34
    },
    "colab_type": "code",
    "id": "l4gjhF0VLFIf",
    "outputId": "4aac5f42-4d1d-4010-87d6-51ea7980ffbf"
   },
   "outputs": [
    {
     "data": {
      "text/plain": [
       "206209"
      ]
     },
     "execution_count": 19,
     "metadata": {},
     "output_type": "execute_result"
    }
   ],
   "source": [
    "customers_arr.max()"
   ]
  },
  {
   "cell_type": "code",
   "execution_count": 20,
   "metadata": {
    "colab": {
     "base_uri": "https://localhost:8080/",
     "height": 51
    },
    "colab_type": "code",
    "id": "pKLX9UbsROxH",
    "outputId": "54475abc-2aa4-4692-d697-04a86aa491e8"
   },
   "outputs": [
    {
     "data": {
      "text/plain": [
       "array([   196.,  12427.,  14084.,  26088.,  26405.,  10258.,  13032.,\n",
       "        13176.,  25133.,  30450.])"
      ]
     },
     "execution_count": 20,
     "metadata": {},
     "output_type": "execute_result"
    }
   ],
   "source": [
    "products_arr[:10]"
   ]
  },
  {
   "cell_type": "code",
   "execution_count": 21,
   "metadata": {
    "colab": {
     "base_uri": "https://localhost:8080/",
     "height": 359
    },
    "colab_type": "code",
    "id": "y85mqQDHjJBu",
    "outputId": "c826385b-e0b1-4088-e581-2f012fcb464f",
    "scrolled": true
   },
   "outputs": [
    {
     "name": "stdout",
     "output_type": "stream",
     "text": [
      "\u001b[1mThe products that this customer has orderd so far:\u001b[0m\n",
      "\n",
      " 3375     Organic Whole Kernel Sweet Corn No Salt Added\n",
      "5998                         Semi-Soft Cheese, Ripened\n",
      "6807               Organic Spinach & Cheese Tortellini\n",
      "8517                                 Organic Red Onion\n",
      "11776                                  Red Raspberries\n",
      "13869             Lightly Salted Baked Snap Pea Crisps\n",
      "13987                                        Snow Peas\n",
      "15348                         Organic Raw Agave Nectar\n",
      "16167                  Large Organic Omega3 Brown Eggs\n",
      "16184                             Sharp Cheddar Cheese\n",
      "18760                       Balsamic Vinegar Of Modena\n",
      "19056             Organic Large Extra Fancy Fuji Apple\n",
      "20113                                 Jalapeno Peppers\n",
      "20753                        Mediterranean Mint Gelato\n",
      "20842               100% Pure Eucalyptus Essential Oil\n",
      "21412                                     Organic Soba\n",
      "21615                             Organic Baby Arugula\n",
      "22474                                           Jicama\n",
      "24230                     Tahitian Vanilla Bean Gelato\n",
      "24534                          Plain Whole Milk Yogurt\n",
      "26603                             Organic Blackberries\n",
      "27343                             Uncured Genoa Salami\n",
      "28288                         Organic Shredded Carrots\n",
      "31716                                 Organic Cilantro\n",
      "40705                           Organic Grape Tomatoes\n",
      "43692                             Whole Vitamin D Milk\n",
      "48203                     Tamari Gluten Free Soy Sauce\n",
      "48774                              Organic Red Cabbage\n",
      "Name: product_name, dtype: object \u001b[1m\n",
      "\n",
      "The products that similar customers liked:\u001b[0m\n",
      "     product_id                                       product_name\n",
      "0       9518.0                         Probiotic, Strong, Capsule\n",
      "1      11689.0                   On the Go Low Fat Cottage Cheese\n",
      "2       5547.0                      Roasted Sesame Seaweed Snacks\n",
      "3      44173.0  Crisp Clean Antibacterial Hand Soap With Moist...\n",
      "4       1423.0      100% Lactose Free Whole Calcium Enriched Milk\n",
      "5      26424.0                     Pinot Grigio, California, 2006\n",
      "6      42376.0                                    Gold Blend  Tea\n",
      "7      14697.0                       All Natural 100% Juice Apple\n",
      "8       8682.0                                 All Purpose Eraser\n",
      "9      29942.0  Gluten Free Oatmeal Apple Pieces and Cinnamon ...\n",
      "10      3052.0                              Triple Action Booster\n",
      "11     19737.0                 Cabernet Sauvignon California 2008\n",
      "12     32709.0                   PlugIns Scented Oil Crisp Waters\n",
      "13     36448.0      Fiber d'Lish Soft Baked Chocolate Brownie Bar\n",
      "14     11230.0              Cashew & Ginger Spice Fruit & Nut Bar\n",
      "15     30833.0                         Cote Du Rhone Rouge France\n",
      "16     40742.0                     French Roast Whole Bean Coffee\n",
      "17     46183.0                Xtra Protection Regular Pantiliners\n",
      "18     25554.0                                            Creamer\n",
      "19     17990.0      M-45 Dark Brown Mustache and Beard Hair Color\n"
     ]
    }
   ],
   "source": [
    "#rec_items(1, purchases_sparse, user_vecs, item_vecs, customers_arr, products_arr, item_lookup,num_items = 10)\n",
    "id=5\n",
    "print('\\033[1mThe products that this customer has orderd so far:\\033[0m\\n\\n',\n",
    "    item_lookup.product_name[item_lookup.product_id.isin(data.loc[data.user_id==id,'product_id'].unique().astype(int))],\n",
    "      '\\033[1m\\n\\nThe products that similar customers liked:\\033[0m\\n',\n",
    "      rec_items(id, purchases_sparse, user_vecs, item_vecs, customers_arr, products_arr, item_lookup\n",
    "                ,num_items = 20))"
   ]
  },
  {
   "cell_type": "markdown",
   "metadata": {
    "colab_type": "text",
    "id": "Xl0Rd4vWPjmL"
   },
   "source": [
    "### Evaluation, AUC"
   ]
  },
  {
   "cell_type": "code",
   "execution_count": 22,
   "metadata": {
    "colab": {},
    "colab_type": "code",
    "id": "CZRq8cH3OKxG"
   },
   "outputs": [],
   "source": [
    "roc=calc_mean_auc(product_train, product_users_altered, \n",
    "              [sparse.csr_matrix(user_vecs), sparse.csr_matrix(item_vecs.T)], product_test)"
   ]
  },
  {
   "cell_type": "code",
   "execution_count": 23,
   "metadata": {},
   "outputs": [
    {
     "name": "stdout",
     "output_type": "stream",
     "text": [
      "The mean AUC: 0.961\n"
     ]
    }
   ],
   "source": [
    "print('The mean AUC:',roc[0])"
   ]
  },
  {
   "cell_type": "code",
   "execution_count": null,
   "metadata": {},
   "outputs": [],
   "source": []
  }
 ],
 "metadata": {
  "accelerator": "GPU",
  "colab": {
   "collapsed_sections": [],
   "name": "Implicit_collab_filtering",
   "provenance": [],
   "version": "0.3.2"
  },
  "kernelspec": {
   "display_name": "Python 3",
   "language": "python",
   "name": "python3"
  },
  "language_info": {
   "codemirror_mode": {
    "name": "ipython",
    "version": 3
   },
   "file_extension": ".py",
   "mimetype": "text/x-python",
   "name": "python",
   "nbconvert_exporter": "python",
   "pygments_lexer": "ipython3",
   "version": "3.6.6"
  }
 },
 "nbformat": 4,
 "nbformat_minor": 1
}
