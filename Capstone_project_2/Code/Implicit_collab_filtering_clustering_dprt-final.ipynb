{
 "cells": [
  {
   "cell_type": "markdown",
   "metadata": {
    "colab_type": "text",
    "id": "VQgF0ug7PnZQ"
   },
   "source": [
    "## Insatcart implicit filtering model\n",
    "\n",
    "The idea was from [Jess](https://jessesw.com/Rec-System/ ) blog with little modification. This model is based on colaborative filtering user-item model. Due to large size of the data, I have run the model in different group of customers. \n",
    "\n",
    "Two packages are needed to be updated on google colaborator. *italicized text*"
   ]
  },
  {
   "cell_type": "code",
   "execution_count": null,
   "metadata": {
    "colab": {
     "base_uri": "https://localhost:8080/",
     "height": 411
    },
    "colab_type": "code",
    "id": "LCE79k-5spml",
    "outputId": "5750e343-6190-460d-8c62-d5e1df200b35"
   },
   "outputs": [],
   "source": [
    "!pip install -U scikit-learn\n",
    "!pip install implicit --upgrade"
   ]
  },
  {
   "cell_type": "markdown",
   "metadata": {},
   "source": [
    "## Importing required packeges"
   ]
  },
  {
   "cell_type": "code",
   "execution_count": null,
   "metadata": {
    "colab": {},
    "colab_type": "code",
    "id": "TCVv7vllZP0U"
   },
   "outputs": [],
   "source": [
    "import pandas as pd\n",
    "import numpy as np\n",
    "import os,sys\n",
    "import scipy.sparse as sparse\n",
    "from scipy.sparse.linalg import spsolve\n",
    "import random\n",
    "\n",
    "import sklearn.metrics\n",
    "from sklearn import metrics\n",
    "from sklearn.preprocessing import MinMaxScaler\n",
    "\n",
    "import implicit\n",
    "import warnings\n",
    "warnings.filterwarnings(\"ignore\")"
   ]
  },
  {
   "cell_type": "markdown",
   "metadata": {
    "colab_type": "text",
    "id": "8sUHazRPOqek"
   },
   "source": [
    "## Define functions"
   ]
  },
  {
   "cell_type": "code",
   "execution_count": null,
   "metadata": {
    "colab": {},
    "colab_type": "code",
    "id": "wLROdsH1MJ3H"
   },
   "outputs": [],
   "source": [
    "def make_train(ratings, pct_test = 0.2):\n",
    "    '''\n",
    "    This function will take in the original user-item matrix and \"mask\" a percentage of the original ratings where a\n",
    "    user-item interaction has taken place for use as a test set. The test set will contain all of the original ratings, \n",
    "    while the training set replaces the specified percentage of them with a zero in the original ratings matrix. \n",
    "    \n",
    "    parameters: \n",
    "    \n",
    "    ratings - the original ratings matrix from which you want to generate a train/test set. Test is just a complete\n",
    "    copy of the original set. This is in the form of a sparse csr_matrix. \n",
    "    \n",
    "    pct_test - The percentage of user-item interactions where an interaction took place that you want to mask in the \n",
    "    training set for later comparison to the test set, which contains all of the original ratings. \n",
    "    \n",
    "    returns:\n",
    "    \n",
    "    training_set - The altered version of the original data with a certain percentage of the user-item pairs \n",
    "    that originally had interaction set back to zero.\n",
    "    \n",
    "    test_set - A copy of the original ratings matrix, unaltered, so it can be used to see how the rank order \n",
    "    compares with the actual interactions.\n",
    "    \n",
    "    user_inds - From the randomly selected user-item indices, which user rows were altered in the training data.\n",
    "    This will be necessary later when evaluating the performance via AUC.\n",
    "    '''\n",
    "    test_set = ratings.copy() # Make a copy of the original set to be the test set. \n",
    "    test_set[test_set != 0] = 1 # Store the test set as a binary preference matrix\n",
    "    training_set = ratings.copy() # Make a copy of the original data we can alter as our training set. \n",
    "    nonzero_inds = training_set.nonzero() # Find the indices in the ratings data where an interaction exists\n",
    "    nonzero_pairs = list(zip(nonzero_inds[0], nonzero_inds[1])) # Zip these pairs together of user,item index into list\n",
    "    random.seed(0) # Set the random seed to zero for reproducibility\n",
    "    num_samples = int(np.ceil(pct_test*len(nonzero_pairs))) # Round the number of samples needed to the nearest integer\n",
    "    samples = random.sample(nonzero_pairs, num_samples) # Sample a random number of user-item pairs without replacement\n",
    "    user_inds = [index[0] for index in samples] # Get the user row indices\n",
    "    item_inds = [index[1] for index in samples] # Get the item column indices\n",
    "    training_set[user_inds, item_inds] = 0 # Assign all of the randomly chosen user-item pairs to zero\n",
    "    training_set.eliminate_zeros() # Get rid of zeros in sparse array storage after update to save space\n",
    "    return training_set, test_set, list(set(user_inds)) # Output the unique list of user rows that were altered "
   ]
  },
  {
   "cell_type": "code",
   "execution_count": null,
   "metadata": {},
   "outputs": [],
   "source": [
    "def rec_items(customer_id, mf_train, user_vecs, item_vecs, customer_list, item_list, item_lookup, num_items = 10):\n",
    "    '''\n",
    "    This function will return the top recommended items to our users \n",
    "    \n",
    "    parameters:\n",
    "    \n",
    "    customer_id - Input the customer's id number that you want to get recommendations for\n",
    "    \n",
    "    mf_train - The training matrix you used for matrix factorization fitting\n",
    "    \n",
    "    user_vecs - the user vectors from your fitted matrix factorization\n",
    "    \n",
    "    item_vecs - the item vectors from your fitted matrix factorization\n",
    "    \n",
    "    customer_list - an array of the customer's ID numbers that make up the rows of your ratings matrix \n",
    "                    (in order of matrix)\n",
    "    \n",
    "    item_list - an array of the products that make up the columns of your ratings matrix\n",
    "                    (in order of matrix)\n",
    "    \n",
    "    item_lookup - A simple pandas dataframe of the unique product ID/product descriptions available\n",
    "    \n",
    "    num_items - The number of items you want to recommend in order of best recommendations. Default is 10. \n",
    "    \n",
    "    returns:\n",
    "    \n",
    "    - The top n recommendations chosen based on the user/item vectors for items never interacted with/purchased\n",
    "    '''\n",
    "    cust_ind = np.where(customer_list == customer_id)[0][0] # Returns the index row of our customer id\n",
    "    pref_vec = mf_train[cust_ind,:].toarray() # Get the ratings from the training set ratings matrix\n",
    "    pref_vec = pref_vec.reshape(-1) + 1 # Add 1 to everything, so that items not purchased yet become equal to 1\n",
    "    pref_vec[pref_vec > 1] = 0 # Make everything already purchased zero\n",
    "    rec_vector = user_vecs[cust_ind,:].dot(item_vecs.T) # Get dot product of user vector and all item vectors\n",
    "    # Scale this recommendation vector between 0 and 1\n",
    "    min_max = MinMaxScaler()\n",
    "    rec_vector_scaled = min_max.fit_transform(rec_vector.reshape(-1,1))[:,0] \n",
    "    recommend_vector = pref_vec*rec_vector_scaled \n",
    "    print('The size of user vector:',np.shape(user_vecs))\n",
    "    print('The size of item vector:',np.shape(item_vecs))\n",
    "    print('The size of recommendation vector:',np.shape(recommend_vector))\n",
    "    # Items already purchased have their recommendation multiplied by zero\n",
    "    product_idx = np.argsort(recommend_vector)[::-1][:num_items] # Sort the indices of the items into order \n",
    "    # of best recommendations\n",
    "    rec_list = [] # start empty list to store items\n",
    "    for index in product_idx:\n",
    "        code = item_list[index]\n",
    "        rec_list.append([code, item_lookup.product_name.loc[item_lookup.product_id == code].iloc[0]]) \n",
    "        # Append our descriptions to the list\n",
    "    codes = [item[0] for item in rec_list]\n",
    "    descriptions = [item[1] for item in rec_list]\n",
    "    final_frame = pd.DataFrame({'product_id': codes, 'product_name': descriptions}) # Create a dataframe \n",
    "    \n",
    "      \n",
    "    return final_frame[['product_id', 'product_name']] # Switch order of columns around"
   ]
  },
  {
   "cell_type": "code",
   "execution_count": null,
   "metadata": {
    "colab": {},
    "colab_type": "code",
    "id": "M1ssARSAOgNJ"
   },
   "outputs": [],
   "source": [
    "def auc_score(predictions, test):\n",
    "    '''\n",
    "    This simple function will output the area under the curve using sklearn's metrics. \n",
    "    \n",
    "    parameters:\n",
    "    \n",
    "    - predictions: your prediction output\n",
    "    \n",
    "    - test: the actual target result you are comparing to\n",
    "    \n",
    "    returns:\n",
    "    \n",
    "    - AUC (area under the Receiver Operating Characterisic curve)\n",
    "    '''\n",
    "    fpr, tpr, thresholds = metrics.roc_curve(test, predictions)\n",
    "    #input()\n",
    "    return metrics.auc(fpr, tpr)   "
   ]
  },
  {
   "cell_type": "code",
   "execution_count": null,
   "metadata": {
    "colab": {},
    "colab_type": "code",
    "id": "P1KQhDF2OZum"
   },
   "outputs": [],
   "source": [
    "def calc_mean_auc(training_set, altered_users, predictions, test_set):\n",
    "    '''\n",
    "    This function will calculate the mean AUC by user for any user that had their user-item matrix altered. \n",
    "    \n",
    "    parameters:\n",
    "    \n",
    "    training_set - The training set resulting from make_train, where a certain percentage of the original\n",
    "    user/item interactions are reset to zero to hide them from the model \n",
    "    \n",
    "    predictions - The matrix of your predicted ratings for each user/item pair as output from the implicit MF.\n",
    "    These should be stored in a list, with user vectors as item zero and item vectors as item one. \n",
    "    \n",
    "    altered_users - The indices of the users where at least one user/item pair was altered from make_train function\n",
    "    \n",
    "    test_set - The test set constucted earlier from make_train function\n",
    "    \n",
    "    \n",
    "    \n",
    "    returns:\n",
    "    \n",
    "    The mean AUC (area under the Receiver Operator Characteristic curve) of the test set only on user-item interactions\n",
    "    there were originally zero to test ranking ability in addition to the most popular items as a benchmark.\n",
    "    '''\n",
    "    \n",
    "    \n",
    "    store_auc = [] # An empty list to store the AUC for each user that had an item removed from the training set\n",
    "    store_f1 = []  # An empty list to store the F1 score for each user that had an item removed from the training set\n",
    "    popularity_auc = [] # To store popular AUC scores\n",
    "    pop_items = np.array(test_set.sum(axis = 0)).reshape(-1) # Get sum of item iteractions to find most popular\n",
    "    item_vecs = predictions[1]\n",
    "    for user in altered_users: # Iterate through each user that had an item altered\n",
    "        training_row = training_set[user,:].toarray().reshape(-1) # Get the training set row\n",
    "        zero_inds = np.where(training_row == 0) # Find where the interaction had not yet occurred\n",
    "        # Get the predicted values based on our user/item vectors\n",
    "        user_vec = predictions[0][user,:]\n",
    "        pred = user_vec.dot(item_vecs).toarray()[0,zero_inds].reshape(-1)\n",
    "        # Get only the items that were originally zero\n",
    "        # Select all ratings from the MF prediction for this user that originally had no iteraction\n",
    "        actual = test_set[user,:].toarray()[0,zero_inds].reshape(-1) \n",
    "        # Select the binarized yes/no interaction pairs from the original full data\n",
    "        # that align with the same pairs in training \n",
    "        pop = pop_items[zero_inds] # Get the item popularity for our chosen items\n",
    "        store_auc.append(auc_score(pred, actual)) # Calculate AUC for the given user and stor\n",
    "        #store_f1.append(metrics.f1_score(pred, actual))\n",
    "        popularity_auc.append(auc_score(pop, actual)) # Calculate AUC using most popular and score\n",
    "    # End users iteration\n",
    "    \n",
    "    return [float('%.3f'%np.mean(store_auc)), float('%.3f'%np.mean(popularity_auc))] #,float('%.3f'%np.mean(store_f1))\n",
    "   # Return the mean AUC rounded to three decimal places for both test and popularity benchmark"
   ]
  },
  {
   "cell_type": "markdown",
   "metadata": {
    "colab_type": "text",
    "id": "0Zw1OqIyOw8Q"
   },
   "source": [
    "## Imput files"
   ]
  },
  {
   "cell_type": "code",
   "execution_count": null,
   "metadata": {
    "colab": {
     "base_uri": "https://localhost:8080/",
     "height": 272
    },
    "colab_type": "code",
    "id": "MjuIu24HZdhh",
    "outputId": "88f45e28-2107-408c-bac3-2175da87b477"
   },
   "outputs": [],
   "source": [
    "#The input directory in the google dirve\n",
    "input_data_path=\"../Fromgoogle/Input_files\"\n",
    "os.listdir(input_data_path+'/produced')"
   ]
  },
  {
   "cell_type": "markdown",
   "metadata": {
    "colab_type": "text",
    "id": "dzuncrGZtTaU"
   },
   "source": [
    "## Making sparse matrix"
   ]
  },
  {
   "cell_type": "code",
   "execution_count": null,
   "metadata": {
    "colab": {},
    "colab_type": "code",
    "id": "Oy7omVyrcSOu"
   },
   "outputs": [],
   "source": [
    "#purchases_sparse=sparse.load_npz(os.path.join(input_data_path+'/produced/','data_InstaCart_sparse_over100.npz'))\n",
    "#rating=pd.read_csv(os.path.join(input_data_path+'/produced/','data_InstaCart_rating.csv'))"
   ]
  },
  {
   "cell_type": "code",
   "execution_count": null,
   "metadata": {
    "colab": {},
    "colab_type": "code",
    "id": "jpKEjoU_JWO9"
   },
   "outputs": [],
   "source": [
    "data_rating=pd.read_csv(os.path.join(input_data_path+'/produced','data_InstaCart_rating.csv')).astype(int)"
   ]
  },
  {
   "cell_type": "code",
   "execution_count": null,
   "metadata": {},
   "outputs": [],
   "source": [
    "#data_rating.loc[-1]=[0,0,0]\n",
    "#data_rating.index = data_rating.index + 1  # shifting index\n",
    "#data_rating = data_rating.sort_index()  # sorting by index"
   ]
  },
  {
   "cell_type": "code",
   "execution_count": null,
   "metadata": {
    "colab": {
     "base_uri": "https://localhost:8080/",
     "height": 204
    },
    "colab_type": "code",
    "id": "KesDNbMt7Sdo",
    "outputId": "0b2a7056-6560-49d7-e04c-19b36e8ee458"
   },
   "outputs": [],
   "source": [
    "data_rating.head()"
   ]
  },
  {
   "cell_type": "code",
   "execution_count": null,
   "metadata": {
    "colab": {
     "base_uri": "https://localhost:8080/",
     "height": 450
    },
    "colab_type": "code",
    "id": "abxSzSq9A1gz",
    "outputId": "d0d64fcd-ce9d-4880-9778-f03e83975a7e"
   },
   "outputs": [],
   "source": [
    "print(data_rating.info(),data_rating.shape)\n",
    "data_rating.describe()"
   ]
  },
  {
   "cell_type": "code",
   "execution_count": null,
   "metadata": {
    "colab": {},
    "colab_type": "code",
    "id": "EtQKdnZftxHi"
   },
   "outputs": [],
   "source": [
    "data_cluster=pd.read_csv(os.path.join(input_data_path+'/produced','dprt_user_GMM_class.csv')).drop('Unnamed: 0',axis=1)\n",
    "#cluster=pd.read_csv(os.path.join(input_data_path+'/produced','user_class_products.csv'))"
   ]
  },
  {
   "cell_type": "code",
   "execution_count": null,
   "metadata": {
    "colab": {
     "base_uri": "https://localhost:8080/",
     "height": 111
    },
    "colab_type": "code",
    "id": "Z7kRUFYSuX82",
    "outputId": "79f148f5-7675-4768-c521-91dac9747e15"
   },
   "outputs": [],
   "source": [
    "data_cluster.head(2)"
   ]
  },
  {
   "cell_type": "code",
   "execution_count": null,
   "metadata": {
    "colab": {
     "base_uri": "https://localhost:8080/",
     "height": 204
    },
    "colab_type": "code",
    "id": "AcAz2ndbTmlC",
    "outputId": "f22df3f3-293e-42cb-f71a-e47287810c32",
    "scrolled": false
   },
   "outputs": [],
   "source": [
    "item_lookup=pd.read_csv(os.path.join('../Input_files/','products.csv'))[['product_id','product_name']]\n",
    "item_lookup.head()"
   ]
  },
  {
   "cell_type": "code",
   "execution_count": null,
   "metadata": {},
   "outputs": [],
   "source": [
    "def chosen_user(df_cluster,df_rating,grp,rank=None):\n",
    "    print('***********Choosing a customer***********')\n",
    "    if not rank: rank=10\n",
    "    a=df_cluster.loc[df_cluster.user_dprt_class==grp,'user_id'].values\n",
    "    b=df_rating.loc[df_rating.user_id.isin(a)].reset_index().drop('index',axis=1)\n",
    "    c=pd.DataFrame({'quantity':b.groupby('user_id').size()}).reset_index()\n",
    "    d=b.join(c.set_index('user_id'),on=('user_id'))\n",
    "    print('The number of unique quantities in %ith cluster is %i'%(grp,d.quantity.nunique()))\n",
    "    if d.quantity.nunique()<rank: rank=d.quantity.nunique()\n",
    "    print('rank:',rank)\n",
    "    #print(np.sort(d.quantity.unique()))\n",
    "    indx=np.where(d.quantity==np.sort(d.quantity.unique())[rank])[0]\n",
    "    #print(indx)\n",
    "    #print(d.loc[indx,:].reset_index().loc[0,:])\n",
    "    user=d.loc[indx,:].reset_index().loc[0,'user_id']\n",
    "    print('Customer number %i has %ith place in cluster %i  of customers. \\nThese customers were sroted by the totla number of ordered unique items.'%(user,rank,grp))\n",
    "    \n",
    "    return user\n"
   ]
  },
  {
   "cell_type": "code",
   "execution_count": null,
   "metadata": {},
   "outputs": [],
   "source": [
    "chosen_user(data_cluster,data_rating,1,rank=None)"
   ]
  },
  {
   "cell_type": "code",
   "execution_count": null,
   "metadata": {
    "colab": {},
    "colab_type": "code",
    "id": "TCnE0nmdYQMG"
   },
   "outputs": [],
   "source": [
    "def clustered_collab_filtering(user_place,group,cluster,df,num_items):\n",
    "  #group: is the cluster number of the data you want to work on\n",
    "  #cluster: is the dataset consist of user_id and user_dprt_class\n",
    "  #df: is the data set containg user_id, product_id and rating \n",
    "  #user_place: The palce of the cutomer you have selected in the group based on \n",
    "  #            sorting by the number of unique items that every customer has ordered\n",
    "  #num_items: How manyitems  do you want to recommend to the customer\n",
    "    \n",
    "  #returns: the list of recommended items and the mean AUC of the model\n",
    "  \n",
    "  #refining the data into asking cluster\n",
    "  df=df.loc[df.user_id.isin(cluster.user_id[np.where(cluster.user_dprt_class==group)[0]]),:]\n",
    "  print('\\n\\033[1mThe cluastering data:\\033[0m\\n',cluster.head(),cluster.info(),\n",
    "        '\\n\\033[1mThe rating data for cluster %i:\\033[0m\\n'%group,df.head(),df.info())\n",
    "  \n",
    "  #-----------------------------------------------------------------------------------------------------------\n",
    "\n",
    "  print('\\033[1m*****Making sparse matrix for group '+str(group)+'*****\\033[0m')\n",
    "  customers = list(np.sort(df.user_id.unique())) # Get our unique customers\n",
    "  products = list(df.product_id.unique()) # Get our unique products that were purchased\n",
    "  quantity = list(df.rating) # All of our purchases\n",
    "\n",
    "  rows = df.user_id.astype('category', categories = customers).cat.codes \n",
    "  # Get the associated row indices\n",
    "  cols = df.product_id.astype('category', categories = products).cat.codes \n",
    "  # Get the associated column indices\n",
    "  purchases_sparse = sparse.csr_matrix((quantity, (rows, cols)), shape=(len(customers), len(products)))\n",
    "      \n",
    "  print(purchases_sparse.shape)\n",
    "  \n",
    "  matrix_size = purchases_sparse.shape[0]*purchases_sparse.shape[1] # Number of possible interactions in the matrix\n",
    "  num_purchases = len(purchases_sparse.nonzero()[0]) # Number of items interacted with\n",
    "  sparsity = 100*(1 - (num_purchases/matrix_size))\n",
    "  print('The sparsity of the data in cluster '+str(group)+' is: ',sparsity)\n",
    "   \n",
    "  #-----------------------------------------------------------------------------------------------------------\n",
    "\n",
    "  print('\\033[1m\\n*****Making traing and test sets to evaluate*****\\033[0m')\n",
    "  product_train, product_test, product_users_altered = make_train(purchases_sparse, pct_test = 0.2)\n",
    "   \n",
    "  #-----------------------------------------------------------------------------------------------------------\n",
    "\n",
    "  print('\\033[1m\\n*****Making user and item vecrots*****\\033[0m')\n",
    "  alpha = 15\n",
    "  user_vecs, item_vecs = implicit.alternating_least_squares((product_train*alpha).astype('double')\n",
    "                                                            ,factors=20,regularization = 0.1,iterations = 50)\n",
    "  print('The size of user vector:',np.shape(user_vecs))\n",
    "  print('The size of item vector:',np.shape(item_vecs))\n",
    "  \n",
    "  #-----------------------------------------------------------------------------------------------------------\n",
    "\n",
    "  print('\\033[1m\\n*****Evaluation, calculating AUC*****\\033[0m')\n",
    "  evaluation=calc_mean_auc(product_train, product_users_altered, \n",
    "              [sparse.csr_matrix(user_vecs), sparse.csr_matrix(item_vecs.T)], product_test)\n",
    "  print('The AUC (area under the curve) is :',evaluation[0])\n",
    "  #print('\\n\\n>>>>>>>>>>>>>>>>>>',df.info(),cluster.info())\n",
    "  #-----------------------------------------------------------------------------------------------------------    \n",
    "    \n",
    "  print('\\033[1m\\n*****Making suggestion for the example for customer in cluster'+str(group)+'*****\\033[0m')\n",
    "  customers_arr = np.array(customers) # Array of customer IDs from the ratings matrix\n",
    "  products_arr = np.array(products) # Array of product IDs from the ratings matrix\n",
    "  print(df.info(),cluster.info(),group,user_place)\n",
    "  selcted_user=chosen_user(df_cluster=cluster,df_rating=df,grp=group,rank=user_place)\n",
    "  print('Selected user number:',selcted_user)\n",
    "  result=rec_items(selcted_user,\n",
    "                   purchases_sparse, user_vecs, item_vecs, \n",
    "                   customers_arr, products_arr, item_lookup,num_items = num_items)\n",
    "  \n",
    "  print('\\033[1mThe final suggestions for customer %i :\\033[0m \\n'%selcted_user,result)\n",
    "  \n",
    "  return selcted_user"
   ]
  },
  {
   "cell_type": "code",
   "execution_count": null,
   "metadata": {
    "colab": {
     "base_uri": "https://localhost:8080/",
     "height": 844
    },
    "colab_type": "code",
    "id": "Ab8hqpjf7GAB",
    "outputId": "1724a674-3445-42bd-95eb-c54028c39f6e"
   },
   "outputs": [],
   "source": [
    "grp=0\n",
    "user_place=10   # the rank of sorted customer by the number of number of unique ordered products to choose (1,2,3,4,...,max), form  people who purchased least number of ordered procudts to most number of ordered products\n",
    "chosen_user=clustered_collab_filtering(user_place=user_place,group=grp,cluster=data_cluster,\n",
    "                                        df=data_rating,num_items=10)\n",
    "print('\\n\\033[1mProducts oredered by customer %i:\\033[0m \\n'%chosen_user)\n",
    "print(item_lookup.loc[item_lookup.product_id.isin(data_rating.loc[data_rating.user_id==chosen_user].product_id)]. \\\n",
    "  join(data_rating.loc[data_rating.user_id==chosen_user,['product_id','rating']].set_index('product_id'),\n",
    "       on=('product_id')).reset_index())"
   ]
  },
  {
   "cell_type": "code",
   "execution_count": null,
   "metadata": {
    "scrolled": true
   },
   "outputs": [],
   "source": [
    "grp=1\n",
    "user_place=10   # the rank of sorted customer by the number of number of unique ordered products to choose (1,2,3,4,...,max), form  people who purchased least number of ordered procudts to most number of ordered products\n",
    "chosen_user=clustered_collab_filtering(user_place=user_place,group=grp,cluster=data_cluster,\n",
    "                                        df=data_rating,num_items=10)\n",
    "print('\\n\\033[1mProducts oredered by customer %i\\033[0m'%chosen_user)\n",
    "item_lookup.loc[item_lookup.product_id.isin(data_rating.loc[data_rating.user_id==chosen_user].product_id)]. \\\n",
    "join(data_rating.loc[data_rating.user_id==chosen_user,['product_id','rating']].set_index('product_id')\n",
    "     ,on=('product_id')).reset_index()"
   ]
  },
  {
   "cell_type": "code",
   "execution_count": null,
   "metadata": {},
   "outputs": [],
   "source": [
    "grp=2\n",
    "user_place=10   # the rank of sorted customer by the number of number of unique ordered products to choose (1,2,3,4,...,max), form  people who purchased least number of ordered procudts to most number of ordered products\n",
    "chosen_user=clustered_collab_filtering(user_place,grp,data_cluster,data_rating,10)\n",
    "print('\\n\\033[1mProducts oredered by customer %i\\033[0m'%chosen_user)\n",
    "item_lookup.loc[item_lookup.product_id.isin(data_rating.loc[data_rating.user_id==chosen_user].product_id)]. \\\n",
    "join(data_rating.loc[data_rating.user_id==chosen_user,['product_id','rating']].set_index('product_id'),on=('product_id')).reset_index()"
   ]
  },
  {
   "cell_type": "code",
   "execution_count": null,
   "metadata": {},
   "outputs": [],
   "source": [
    "grp=3\n",
    "user_place=10   # the rank of sorted customer by the number of number of unique ordered products to choose (1,2,3,4,...,max), form  people who purchased least number of ordered procudts to most number of ordered products\n",
    "chosen_user=clustered_collab_filtering(user_place,grp,data_cluster,data_rating,10)\n",
    "print('\\n\\033[1mProducts oredered by customer %i\\033[0m'%chosen_user)\n",
    "item_lookup.loc[item_lookup.product_id.isin(data_rating.loc[data_rating.user_id==chosen_user].product_id)]. \\\n",
    "join(data_rating.loc[data_rating.user_id==chosen_user,['product_id','rating']].set_index('product_id'),on=('product_id')).reset_index()"
   ]
  },
  {
   "cell_type": "code",
   "execution_count": null,
   "metadata": {},
   "outputs": [],
   "source": [
    "grp=4\n",
    "user_place=10   # the rank of sorted customer by the number of number of unique ordered products to choose (1,2,3,4,...,max), form  people who purchased least number of ordered procudts to most number of ordered products\n",
    "chosen_user=clustered_collab_filtering(user_place,grp,data_cluster,data_rating,10)\n",
    "print('\\n\\033[1mProducts oredered by customer %i\\033[0m'%chosen_user)\n",
    "item_lookup.loc[item_lookup.product_id.isin(data_rating.loc[data_rating.user_id==chosen_user].product_id)]. \\\n",
    "join(data_rating.loc[data_rating.user_id==chosen_user,['product_id','rating']].set_index('product_id'),on=('product_id')).reset_index()"
   ]
  },
  {
   "cell_type": "code",
   "execution_count": null,
   "metadata": {},
   "outputs": [],
   "source": [
    "grp=5\n",
    "user_place=10   # the rank of sorted customer by the number of number of unique ordered products to choose (1,2,3,4,...,max), form  people who purchased least number of ordered procudts to most number of ordered products\n",
    "chosen_user=clustered_collab_filtering(user_place,grp,data_cluster,data_rating,10)\n",
    "print('\\n\\033[1mProducts oredered by customer %i\\033[0m'%chosen_user)\n",
    "item_lookup.loc[item_lookup.product_id.isin(data_rating.loc[data_rating.user_id==chosen_user].product_id)]. \\\n",
    "join(data_rating.loc[data_rating.user_id==chosen_user,['product_id','rating']].set_index('product_id'),on=('product_id')).reset_index()"
   ]
  },
  {
   "cell_type": "code",
   "execution_count": null,
   "metadata": {},
   "outputs": [],
   "source": [
    "grp=6\n",
    "user_place=10   # the rank of sorted customer by the number of number of unique ordered products to choose (1,2,3,4,...,max), form  people who purchased least number of ordered procudts to most number of ordered products\n",
    "chosen_user=clustered_collab_filtering(user_place,grp,data_cluster,data_rating,10)\n",
    "print('\\n\\033[1mProducts oredered by customer %i\\033[0m'%chosen_user)\n",
    "item_lookup.loc[item_lookup.product_id.isin(data_rating.loc[data_rating.user_id==chosen_user].product_id)]. \\\n",
    "join(data_rating.loc[data_rating.user_id==chosen_user,['product_id','rating']].set_index('product_id'),on=('product_id')).reset_index()"
   ]
  },
  {
   "cell_type": "code",
   "execution_count": null,
   "metadata": {},
   "outputs": [],
   "source": [
    "grp=7\n",
    "user_place=10   # the rank of sorted customer by the number of number of unique ordered products to choose (1,2,3,4,...,max), form  people who purchased least number of ordered procudts to most number of ordered products\n",
    "chosen_user=clustered_collab_filtering(user_place,grp,data_cluster,data_rating,10)\n",
    "print('\\n\\033[1mProducts oredered by customer %i\\033[0m'%chosen_user)\n",
    "item_lookup.loc[item_lookup.product_id.isin(data_rating.loc[data_rating.user_id==chosen_user].product_id)]. \\\n",
    "join(data_rating.loc[data_rating.user_id==chosen_user,['product_id','rating']].set_index('product_id'),on=('product_id')).reset_index()"
   ]
  },
  {
   "cell_type": "code",
   "execution_count": null,
   "metadata": {},
   "outputs": [],
   "source": [
    "grp=8\n",
    "user_place=10   # the rank of sorted customer by the number of number of unique ordered products to choose (1,2,3,4,...,max), form  people who purchased least number of ordered procudts to most number of ordered products\n",
    "chosen_user=clustered_collab_filtering(user_place,grp,data_cluster,data_rating,10)\n",
    "print('\\n\\033[1mProducts oredered by customer %i\\033[0m'%chosen_user)\n",
    "item_lookup.loc[item_lookup.product_id.isin(data_rating.loc[data_rating.user_id==chosen_user].product_id)]. \\\n",
    "join(data_rating.loc[data_rating.user_id==chosen_user,['product_id','rating']].set_index('product_id'),on=('product_id')).reset_index()"
   ]
  },
  {
   "cell_type": "code",
   "execution_count": null,
   "metadata": {},
   "outputs": [],
   "source": [
    "grp=9\n",
    "user_place=10   # the rank of sorted customer by the number of number of unique ordered products to choose (1,2,3,4,...,max), form  people who purchased least number of ordered procudts to most number of ordered products\n",
    "chosen_user=clustered_collab_filtering(user_place,grp,data_cluster,data_rating,10)\n",
    "print('\\n\\033[1mProducts oredered by customer %i\\033[0m'%chosen_user)\n",
    "item_lookup.loc[item_lookup.product_id.isin(data_rating.loc[data_rating.user_id==chosen_user].product_id)]. \\\n",
    "join(data_rating.loc[data_rating.user_id==chosen_user,['product_id','rating']].set_index('product_id'),on=('product_id')).reset_index()"
   ]
  },
  {
   "cell_type": "code",
   "execution_count": null,
   "metadata": {},
   "outputs": [],
   "source": [
    "grp=10\n",
    "user_place=10   # the rank of sorted customer by the number of number of unique ordered products to choose (1,2,3,4,...,max), form  people who purchased least number of ordered procudts to most number of ordered products\n",
    "chosen_user=clustered_collab_filtering(user_place,grp,data_cluster,data_rating,10)\n",
    "print('\\n\\033[1mProducts oredered by customer %i\\033[0m'%chosen_user)\n",
    "item_lookup.loc[item_lookup.product_id.isin(data_rating.loc[data_rating.user_id==chosen_user].product_id)]. \\\n",
    "join(data_rating.loc[data_rating.user_id==chosen_user,['product_id','rating']].set_index('product_id'),on=('product_id')).reset_index()"
   ]
  },
  {
   "cell_type": "code",
   "execution_count": null,
   "metadata": {},
   "outputs": [],
   "source": [
    "grp=11\n",
    "user_place=10   # the rank of sorted customer by the number of number of unique ordered products to choose (1,2,3,4,...,max), form  people who purchased least number of ordered procudts to most number of ordered products\n",
    "chosen_user=clustered_collab_filtering(user_place,grp,data_cluster,data_rating,10)\n",
    "print('\\n\\033[1mProducts oredered by customer %i\\033[0m'%chosen_user)\n",
    "item_lookup.loc[item_lookup.product_id.isin(data_rating.loc[data_rating.user_id==chosen_user].product_id)]. \\\n",
    "join(data_rating.loc[data_rating.user_id==chosen_user,['product_id','rating']].set_index('product_id'),on=('product_id')).reset_index()"
   ]
  },
  {
   "cell_type": "code",
   "execution_count": null,
   "metadata": {},
   "outputs": [],
   "source": [
    "grp=12\n",
    "user_place=10   # the rank of sorted customer by the number of number of unique ordered products to choose (1,2,3,4,...,max), form  people who purchased least number of ordered procudts to most number of ordered products\n",
    "chosen_user=clustered_collab_filtering(user_place,grp,data_cluster,data_rating,10)\n",
    "print('\\n\\033[1mProducts oredered by customer %i\\033[0m'%chosen_user)\n",
    "item_lookup.loc[item_lookup.product_id.isin(data_rating.loc[data_rating.user_id==chosen_user].product_id)]. \\\n",
    "join(data_rating.loc[data_rating.user_id==chosen_user,['product_id','rating']].set_index('product_id'),on=('product_id')).reset_index()"
   ]
  },
  {
   "cell_type": "code",
   "execution_count": null,
   "metadata": {},
   "outputs": [],
   "source": [
    "grp=13\n",
    "user_place=10   # the rank of sorted customer by the number of number of unique ordered products to choose (1,2,3,4,...,max), form  people who purchased least number of ordered procudts to most number of ordered products\n",
    "chosen_user=clustered_collab_filtering(user_place,grp,data_cluster,data_rating,10)\n",
    "print('\\n\\033[1mProducts oredered by customer %i\\033[0m'%chosen_user)\n",
    "item_lookup.loc[item_lookup.product_id.isin(data_rating.loc[data_rating.user_id==chosen_user].product_id)]. \\\n",
    "join(data_rating.loc[data_rating.user_id==chosen_user,['product_id','rating']].set_index('product_id'),on=('product_id')).reset_index()"
   ]
  },
  {
   "cell_type": "code",
   "execution_count": null,
   "metadata": {},
   "outputs": [],
   "source": [
    "grp=14\n",
    "user_place=10   # the rank of sorted customer by the number of number of unique ordered products to choose (1,2,3,4,...,max), form  people who purchased least number of ordered procudts to most number of ordered products\n",
    "chosen_user=clustered_collab_filtering(user_place,grp,data_cluster,data_rating,10)\n",
    "print('\\n\\033[1mProducts oredered by customer %i\\033[0m'%chosen_user)\n",
    "item_lookup.loc[item_lookup.product_id.isin(data_rating.loc[data_rating.user_id==chosen_user].product_id)]. \\\n",
    "join(data_rating.loc[data_rating.user_id==chosen_user,['product_id','rating']].set_index('product_id'),on=('product_id')).reset_index()"
   ]
  },
  {
   "cell_type": "code",
   "execution_count": null,
   "metadata": {},
   "outputs": [],
   "source": [
    "grp=15\n",
    "user_place=10   # the rank of sorted customer by the number of number of unique ordered products to choose (1,2,3,4,...,max), form  people who purchased least number of ordered procudts to most number of ordered products\n",
    "chosen_user=clustered_collab_filtering(user_place,grp,data_cluster,data_rating,10)\n",
    "print('\\n\\033[1mProducts oredered by customer %i\\033[0m'%chosen_user)\n",
    "item_lookup.loc[item_lookup.product_id.isin(data_rating.loc[data_rating.user_id==chosen_user].product_id)]. \\\n",
    "join(data_rating.loc[data_rating.user_id==chosen_user,['product_id','rating']].set_index('product_id'),on=('product_id')).reset_index()"
   ]
  },
  {
   "cell_type": "code",
   "execution_count": null,
   "metadata": {},
   "outputs": [],
   "source": [
    "grp=16\n",
    "user_place=10   # the rank of sorted customer by the number of number of unique ordered products to choose (1,2,3,4,...,max), form  people who purchased least number of ordered procudts to most number of ordered products\n",
    "chosen_user=clustered_collab_filtering(user_place,grp,data_cluster,data_rating,10)\n",
    "print('\\n\\033[1mProducts oredered by customer %i\\033[0m'%chosen_user)\n",
    "item_lookup.loc[item_lookup.product_id.isin(data_rating.loc[data_rating.user_id==chosen_user].product_id)]. \\\n",
    "join(data_rating.loc[data_rating.user_id==chosen_user,['product_id','rating']].set_index('product_id'),on=('product_id')).reset_index()"
   ]
  },
  {
   "cell_type": "code",
   "execution_count": null,
   "metadata": {},
   "outputs": [],
   "source": [
    "grp=17\n",
    "user_place=10   # the rank of sorted customer by the number of number of unique ordered products to choose (1,2,3,4,...,max), form  people who purchased least number of ordered procudts to most number of ordered products\n",
    "chosen_user=clustered_collab_filtering(user_place,grp,data_cluster,data_rating,10)\n",
    "print('\\n\\033[1mProducts oredered by customer %i\\033[0m'%chosen_user)\n",
    "item_lookup.loc[item_lookup.product_id.isin(data_rating.loc[data_rating.user_id==chosen_user].product_id)]. \\\n",
    "join(data_rating.loc[data_rating.user_id==chosen_user,['product_id','rating']].set_index('product_id'),on=('product_id')).reset_index()"
   ]
  },
  {
   "cell_type": "code",
   "execution_count": null,
   "metadata": {},
   "outputs": [],
   "source": [
    "grp=17\n",
    "user_place=10   # the rank of sorted customer by the number of number of unique ordered products to choose (1,2,3,4,...,max), form  people who purchased least number of ordered procudts to most number of ordered products\n",
    "chosen_user=clustered_collab_filtering(user_place,grp,data_cluster,data_rating,10)\n",
    "print('\\n\\033[1mProducts oredered by customer %i\\033[0m'%chosen_user)\n",
    "item_lookup.loc[item_lookup.product_id.isin(data_rating.loc[data_rating.user_id==chosen_user].product_id)]. \\\n",
    "join(data_rating.loc[data_rating.user_id==chosen_user,['product_id','rating']].set_index('product_id'),on=('product_id')).reset_index()"
   ]
  },
  {
   "cell_type": "code",
   "execution_count": null,
   "metadata": {},
   "outputs": [],
   "source": [
    "np.mean([0.956,0.865,0.864,0.905,0.884,0.916,0.873,0.892,0.84,0.923,0.906,0.947,0.854,0.85,0.938,0.839,0.733,0.92,0.921])"
   ]
  },
  {
   "cell_type": "code",
   "execution_count": null,
   "metadata": {},
   "outputs": [],
   "source": []
  }
 ],
 "metadata": {
  "accelerator": "GPU",
  "colab": {
   "collapsed_sections": [],
   "name": "Implicit_collab_filtering_clustering",
   "provenance": [],
   "version": "0.3.2"
  },
  "kernelspec": {
   "display_name": "Python 3",
   "language": "python",
   "name": "python3"
  },
  "language_info": {
   "codemirror_mode": {
    "name": "ipython",
    "version": 3
   },
   "file_extension": ".py",
   "mimetype": "text/x-python",
   "name": "python",
   "nbconvert_exporter": "python",
   "pygments_lexer": "ipython3",
   "version": "3.6.6"
  }
 },
 "nbformat": 4,
 "nbformat_minor": 1
}
