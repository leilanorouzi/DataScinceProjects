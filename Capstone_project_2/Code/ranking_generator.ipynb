{
  "nbformat": 4,
  "nbformat_minor": 0,
  "metadata": {
    "colab": {
      "name": "ranking_generator.ipynb",
      "version": "0.3.2",
      "provenance": [],
      "collapsed_sections": []
    },
    "kernelspec": {
      "name": "python3",
      "display_name": "Python 3"
    },
    "accelerator": "GPU"
  },
  "cells": [
    {
      "metadata": {
        "id": "wYQ_wwOcTk3N",
        "colab_type": "text"
      },
      "cell_type": "markdown",
      "source": [
        "##Contents"
      ]
    },
    {
      "metadata": {
        "id": "GPsRHvuyTgfy",
        "colab_type": "toc"
      },
      "cell_type": "markdown",
      "source": [
        ">>[Contents](#scrollTo=wYQ_wwOcTk3N)\n",
        "\n",
        ">>[Calculating the rating of products](#scrollTo=B3UZgYMcKJVb)\n",
        "\n",
        ">>[Importing packages](#scrollTo=MQc73JU3JEHT)\n",
        "\n",
        ">>[Importing input files](#scrollTo=KfNEdfkVJKQ4)\n",
        "\n",
        ">>>[Linking to thegoogle drive](#scrollTo=KfNEdfkVJKQ4)\n",
        "\n",
        ">>>[Defining input and out put paths](#scrollTo=SGYHvAS6JVbS)\n",
        "\n",
        ">>>[reading input file](#scrollTo=g6FsNDi0JcTP)\n",
        "\n",
        ">>[Data processing](#scrollTo=jFm-zP2hJjP5)\n",
        "\n",
        ">>[Defining the rating](#scrollTo=BrheekPyJttW)\n",
        "\n",
        ">>[Exporting to an output file](#scrollTo=rMVUjdGDKArh)\n",
        "\n"
      ]
    },
    {
      "metadata": {
        "id": "B3UZgYMcKJVb",
        "colab_type": "text"
      },
      "cell_type": "markdown",
      "source": [
        "## Calculating the rating of products\n",
        "Here I have tried to calculate th rating based on the customer order history. \n",
        "It is not simply a number of a product a customer obatined. Because, consider two customers, A and B, who both ordered a product P. Customer A had ordered 30 products in total and among those orders there are 4 of product P. Customer A also might order other products like Q (12 tiems), R (7 times) and S (7 times) . While customer B only ordered 5 products and he/she also had 4 product of P. It seems the most preferred product for custmer A is product Q, but for customer B, it is product P. The ratio of product P respect to all ordered item for customer  A and customer B are 0.13 and 0.8 respectively. These number may indicate that how much customers A and B need or like product P. Then they have to be rescaled respect to most preferred product of that customer. In this way, I can tell which product is the favourite of a customer. These ratio may represent the rating of product P from cusmtomers A and B.\n",
        "\n",
        "The rating of jth product  ordered by ith customer ($R^i_j$) has calculated as :\n",
        "\\begin{align}\n",
        "R^i_j & = 100\\times\\frac{r^i_j}{r^i_{max}} \\\\\n",
        "r^i_{max} & = \\max(r^i_j) \\\\\n",
        "r^i_j & = \\frac{n^i_j}{N^i}\\\\\n",
        "j&=1,2,...,N^i\n",
        "\\end{align}\n",
        "where $n^i_j$ is the quantity of jth product ordered by ith customer. $N^i$ is the total numper of products ordered by ith customer. "
      ]
    },
    {
      "metadata": {
        "id": "MQc73JU3JEHT",
        "colab_type": "text"
      },
      "cell_type": "markdown",
      "source": [
        "##Importing packages"
      ]
    },
    {
      "metadata": {
        "id": "ponfR3P3y0Kv",
        "colab_type": "code",
        "colab": {}
      },
      "cell_type": "code",
      "source": [
        "from google.colab import files\n",
        "from google.colab import drive\n",
        "import numpy as np\n",
        "import pandas as pd\n",
        "import os,sys"
      ],
      "execution_count": 0,
      "outputs": []
    },
    {
      "metadata": {
        "id": "KfNEdfkVJKQ4",
        "colab_type": "text"
      },
      "cell_type": "markdown",
      "source": [
        "##Importing input files\n",
        "###Linking to thegoogle drive"
      ]
    },
    {
      "metadata": {
        "id": "iE5ZYfHizAl5",
        "colab_type": "code",
        "colab": {
          "base_uri": "https://localhost:8080/",
          "height": 122
        },
        "outputId": "fe07167e-7237-4850-f7c8-f957f311a641"
      },
      "cell_type": "code",
      "source": [
        "#To get access to the files on google drive an authorization code it nessacery which will be given by the linked below\n",
        "drive.mount('/gdrive')"
      ],
      "execution_count": 2,
      "outputs": [
        {
          "output_type": "stream",
          "text": [
            "Go to this URL in a browser: https://accounts.google.com/o/oauth2/auth?client_id=947318989803-6bn6qk8qdgf4n4g3pfee6491hc0brc4i.apps.googleusercontent.com&redirect_uri=urn%3Aietf%3Awg%3Aoauth%3A2.0%3Aoob&scope=email%20https%3A%2F%2Fwww.googleapis.com%2Fauth%2Fdocs.test%20https%3A%2F%2Fwww.googleapis.com%2Fauth%2Fdrive%20https%3A%2F%2Fwww.googleapis.com%2Fauth%2Fdrive.photos.readonly%20https%3A%2F%2Fwww.googleapis.com%2Fauth%2Fpeopleapi.readonly&response_type=code\n",
            "\n",
            "Enter your authorization code:\n",
            "··········\n",
            "Mounted at /gdrive\n"
          ],
          "name": "stdout"
        }
      ]
    },
    {
      "metadata": {
        "id": "SGYHvAS6JVbS",
        "colab_type": "text"
      },
      "cell_type": "markdown",
      "source": [
        "###Defining input and out put paths "
      ]
    },
    {
      "metadata": {
        "id": "A1OTfF3UzC5Q",
        "colab_type": "code",
        "colab": {}
      },
      "cell_type": "code",
      "source": [
        "input_data_path=\"/gdrive/My Drive/Colab Notebooks/Input_files/produced/\"\n",
        "output_data_path=\"/gdrive/My Drive/Colab Notebooks/Output_files\""
      ],
      "execution_count": 0,
      "outputs": []
    },
    {
      "metadata": {
        "id": "g6FsNDi0JcTP",
        "colab_type": "text"
      },
      "cell_type": "markdown",
      "source": [
        "### reading input file"
      ]
    },
    {
      "metadata": {
        "id": "jpKEjoU_JWO9",
        "colab_type": "code",
        "colab": {
          "base_uri": "https://localhost:8080/",
          "height": 306
        },
        "outputId": "d92e0211-ae4c-47da-dc8b-dff1b0249348"
      },
      "cell_type": "code",
      "source": [
        "df=pd.read_csv(os.path.join(input_data_path,'data_InstaCart.csv'))\n",
        "df.info()"
      ],
      "execution_count": 4,
      "outputs": [
        {
          "output_type": "stream",
          "text": [
            "<class 'pandas.core.frame.DataFrame'>\n",
            "RangeIndex: 33894106 entries, 0 to 33894105\n",
            "Data columns (total 12 columns):\n",
            "order_id                  int64\n",
            "user_id                   int64\n",
            "eval_set                  object\n",
            "order_number              int64\n",
            "order_dow                 int64\n",
            "order_hour_of_day         int64\n",
            "days_since_prior_order    float64\n",
            "product_id                float64\n",
            "add_to_cart_order         float64\n",
            "reordered                 float64\n",
            "aisle_id                  float64\n",
            "department_id             float64\n",
            "dtypes: float64(6), int64(5), object(1)\n",
            "memory usage: 3.0+ GB\n"
          ],
          "name": "stdout"
        }
      ]
    },
    {
      "metadata": {
        "id": "jFm-zP2hJjP5",
        "colab_type": "text"
      },
      "cell_type": "markdown",
      "source": [
        "##Data processing"
      ]
    },
    {
      "metadata": {
        "id": "lL1OlBrCH_ny",
        "colab_type": "text"
      },
      "cell_type": "markdown",
      "source": [
        "Removing the missing data and unnecessary data"
      ]
    },
    {
      "metadata": {
        "id": "7LgBiQqPDPr8",
        "colab_type": "code",
        "colab": {}
      },
      "cell_type": "code",
      "source": [
        "df=df.loc[df.eval_set!='test',['user_id','product_id']]"
      ],
      "execution_count": 0,
      "outputs": []
    },
    {
      "metadata": {
        "id": "4pSSTnd6jDcs",
        "colab_type": "code",
        "colab": {
          "base_uri": "https://localhost:8080/",
          "height": 204
        },
        "outputId": "446defdd-3b45-46f4-8334-031963bb4370"
      },
      "cell_type": "code",
      "source": [
        "df.head()"
      ],
      "execution_count": 6,
      "outputs": [
        {
          "output_type": "execute_result",
          "data": {
            "text/html": [
              "<div>\n",
              "<style scoped>\n",
              "    .dataframe tbody tr th:only-of-type {\n",
              "        vertical-align: middle;\n",
              "    }\n",
              "\n",
              "    .dataframe tbody tr th {\n",
              "        vertical-align: top;\n",
              "    }\n",
              "\n",
              "    .dataframe thead th {\n",
              "        text-align: right;\n",
              "    }\n",
              "</style>\n",
              "<table border=\"1\" class=\"dataframe\">\n",
              "  <thead>\n",
              "    <tr style=\"text-align: right;\">\n",
              "      <th></th>\n",
              "      <th>user_id</th>\n",
              "      <th>product_id</th>\n",
              "    </tr>\n",
              "  </thead>\n",
              "  <tbody>\n",
              "    <tr>\n",
              "      <th>0</th>\n",
              "      <td>1</td>\n",
              "      <td>196.0</td>\n",
              "    </tr>\n",
              "    <tr>\n",
              "      <th>1</th>\n",
              "      <td>1</td>\n",
              "      <td>12427.0</td>\n",
              "    </tr>\n",
              "    <tr>\n",
              "      <th>2</th>\n",
              "      <td>1</td>\n",
              "      <td>14084.0</td>\n",
              "    </tr>\n",
              "    <tr>\n",
              "      <th>3</th>\n",
              "      <td>1</td>\n",
              "      <td>26088.0</td>\n",
              "    </tr>\n",
              "    <tr>\n",
              "      <th>4</th>\n",
              "      <td>1</td>\n",
              "      <td>26405.0</td>\n",
              "    </tr>\n",
              "  </tbody>\n",
              "</table>\n",
              "</div>"
            ],
            "text/plain": [
              "   user_id  product_id\n",
              "0        1       196.0\n",
              "1        1     12427.0\n",
              "2        1     14084.0\n",
              "3        1     26088.0\n",
              "4        1     26405.0"
            ]
          },
          "metadata": {
            "tags": []
          },
          "execution_count": 6
        }
      ]
    },
    {
      "metadata": {
        "id": "BrheekPyJttW",
        "colab_type": "text"
      },
      "cell_type": "markdown",
      "source": [
        "## Defining the rating"
      ]
    },
    {
      "metadata": {
        "id": "fXn5ZwlVINUA",
        "colab_type": "text"
      },
      "cell_type": "markdown",
      "source": [
        "Calculating the number of all products a customer ordered"
      ]
    },
    {
      "metadata": {
        "id": "MuhT_aDrGjPQ",
        "colab_type": "code",
        "colab": {
          "base_uri": "https://localhost:8080/",
          "height": 204
        },
        "outputId": "277f0726-bec9-4239-fa72-951ea57f8d93"
      },
      "cell_type": "code",
      "source": [
        "data=pd.DataFrame({'user_portion':df.groupby(['user_id','product_id']).size()}).reset_index()\n",
        "data.head()"
      ],
      "execution_count": 7,
      "outputs": [
        {
          "output_type": "execute_result",
          "data": {
            "text/html": [
              "<div>\n",
              "<style scoped>\n",
              "    .dataframe tbody tr th:only-of-type {\n",
              "        vertical-align: middle;\n",
              "    }\n",
              "\n",
              "    .dataframe tbody tr th {\n",
              "        vertical-align: top;\n",
              "    }\n",
              "\n",
              "    .dataframe thead th {\n",
              "        text-align: right;\n",
              "    }\n",
              "</style>\n",
              "<table border=\"1\" class=\"dataframe\">\n",
              "  <thead>\n",
              "    <tr style=\"text-align: right;\">\n",
              "      <th></th>\n",
              "      <th>user_id</th>\n",
              "      <th>product_id</th>\n",
              "      <th>user_portion</th>\n",
              "    </tr>\n",
              "  </thead>\n",
              "  <tbody>\n",
              "    <tr>\n",
              "      <th>0</th>\n",
              "      <td>1</td>\n",
              "      <td>196.0</td>\n",
              "      <td>11</td>\n",
              "    </tr>\n",
              "    <tr>\n",
              "      <th>1</th>\n",
              "      <td>1</td>\n",
              "      <td>10258.0</td>\n",
              "      <td>10</td>\n",
              "    </tr>\n",
              "    <tr>\n",
              "      <th>2</th>\n",
              "      <td>1</td>\n",
              "      <td>10326.0</td>\n",
              "      <td>1</td>\n",
              "    </tr>\n",
              "    <tr>\n",
              "      <th>3</th>\n",
              "      <td>1</td>\n",
              "      <td>12427.0</td>\n",
              "      <td>10</td>\n",
              "    </tr>\n",
              "    <tr>\n",
              "      <th>4</th>\n",
              "      <td>1</td>\n",
              "      <td>13032.0</td>\n",
              "      <td>4</td>\n",
              "    </tr>\n",
              "  </tbody>\n",
              "</table>\n",
              "</div>"
            ],
            "text/plain": [
              "   user_id  product_id  user_portion\n",
              "0        1       196.0            11\n",
              "1        1     10258.0            10\n",
              "2        1     10326.0             1\n",
              "3        1     12427.0            10\n",
              "4        1     13032.0             4"
            ]
          },
          "metadata": {
            "tags": []
          },
          "execution_count": 7
        }
      ]
    },
    {
      "metadata": {
        "id": "Sg1LjfgZIaZN",
        "colab_type": "text"
      },
      "cell_type": "markdown",
      "source": [
        "The number of each product a customer has ordered"
      ]
    },
    {
      "metadata": {
        "id": "A4Djs_gFItOe",
        "colab_type": "code",
        "colab": {
          "base_uri": "https://localhost:8080/",
          "height": 204
        },
        "outputId": "c2144236-29a1-4656-eb45-02bd9ed9f29c"
      },
      "cell_type": "code",
      "source": [
        "data=data.join(pd.DataFrame({'product_quantity':df.groupby('user_id').size()}).reset_index().set_index('user_id'),on=('user_id'))\n",
        "data.head()"
      ],
      "execution_count": 8,
      "outputs": [
        {
          "output_type": "execute_result",
          "data": {
            "text/html": [
              "<div>\n",
              "<style scoped>\n",
              "    .dataframe tbody tr th:only-of-type {\n",
              "        vertical-align: middle;\n",
              "    }\n",
              "\n",
              "    .dataframe tbody tr th {\n",
              "        vertical-align: top;\n",
              "    }\n",
              "\n",
              "    .dataframe thead th {\n",
              "        text-align: right;\n",
              "    }\n",
              "</style>\n",
              "<table border=\"1\" class=\"dataframe\">\n",
              "  <thead>\n",
              "    <tr style=\"text-align: right;\">\n",
              "      <th></th>\n",
              "      <th>user_id</th>\n",
              "      <th>product_id</th>\n",
              "      <th>user_portion</th>\n",
              "      <th>product_quantity</th>\n",
              "    </tr>\n",
              "  </thead>\n",
              "  <tbody>\n",
              "    <tr>\n",
              "      <th>0</th>\n",
              "      <td>1</td>\n",
              "      <td>196.0</td>\n",
              "      <td>11</td>\n",
              "      <td>70</td>\n",
              "    </tr>\n",
              "    <tr>\n",
              "      <th>1</th>\n",
              "      <td>1</td>\n",
              "      <td>10258.0</td>\n",
              "      <td>10</td>\n",
              "      <td>70</td>\n",
              "    </tr>\n",
              "    <tr>\n",
              "      <th>2</th>\n",
              "      <td>1</td>\n",
              "      <td>10326.0</td>\n",
              "      <td>1</td>\n",
              "      <td>70</td>\n",
              "    </tr>\n",
              "    <tr>\n",
              "      <th>3</th>\n",
              "      <td>1</td>\n",
              "      <td>12427.0</td>\n",
              "      <td>10</td>\n",
              "      <td>70</td>\n",
              "    </tr>\n",
              "    <tr>\n",
              "      <th>4</th>\n",
              "      <td>1</td>\n",
              "      <td>13032.0</td>\n",
              "      <td>4</td>\n",
              "      <td>70</td>\n",
              "    </tr>\n",
              "  </tbody>\n",
              "</table>\n",
              "</div>"
            ],
            "text/plain": [
              "   user_id  product_id  user_portion  product_quantity\n",
              "0        1       196.0            11                70\n",
              "1        1     10258.0            10                70\n",
              "2        1     10326.0             1                70\n",
              "3        1     12427.0            10                70\n",
              "4        1     13032.0             4                70"
            ]
          },
          "metadata": {
            "tags": []
          },
          "execution_count": 8
        }
      ]
    },
    {
      "metadata": {
        "id": "in2oD8kRJ6fe",
        "colab_type": "text"
      },
      "cell_type": "markdown",
      "source": [
        "The ratio of every product respect to all products a customer has ordered"
      ]
    },
    {
      "metadata": {
        "id": "IY8TREmhHWeF",
        "colab_type": "code",
        "colab": {}
      },
      "cell_type": "code",
      "source": [
        "del df\n",
        "data.loc[:,'rating']=data.user_portion/data.product_quantity"
      ],
      "execution_count": 0,
      "outputs": []
    },
    {
      "metadata": {
        "id": "pH8iBG_OJ1fZ",
        "colab_type": "text"
      },
      "cell_type": "markdown",
      "source": [
        "Tha maximum ratio of products of a customer "
      ]
    },
    {
      "metadata": {
        "id": "IHie9j7UHkiM",
        "colab_type": "code",
        "colab": {}
      },
      "cell_type": "code",
      "source": [
        "data=data.join(pd.DataFrame({'max_rating':data.groupby('user_id').rating.max()}).reset_index().set_index('user_id'),on=('user_id'))\n"
      ],
      "execution_count": 0,
      "outputs": []
    },
    {
      "metadata": {
        "id": "nbkoeNpnKoBE",
        "colab_type": "code",
        "colab": {
          "base_uri": "https://localhost:8080/",
          "height": 204
        },
        "outputId": "60ccc402-33fc-4e61-8077-2e74968e4096"
      },
      "cell_type": "code",
      "source": [
        "data.head()"
      ],
      "execution_count": 11,
      "outputs": [
        {
          "output_type": "execute_result",
          "data": {
            "text/html": [
              "<div>\n",
              "<style scoped>\n",
              "    .dataframe tbody tr th:only-of-type {\n",
              "        vertical-align: middle;\n",
              "    }\n",
              "\n",
              "    .dataframe tbody tr th {\n",
              "        vertical-align: top;\n",
              "    }\n",
              "\n",
              "    .dataframe thead th {\n",
              "        text-align: right;\n",
              "    }\n",
              "</style>\n",
              "<table border=\"1\" class=\"dataframe\">\n",
              "  <thead>\n",
              "    <tr style=\"text-align: right;\">\n",
              "      <th></th>\n",
              "      <th>user_id</th>\n",
              "      <th>product_id</th>\n",
              "      <th>user_portion</th>\n",
              "      <th>product_quantity</th>\n",
              "      <th>rating</th>\n",
              "      <th>max_rating</th>\n",
              "    </tr>\n",
              "  </thead>\n",
              "  <tbody>\n",
              "    <tr>\n",
              "      <th>0</th>\n",
              "      <td>1</td>\n",
              "      <td>196.0</td>\n",
              "      <td>11</td>\n",
              "      <td>70</td>\n",
              "      <td>0.157143</td>\n",
              "      <td>0.157143</td>\n",
              "    </tr>\n",
              "    <tr>\n",
              "      <th>1</th>\n",
              "      <td>1</td>\n",
              "      <td>10258.0</td>\n",
              "      <td>10</td>\n",
              "      <td>70</td>\n",
              "      <td>0.142857</td>\n",
              "      <td>0.157143</td>\n",
              "    </tr>\n",
              "    <tr>\n",
              "      <th>2</th>\n",
              "      <td>1</td>\n",
              "      <td>10326.0</td>\n",
              "      <td>1</td>\n",
              "      <td>70</td>\n",
              "      <td>0.014286</td>\n",
              "      <td>0.157143</td>\n",
              "    </tr>\n",
              "    <tr>\n",
              "      <th>3</th>\n",
              "      <td>1</td>\n",
              "      <td>12427.0</td>\n",
              "      <td>10</td>\n",
              "      <td>70</td>\n",
              "      <td>0.142857</td>\n",
              "      <td>0.157143</td>\n",
              "    </tr>\n",
              "    <tr>\n",
              "      <th>4</th>\n",
              "      <td>1</td>\n",
              "      <td>13032.0</td>\n",
              "      <td>4</td>\n",
              "      <td>70</td>\n",
              "      <td>0.057143</td>\n",
              "      <td>0.157143</td>\n",
              "    </tr>\n",
              "  </tbody>\n",
              "</table>\n",
              "</div>"
            ],
            "text/plain": [
              "   user_id  product_id  user_portion  product_quantity    rating  max_rating\n",
              "0        1       196.0            11                70  0.157143    0.157143\n",
              "1        1     10258.0            10                70  0.142857    0.157143\n",
              "2        1     10326.0             1                70  0.014286    0.157143\n",
              "3        1     12427.0            10                70  0.142857    0.157143\n",
              "4        1     13032.0             4                70  0.057143    0.157143"
            ]
          },
          "metadata": {
            "tags": []
          },
          "execution_count": 11
        }
      ]
    },
    {
      "metadata": {
        "id": "F7_uT7L_J-MV",
        "colab_type": "text"
      },
      "cell_type": "markdown",
      "source": [
        "calculating the rating of a product for a customer. "
      ]
    },
    {
      "metadata": {
        "id": "bZRSJysPLrAn",
        "colab_type": "code",
        "colab": {}
      },
      "cell_type": "code",
      "source": [
        "data.rating=(data.rating*100/data.max_rating).round()"
      ],
      "execution_count": 0,
      "outputs": []
    },
    {
      "metadata": {
        "id": "vMB-t_DCL0eb",
        "colab_type": "code",
        "colab": {
          "base_uri": "https://localhost:8080/",
          "height": 204
        },
        "outputId": "d682150a-7296-4f81-bf83-ced7b0922901"
      },
      "cell_type": "code",
      "source": [
        "data.head()"
      ],
      "execution_count": 13,
      "outputs": [
        {
          "output_type": "execute_result",
          "data": {
            "text/html": [
              "<div>\n",
              "<style scoped>\n",
              "    .dataframe tbody tr th:only-of-type {\n",
              "        vertical-align: middle;\n",
              "    }\n",
              "\n",
              "    .dataframe tbody tr th {\n",
              "        vertical-align: top;\n",
              "    }\n",
              "\n",
              "    .dataframe thead th {\n",
              "        text-align: right;\n",
              "    }\n",
              "</style>\n",
              "<table border=\"1\" class=\"dataframe\">\n",
              "  <thead>\n",
              "    <tr style=\"text-align: right;\">\n",
              "      <th></th>\n",
              "      <th>user_id</th>\n",
              "      <th>product_id</th>\n",
              "      <th>user_portion</th>\n",
              "      <th>product_quantity</th>\n",
              "      <th>rating</th>\n",
              "      <th>max_rating</th>\n",
              "    </tr>\n",
              "  </thead>\n",
              "  <tbody>\n",
              "    <tr>\n",
              "      <th>0</th>\n",
              "      <td>1</td>\n",
              "      <td>196.0</td>\n",
              "      <td>11</td>\n",
              "      <td>70</td>\n",
              "      <td>100.0</td>\n",
              "      <td>0.157143</td>\n",
              "    </tr>\n",
              "    <tr>\n",
              "      <th>1</th>\n",
              "      <td>1</td>\n",
              "      <td>10258.0</td>\n",
              "      <td>10</td>\n",
              "      <td>70</td>\n",
              "      <td>91.0</td>\n",
              "      <td>0.157143</td>\n",
              "    </tr>\n",
              "    <tr>\n",
              "      <th>2</th>\n",
              "      <td>1</td>\n",
              "      <td>10326.0</td>\n",
              "      <td>1</td>\n",
              "      <td>70</td>\n",
              "      <td>9.0</td>\n",
              "      <td>0.157143</td>\n",
              "    </tr>\n",
              "    <tr>\n",
              "      <th>3</th>\n",
              "      <td>1</td>\n",
              "      <td>12427.0</td>\n",
              "      <td>10</td>\n",
              "      <td>70</td>\n",
              "      <td>91.0</td>\n",
              "      <td>0.157143</td>\n",
              "    </tr>\n",
              "    <tr>\n",
              "      <th>4</th>\n",
              "      <td>1</td>\n",
              "      <td>13032.0</td>\n",
              "      <td>4</td>\n",
              "      <td>70</td>\n",
              "      <td>36.0</td>\n",
              "      <td>0.157143</td>\n",
              "    </tr>\n",
              "  </tbody>\n",
              "</table>\n",
              "</div>"
            ],
            "text/plain": [
              "   user_id  product_id  user_portion  product_quantity  rating  max_rating\n",
              "0        1       196.0            11                70   100.0    0.157143\n",
              "1        1     10258.0            10                70    91.0    0.157143\n",
              "2        1     10326.0             1                70     9.0    0.157143\n",
              "3        1     12427.0            10                70    91.0    0.157143\n",
              "4        1     13032.0             4                70    36.0    0.157143"
            ]
          },
          "metadata": {
            "tags": []
          },
          "execution_count": 13
        }
      ]
    },
    {
      "metadata": {
        "id": "rMVUjdGDKArh",
        "colab_type": "text"
      },
      "cell_type": "markdown",
      "source": [
        "## Exporting to an output file"
      ]
    },
    {
      "metadata": {
        "id": "RWMUXIfgMw7m",
        "colab_type": "code",
        "colab": {}
      },
      "cell_type": "code",
      "source": [
        "data=data.loc[:,['user_id','product_id','rating']]"
      ],
      "execution_count": 0,
      "outputs": []
    },
    {
      "metadata": {
        "id": "uh1j1kIKNFlp",
        "colab_type": "code",
        "colab": {
          "base_uri": "https://localhost:8080/",
          "height": 204
        },
        "outputId": "7a98cf98-87a3-4cb6-b0db-7331cc767af5"
      },
      "cell_type": "code",
      "source": [
        "data.head()"
      ],
      "execution_count": 15,
      "outputs": [
        {
          "output_type": "execute_result",
          "data": {
            "text/html": [
              "<div>\n",
              "<style scoped>\n",
              "    .dataframe tbody tr th:only-of-type {\n",
              "        vertical-align: middle;\n",
              "    }\n",
              "\n",
              "    .dataframe tbody tr th {\n",
              "        vertical-align: top;\n",
              "    }\n",
              "\n",
              "    .dataframe thead th {\n",
              "        text-align: right;\n",
              "    }\n",
              "</style>\n",
              "<table border=\"1\" class=\"dataframe\">\n",
              "  <thead>\n",
              "    <tr style=\"text-align: right;\">\n",
              "      <th></th>\n",
              "      <th>user_id</th>\n",
              "      <th>product_id</th>\n",
              "      <th>rating</th>\n",
              "    </tr>\n",
              "  </thead>\n",
              "  <tbody>\n",
              "    <tr>\n",
              "      <th>0</th>\n",
              "      <td>1</td>\n",
              "      <td>196.0</td>\n",
              "      <td>100.0</td>\n",
              "    </tr>\n",
              "    <tr>\n",
              "      <th>1</th>\n",
              "      <td>1</td>\n",
              "      <td>10258.0</td>\n",
              "      <td>91.0</td>\n",
              "    </tr>\n",
              "    <tr>\n",
              "      <th>2</th>\n",
              "      <td>1</td>\n",
              "      <td>10326.0</td>\n",
              "      <td>9.0</td>\n",
              "    </tr>\n",
              "    <tr>\n",
              "      <th>3</th>\n",
              "      <td>1</td>\n",
              "      <td>12427.0</td>\n",
              "      <td>91.0</td>\n",
              "    </tr>\n",
              "    <tr>\n",
              "      <th>4</th>\n",
              "      <td>1</td>\n",
              "      <td>13032.0</td>\n",
              "      <td>36.0</td>\n",
              "    </tr>\n",
              "  </tbody>\n",
              "</table>\n",
              "</div>"
            ],
            "text/plain": [
              "   user_id  product_id  rating\n",
              "0        1       196.0   100.0\n",
              "1        1     10258.0    91.0\n",
              "2        1     10326.0     9.0\n",
              "3        1     12427.0    91.0\n",
              "4        1     13032.0    36.0"
            ]
          },
          "metadata": {
            "tags": []
          },
          "execution_count": 15
        }
      ]
    },
    {
      "metadata": {
        "id": "jz1-k-QsNGyu",
        "colab_type": "code",
        "colab": {}
      },
      "cell_type": "code",
      "source": [
        "data.to_csv(os.path.join(input_data_path,'data_InstaCart_rating.csv'), encoding='utf-8',index=False)"
      ],
      "execution_count": 0,
      "outputs": []
    }
  ]
}