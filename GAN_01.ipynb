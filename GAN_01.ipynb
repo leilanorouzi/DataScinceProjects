{
  "nbformat": 4,
  "nbformat_minor": 0,
  "metadata": {
    "colab": {
      "name": "GAN-01.ipynb",
      "provenance": [],
      "collapsed_sections": [],
      "authorship_tag": "ABX9TyNd31y6ejPQdAL7Owp9A/kn",
      "include_colab_link": true
    },
    "kernelspec": {
      "name": "python3",
      "display_name": "Python 3"
    },
    "language_info": {
      "name": "python"
    },
    "accelerator": "GPU"
  },
  "cells": [
    {
      "cell_type": "markdown",
      "metadata": {
        "id": "view-in-github",
        "colab_type": "text"
      },
      "source": [
        "<a href=\"https://colab.research.google.com/github/leilanorouzi/DataScinceProjects/blob/master/GAN_01.ipynb\" target=\"_parent\"><img src=\"https://colab.research.google.com/assets/colab-badge.svg\" alt=\"Open In Colab\"/></a>"
      ]
    },
    {
      "cell_type": "code",
      "execution_count": 19,
      "metadata": {
        "id": "PEDWkoiXFnlm"
      },
      "outputs": [],
      "source": [
        "#! pip3 install -q tensorflow-gpu==2.1.0"
      ]
    },
    {
      "cell_type": "code",
      "source": [
        "import tensorflow as tf\n",
        "print(tf.__version__)\n",
        "print(\"GPU Available:\", tf.test.is_gpu_available())\n",
        "if tf.test.is_gpu_available():\n",
        "  device_name = tf.test.gpu_device_name()\n",
        "else:\n",
        "  device_name = '/CPU:0'\n",
        "print(device_name)"
      ],
      "metadata": {
        "colab": {
          "base_uri": "https://localhost:8080/"
        },
        "id": "LMz_IF-RKMj4",
        "outputId": "bc474f2c-23cf-4ec0-f592-04b3688a070d"
      },
      "execution_count": 20,
      "outputs": [
        {
          "output_type": "stream",
          "name": "stdout",
          "text": [
            "2.8.0\n",
            "GPU Available: True\n",
            "/device:GPU:0\n"
          ]
        }
      ]
    },
    {
      "cell_type": "code",
      "source": [
        "#!pip install tensorflow_datasets\n"
      ],
      "metadata": {
        "id": "n5d9rUd0L7tb"
      },
      "execution_count": 21,
      "outputs": []
    },
    {
      "cell_type": "code",
      "source": [
        "from google.colab import drive\n",
        "drive.mount('/content/drive/')"
      ],
      "metadata": {
        "colab": {
          "base_uri": "https://localhost:8080/"
        },
        "id": "kmUeGxKOKaAD",
        "outputId": "691a0060-974a-4f87-a891-4ab6718011e2"
      },
      "execution_count": 22,
      "outputs": [
        {
          "output_type": "stream",
          "name": "stdout",
          "text": [
            "Drive already mounted at /content/drive/; to attempt to forcibly remount, call drive.mount(\"/content/drive/\", force_remount=True).\n"
          ]
        }
      ]
    },
    {
      "cell_type": "code",
      "source": [
        "import tensorflow as tf\n",
        "import tensorflow_datasets as tfds\n",
        "import numpy as np\n",
        "import matplotlib.pyplot as plt"
      ],
      "metadata": {
        "id": "_CdpwNPdKgm9"
      },
      "execution_count": 23,
      "outputs": []
    },
    {
      "cell_type": "code",
      "source": [
        "def make_generator_network(\n",
        "    num_hidden_layers=1,\n",
        "    num_hidden_units=100,\n",
        "    num_output_units=784):\n",
        "      model = tf.keras.Sequential()\n",
        "      for i in range(num_hidden_layers):\n",
        "        model.add(\n",
        "            tf.keras.layers.Dense(\n",
        "                units=num_hidden_units, use_bias=False))\n",
        "        model.add(tf.keras.layers.LeakyReLU())\n",
        "      model.add(\n",
        "        tf.keras.layers.Dense(\n",
        "            units=num_output_units, activation='tanh'))\n",
        "      return model"
      ],
      "metadata": {
        "id": "GuQPRxnkK1A1"
      },
      "execution_count": 24,
      "outputs": []
    },
    {
      "cell_type": "code",
      "source": [
        "def make_discriminator_network(\n",
        "    num_hidden_layers=1,\n",
        "    num_hidden_units=100,\n",
        "    num_output_units=1):\n",
        "      model = tf.keras.Sequential()\n",
        "      for i in range(num_hidden_layers):\n",
        "        model.add(\n",
        "            tf.keras.layers.Dense(units=num_hidden_units))\n",
        "        model.add(tf.keras.layers.LeakyReLU())\n",
        "        model.add(tf.keras.layers.Dropout(rate=0.5))\n",
        "      model.add(\n",
        "          tf.keras.layers.Dense(\n",
        "              units=num_output_units, activation=None))\n",
        "      return model"
      ],
      "metadata": {
        "id": "A10dRUImNtRW"
      },
      "execution_count": 25,
      "outputs": []
    },
    {
      "cell_type": "code",
      "source": [
        "image_size = (28, 28)\n",
        "z_size = 20\n",
        "mode_z = 'uniform' # 'uniform' vs. 'normal'\n",
        "gen_hidden_layers = 1\n",
        "gen_hidden_size = 100\n",
        "disc_hidden_layers = 1\n",
        "disc_hidden_size = 100\n",
        "tf.random.set_seed(1)\n",
        "gen_model = make_generator_network(\n",
        "    num_hidden_layers=gen_hidden_layers,\n",
        "    num_hidden_units=gen_hidden_size,\n",
        "    num_output_units=np.prod(image_size))\n",
        "gen_model.build(input_shape=(None, z_size))\n",
        "gen_model.summary()"
      ],
      "metadata": {
        "colab": {
          "base_uri": "https://localhost:8080/"
        },
        "id": "iKDIkogUQF48",
        "outputId": "d4cf41d4-2580-4c40-fc35-7b6a33fe82f3"
      },
      "execution_count": 26,
      "outputs": [
        {
          "output_type": "stream",
          "name": "stdout",
          "text": [
            "Model: \"sequential_4\"\n",
            "_________________________________________________________________\n",
            " Layer (type)                Output Shape              Param #   \n",
            "=================================================================\n",
            " dense_8 (Dense)             (None, 100)               2000      \n",
            "                                                                 \n",
            " leaky_re_lu_4 (LeakyReLU)   (None, 100)               0         \n",
            "                                                                 \n",
            " dense_9 (Dense)             (None, 784)               79184     \n",
            "                                                                 \n",
            "=================================================================\n",
            "Total params: 81,184\n",
            "Trainable params: 81,184\n",
            "Non-trainable params: 0\n",
            "_________________________________________________________________\n"
          ]
        }
      ]
    },
    {
      "cell_type": "code",
      "source": [
        "mnist_bldr = tfds.builder('mnist')\n",
        "mnist_bldr.download_and_prepare()\n",
        "mnist = mnist_bldr.as_dataset(shuffle_files=False)\n",
        "def preprocess(ex, mode='uniform'):\n",
        "  image = ex['image']\n",
        "  image = tf.image.convert_image_dtype(image, tf.float32)\n",
        "  image = tf.reshape(image, [-1])\n",
        "  image = image*2 - 1.0\n",
        "  if mode == 'uniform':\n",
        "    input_z = tf.random.uniform(\n",
        "        shape=(z_size,), minval=-1.0, maxval=1.0)\n",
        "  elif mode == 'normal':\n",
        "    input_z = tf.random.normal(shape=(z_size,))\n",
        "  return input_z, image\n",
        "mnist_trainset = mnist['train']\n",
        "mnist_trainset = mnist_trainset.map(preprocess)"
      ],
      "metadata": {
        "id": "tDOLXfkfUcGn"
      },
      "execution_count": 27,
      "outputs": []
    },
    {
      "cell_type": "code",
      "source": [
        "disc_model = make_discriminator_network(\n",
        "    num_hidden_layers=disc_hidden_layers,\n",
        "    num_hidden_units=disc_hidden_size)\n",
        "disc_model.build(input_shape=(None, np.prod(image_size)))\n",
        "disc_model.summary()"
      ],
      "metadata": {
        "colab": {
          "base_uri": "https://localhost:8080/"
        },
        "id": "A9aOTdZJVlkh",
        "outputId": "8b7ee8ff-df48-42db-94b6-99b51fff5dd0"
      },
      "execution_count": 28,
      "outputs": [
        {
          "output_type": "stream",
          "name": "stdout",
          "text": [
            "Model: \"sequential_5\"\n",
            "_________________________________________________________________\n",
            " Layer (type)                Output Shape              Param #   \n",
            "=================================================================\n",
            " dense_10 (Dense)            (None, 100)               78500     \n",
            "                                                                 \n",
            " leaky_re_lu_5 (LeakyReLU)   (None, 100)               0         \n",
            "                                                                 \n",
            " dropout_2 (Dropout)         (None, 100)               0         \n",
            "                                                                 \n",
            " dense_11 (Dense)            (None, 1)                 101       \n",
            "                                                                 \n",
            "=================================================================\n",
            "Total params: 78,601\n",
            "Trainable params: 78,601\n",
            "Non-trainable params: 0\n",
            "_________________________________________________________________\n"
          ]
        }
      ]
    },
    {
      "cell_type": "code",
      "source": [
        "mnist_trainset = mnist_trainset.batch(32, drop_remainder=True)\n",
        "input_z, input_real = next(iter(mnist_trainset))\n",
        "print('input-z -- shape:   ', input_z.shape)\n",
        "print('input-real -- shape:', input_real.shape)\n",
        "g_output = gen_model(input_z)\n",
        "print('Output of G -- shape:', g_output.shape)\n",
        "d_logits_real = disc_model(input_real)\n",
        "d_logits_fake = disc_model(g_output)\n",
        "print('Disc. (real) -- shape:', d_logits_real.shape)\n",
        "print('Disc. (fake) -- shape:', d_logits_fake.shape)"
      ],
      "metadata": {
        "colab": {
          "base_uri": "https://localhost:8080/"
        },
        "id": "e6R0elfDU-Kw",
        "outputId": "5b494692-d643-46ef-807d-02a3b52f2cfe"
      },
      "execution_count": 29,
      "outputs": [
        {
          "output_type": "stream",
          "name": "stdout",
          "text": [
            "input-z -- shape:    (32, 20)\n",
            "input-real -- shape: (32, 784)\n",
            "Output of G -- shape: (32, 784)\n",
            "Disc. (real) -- shape: (32, 1)\n",
            "Disc. (fake) -- shape: (32, 1)\n"
          ]
        }
      ]
    },
    {
      "cell_type": "code",
      "source": [
        "loss_fn = tf.keras.losses.BinaryCrossentropy(from_logits=True)\n",
        "## Loss for the Generator\n",
        "g_labels_real = tf.ones_like(d_logits_fake)\n",
        "g_loss = loss_fn(y_true=g_labels_real, y_pred=d_logits_fake)\n",
        "print('Generator Loss: {:.4f}'.format(g_loss))\n",
        "## Loss for the Discriminator\n",
        "d_labels_real = tf.ones_like(d_logits_real)\n",
        "d_labels_fake = tf.zeros_like(d_logits_fake)\n",
        "d_loss_real = loss_fn(y_true=d_labels_real,\n",
        "                      y_pred=d_logits_real)\n",
        "d_loss_fake = loss_fn(y_true=d_labels_fake,\n",
        "                      y_pred=d_logits_fake)\n",
        "print('Discriminator Losses: Real {:.4f} Fake {:.4f}'.format(d_loss_real.numpy(), d_loss_fake.numpy()))"
      ],
      "metadata": {
        "colab": {
          "base_uri": "https://localhost:8080/"
        },
        "id": "6qy2aCv7g7Tj",
        "outputId": "60bf6651-7d29-45f1-b61c-9dd40306d34f"
      },
      "execution_count": 30,
      "outputs": [
        {
          "output_type": "stream",
          "name": "stdout",
          "text": [
            "Generator Loss: 0.7355\n",
            "Discriminator Losses: Real 1.5073 Fake 0.6583\n"
          ]
        }
      ]
    },
    {
      "cell_type": "code",
      "source": [
        "import time\n",
        "num_epochs = 100\n",
        "batch_size = 64\n",
        "image_size = (28, 28)\n",
        "z_size = 20\n",
        "mode_z = 'uniform'\n",
        "gen_hidden_layers = 1\n",
        "gen_hidden_size = 100\n",
        "disc_hidden_layers = 1\n",
        "disc_hidden_size = 100\n",
        "tf.random.set_seed(1)\n",
        "np.random.seed(1)\n",
        "if mode_z == 'uniform':\n",
        "  fixed_z = tf.random.uniform(\n",
        "      shape=(batch_size, z_size),\n",
        "      minval=-1, maxval=1)\n",
        "elif mode_z == 'normal':\n",
        "    fixed_z = tf.random.normal(\n",
        "        shape=(batch_size, z_size))\n",
        "def create_samples(g_model, input_z):\n",
        "  g_output = g_model(input_z, training=False)\n",
        "  images = tf.reshape(g_output, (batch_size, *image_size))\n",
        "  return (images+1)/2.0\n",
        "## Set-up the dataset\n",
        "mnist_trainset = mnist['train']\n",
        "mnist_trainset = mnist_trainset.map(\n",
        "    lambda ex: preprocess(ex, mode=mode_z))\n",
        "mnist_trainset = mnist_trainset.shuffle(10000)\n",
        "mnist_trainset = mnist_trainset.batch(\n",
        "    batch_size, drop_remainder=True)\n",
        "## Set-up the model\n",
        "with tf.device(device_name):\n",
        "  gen_model = make_generator_network(\n",
        "      num_hidden_layers=gen_hidden_layers,\n",
        "      num_hidden_units=gen_hidden_size,\n",
        "      num_output_units=np.prod(image_size))\n",
        "  gen_model.build(input_shape=(None, z_size))\n",
        "  disc_model = make_discriminator_network(\n",
        "      num_hidden_layers=disc_hidden_layers,\n",
        "      num_hidden_units=disc_hidden_size)\n",
        "  disc_model.build(input_shape=(None, np.prod(image_size)))\n",
        "## Loss function and optimizers:\n",
        "loss_fn = tf.keras.losses.BinaryCrossentropy(from_logits=True)\n",
        "g_optimizer = tf.keras.optimizers.Adam()\n",
        "d_optimizer = tf.keras.optimizers.Adam()\n",
        "all_losses = []\n",
        "all_d_vals = []\n",
        "epoch_samples = []\n",
        "start_time = time.time()\n",
        "for epoch in range(1, num_epochs+1):\n",
        "  epoch_losses, epoch_d_vals = [], []\n",
        "  for i,(input_z,input_real) in enumerate(mnist_trainset):\n",
        "    ## Compute generator's loss\n",
        "    with tf.GradientTape() as g_tape:\n",
        "      g_output = gen_model(input_z)\n",
        "      d_logits_fake = disc_model(g_output,\n",
        "                                 training=True)\n",
        "      labels_real = tf.ones_like(d_logits_fake)\n",
        "      g_loss = loss_fn(y_true=labels_real,\n",
        "                       y_pred=d_logits_fake)\n",
        "\n",
        "## Compute the gradients of g_loss\n",
        "g_grads = g_tape.gradient(g_loss,\n",
        "                          gen_model.trainable_variables)\n",
        "\n",
        "## Optimization: Apply the gradients\n",
        "g_optimizer.apply_gradients(\n",
        "    grads_and_vars=zip(g_grads,\n",
        "                       gen_model.trainable_variables))\n",
        "## Compute discriminator's loss\n",
        "with tf.GradientTape() as d_tape:\n",
        "  d_logits_real = disc_model(input_real,\n",
        "                             training=True)\n",
        "  d_labels_real = tf.ones_like(d_logits_real)\n",
        "  d_loss_real = loss_fn(\n",
        "      y_true=d_labels_real, y_pred=d_logits_real)\n",
        "  d_logits_fake = disc_model(g_output,\n",
        "                             training=True)\n",
        "  d_labels_fake = tf.zeros_like(d_logits_fake)\n",
        "  d_loss_fake = loss_fn(\n",
        "      y_true=d_labels_fake, y_pred=d_logits_fake)\n",
        "  d_loss = d_loss_real + d_loss_fake\n",
        "  ## Compute the gradients of d_loss\n",
        "  d_grads = d_tape.gradient(d_loss,\n",
        "                            disc_model.trainable_variables)\n",
        "  ## Optimization: Apply the gradients\n",
        "  d_optimizer.apply_gradients(\n",
        "      grads_and_vars=zip(d_grads,\n",
        "                         disc_model.trainable_variables))\n",
        "  epoch_losses.append(\n",
        "      (g_loss.numpy(), d_loss.numpy(),\n",
        "       d_loss_real.numpy(), d_loss_fake.numpy()))\n",
        "  d_probs_real = tf.reduce_mean(\n",
        "      tf.sigmoid(d_logits_real))\n",
        "  d_probs_fake = tf.reduce_mean(\n",
        "      tf.sigmoid(d_logits_fake))\n",
        "  epoch_d_vals.append((d_probs_real.numpy(),\n",
        "                       d_probs_fake.numpy()))\n",
        "  all_losses.append(epoch_losses)\n",
        "  all_d_vals.append(epoch_d_vals)\n",
        "  print(\n",
        "      'Epoch {:03d} | ET {:.2f} min | Avg Losses >>'\n",
        "      ' G/D {:.4f}/{:.4f} [D-Real: {:.4f} D-Fake: {:.4f}]'\n",
        "      .format(\n",
        "          epoch, (time.time() - start_time)/60,\n",
        "          *list(np.mean(all_losses[-1], axis=0))))\n",
        "  epoch_samples.append(\n",
        "      create_samples(gen_model, fixed_z).numpy())\n",
        "  "
      ],
      "metadata": {
        "colab": {
          "base_uri": "https://localhost:8080/"
        },
        "id": "r5fhvovEhabY",
        "outputId": "1cf959fb-b866-4018-94ce-8f30f9b1bdf2"
      },
      "execution_count": null,
      "outputs": [
        {
          "output_type": "stream",
          "name": "stdout",
          "text": [
            "Epoch 100 | ET 18.17 min | Avg Losses >> G/D 0.6903/1.1837 [D-Real: 0.4713 D-Fake: 0.7123]\n"
          ]
        }
      ]
    },
    {
      "cell_type": "code",
      "source": [
        "import itertools\n",
        "fig = plt.figure(figsize=(16, 6))\n",
        "## Plotting the losses\n",
        "ax = fig.add_subplot(1, 2, 1)\n",
        "g_losses = [item[0] for item in itertools.chain(*all_losses)]\n",
        "d_losses = [item[1]/2.0 for item in itertools.chain(\n",
        "    *all_losses)]\n",
        "plt.plot(g_losses, label='Generator loss', alpha=0.95)\n",
        "plt.plot(d_losses, label='Discriminator loss', alpha=0.95)\n",
        "plt.legend(fontsize=20)\n",
        "ax.set_xlabel('Iteration', size=15)\n",
        "ax.set_ylabel('Loss', size=15)\n",
        "epochs = np.arange(1, 101)\n",
        "epoch2iter = lambda e: e*len(all_losses[-1])\n",
        "epoch_ticks = [1, 20, 40, 60, 80, 100]\n",
        "newpos = [epoch2iter(e) for e in epoch_ticks]\n",
        "ax2 = ax.twiny()\n",
        "ax2.set_xticks(newpos)\n",
        "ax2.set_xticklabels(epoch_ticks)\n",
        "ax2.xaxis.set_ticks_position('bottom')\n",
        "ax2.xaxis.set_label_position('bottom')\n",
        "ax2.spines['bottom'].set_position(('outward', 60))\n",
        "ax2.set_xlabel('Epoch', size=15)\n",
        "ax2.set_xlim(ax.get_xlim())\n",
        "ax.tick_params(axis='both', which='major', labelsize=15)\n",
        "ax2.tick_params(axis='both', which='major', labelsize=15)\n",
        "## Plotting the outputs of the discriminator\n",
        "ax = fig.add_subplot(1, 2, 2)\n",
        "d_vals_real = [item[0] for item in itertools.chain(\n",
        "    *all_d_vals)]\n",
        "d_vals_fake = [item[1] for item in itertools.chain(\n",
        "    *all_d_vals)]\n",
        "plt.plot(d_vals_real, alpha=0.75,\n",
        "         label=r'Real: $D(\\mathbf{x})$')\n",
        "plt.plot(d_vals_fake, alpha=0.75,\n",
        "         label=r'Fake: $D(G(\\mathbf{z}))$')\n",
        "plt.legend(fontsize=20)\n",
        "ax.set_xlabel('Iteration', size=15)\n",
        "ax.set_ylabel('Discriminator output', size=15)\n",
        "ax2 = ax.twiny()\n",
        "ax2.set_xticks(newpos)\n",
        "ax2.set_xticklabels(epoch_ticks)\n",
        "ax2.xaxis.set_ticks_position('bottom')\n",
        "ax2.xaxis.set_label_position('bottom')\n",
        "ax2.spines['bottom'].set_position(('outward', 60))\n",
        "ax2.set_xlabel('Epoch', size=15)\n",
        "ax2.set_xlim(ax.get_xlim())\n",
        "ax.tick_params(axis='both', which='major', labelsize=15)\n",
        "ax2.tick_params(axis='both', which='major', labelsize=15)\n",
        "plt.show()\n"
      ],
      "metadata": {
        "colab": {
          "base_uri": "https://localhost:8080/",
          "height": 436
        },
        "id": "ROLeI96ZVepa",
        "outputId": "8a763a5e-a70d-4773-f954-9a678946d65e"
      },
      "execution_count": 36,
      "outputs": [
        {
          "output_type": "display_data",
          "data": {
            "text/plain": [
              "<Figure size 1152x432 with 4 Axes>"
            ],
            "image/png": "[encoded data removed]"
          },
          "metadata": {
            "needs_background": "light"
          }
        }
      ]
    },
    {
      "cell_type": "code",
      "source": [
        "selected_epochs = [1, 2, 4, 10, 50, 100]\n",
        "fig = plt.figure(figsize=(10, 14))\n",
        "for i,e in enumerate(selected_epochs):\n",
        "  for j in range(5):\n",
        "    ax = fig.add_subplot(6, 5, i*5+j+1)\n",
        "    ax.set_xticks([])\n",
        "    ax.set_yticks([])\n",
        "    if j == 0:\n",
        "      ax.text(\n",
        "          -0.06, 0.5, 'Epoch {}'.format(e),\n",
        "          rotation=90, size=18, color='red',\n",
        "          horizontalalignment='right',\n",
        "          verticalalignment='center',\n",
        "          transform=ax.transAxes)\n",
        "    image = epoch_samples[e-1][j]\n",
        "    ax.imshow(image, cmap='gray_r')\n",
        "plt.show()\n"
      ],
      "metadata": {
        "colab": {
          "base_uri": "https://localhost:8080/",
          "height": 490
        },
        "id": "iFIS0_BwV-9X",
        "outputId": "71d9c019-1469-4a91-8026-c4c3ba61f07d"
      },
      "execution_count": 35,
      "outputs": [
        {
          "output_type": "error",
          "ename": "IndexError",
          "evalue": "ignored",
          "traceback": [
            "\u001b[0;31m---------------------------------------------------------------------------\u001b[0m",
            "\u001b[0;31mIndexError\u001b[0m                                Traceback (most recent call last)",
            "\u001b[0;32m<ipython-input-35-85d134835204>\u001b[0m in \u001b[0;36m<module>\u001b[0;34m()\u001b[0m\n\u001b[1;32m     13\u001b[0m           \u001b[0mverticalalignment\u001b[0m\u001b[0;34m=\u001b[0m\u001b[0;34m'center'\u001b[0m\u001b[0;34m,\u001b[0m\u001b[0;34m\u001b[0m\u001b[0;34m\u001b[0m\u001b[0m\n\u001b[1;32m     14\u001b[0m           transform=ax.transAxes)\n\u001b[0;32m---> 15\u001b[0;31m     \u001b[0mimage\u001b[0m \u001b[0;34m=\u001b[0m \u001b[0mepoch_samples\u001b[0m\u001b[0;34m[\u001b[0m\u001b[0me\u001b[0m\u001b[0;34m-\u001b[0m\u001b[0;36m1\u001b[0m\u001b[0;34m]\u001b[0m\u001b[0;34m[\u001b[0m\u001b[0mj\u001b[0m\u001b[0;34m]\u001b[0m\u001b[0;34m\u001b[0m\u001b[0;34m\u001b[0m\u001b[0m\n\u001b[0m\u001b[1;32m     16\u001b[0m     \u001b[0max\u001b[0m\u001b[0;34m.\u001b[0m\u001b[0mimshow\u001b[0m\u001b[0;34m(\u001b[0m\u001b[0mimage\u001b[0m\u001b[0;34m,\u001b[0m \u001b[0mcmap\u001b[0m\u001b[0;34m=\u001b[0m\u001b[0;34m'gray_r'\u001b[0m\u001b[0;34m)\u001b[0m\u001b[0;34m\u001b[0m\u001b[0;34m\u001b[0m\u001b[0m\n\u001b[1;32m     17\u001b[0m \u001b[0mplt\u001b[0m\u001b[0;34m.\u001b[0m\u001b[0mshow\u001b[0m\u001b[0;34m(\u001b[0m\u001b[0;34m)\u001b[0m\u001b[0;34m\u001b[0m\u001b[0;34m\u001b[0m\u001b[0m\n",
            "\u001b[0;31mIndexError\u001b[0m: list index out of range"
          ]
        },
        {
          "output_type": "display_data",
          "data": {
            "text/plain": [
              "<Figure size 720x1008 with 6 Axes>"
            ],
            "image/png": "[encoded data removed]"
          },
          "metadata": {}
        }
      ]
    }
  ]
}