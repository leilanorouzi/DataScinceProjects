{
  "nbformat": 4,
  "nbformat_minor": 0,
  "metadata": {
    "colab": {
      "name": "Capstone Project 1 - Inferential Statistics.ipynb",
      "version": "0.3.2",
      "provenance": [],
      "collapsed_sections": [],
      "include_colab_link": true
    },
    "kernelspec": {
      "name": "python3",
      "display_name": "Python 3"
    }
  },
  "cells": [
    {
      "cell_type": "markdown",
      "metadata": {
        "id": "view-in-github",
        "colab_type": "text"
      },
      "source": [
        "<a href=\"https://colab.research.google.com/github/leilanorouzi/SpringBoard/blob/master/Capstone_project1/Capstone_Project_1_Inferential_Statistics.ipynb\" target=\"_parent\"><img src=\"https://colab.research.google.com/assets/colab-badge.svg\" alt=\"Open In Colab\"/></a>"
      ]
    },
    {
      "metadata": {
        "id": "HTbckc9yrqvD",
        "colab_type": "text"
      },
      "cell_type": "markdown",
      "source": [
        "# Capstone project 1 - Infential statistics\n",
        "\n",
        "Data are collected from  [RRVF kaggle](https://www.kaggle.com/c/recruit-restaurant-visitor-forecasting) driven from reservation websites. The data set includes two datasets containing date and time of reservation and the number of people from air and hpg data systems. Also, there are some information about the restaurant such as location and the type of the restaurant. \n",
        "\n",
        "Two datasets of store information, reservation data and visit data from each air and hpg data systems were merged together to provide a whole data sets for each system. The missing values were deleted. Then both data system were combined using relation information of restaurants to generate our main dataset. However, there was not the related information for some of the entries.\n",
        "\n",
        "1. The project contains lots of categorical data.  There are the genre of the restaurant, day of the week, the name of the restaurant location, holiday, date, and etc. One approach is the extraction of some information from those categorical data. \n",
        "2. There were not the related information for some of the entries. It is not exactly missing data. It is more like there are lots of entries for some resturant whereas only there one entry for others. The number of entries for resturants are not equal.\n",
        "3. This dataset contains store_id, date and time, genre, location and holiday which are categorical data. There are 517 unique dates, 4947 unique stores, 44 different genres, and 186 different area name.\n",
        "\n",
        "In here we are going to answer some of following questions:\n",
        "- Are there variables that are particularly significant in terms of explaining the answer to your project question? \n",
        "- Are there strong correlations between pairs of independent variables, or between an independent and a dependent variable? \n",
        "\n",
        "\n"
      ]
    },
    {
      "metadata": {
        "id": "m-jmxLehxfjh",
        "colab_type": "code",
        "colab": {}
      },
      "cell_type": "code",
      "source": [
        "!pip install seaborn -U\n",
        "!pip install matplotlib -U\n",
        "import pandas as pd\n",
        "import numpy as np\n",
        "import os\n",
        "import matplotlib.pyplot as plt\n",
        "import seaborn as sns\n"
      ],
      "execution_count": 0,
      "outputs": []
    },
    {
      "metadata": {
        "id": "4c5ITxVSra0g",
        "colab_type": "code",
        "outputId": "4a98de57-9575-438c-ae76-19e005b4ddfd",
        "colab": {
          "base_uri": "https://localhost:8080/",
          "height": 34
        }
      },
      "cell_type": "code",
      "source": [
        "from google.colab import files\n",
        "#To get access to the files on google drive an authorization code it nessacery which will be given by the linked below\n",
        "from google.colab import drive\n",
        "drive.mount('/gdrive')\n",
        "#The input directory in the google dirve\n",
        "input_data_path=\"/gdrive/My Drive/Colab Notebooks/Capstone_project_1/\"\n"
      ],
      "execution_count": 64,
      "outputs": [
        {
          "output_type": "stream",
          "text": [
            "Drive already mounted at /gdrive; to attempt to forcibly remount, call drive.mount(\"/gdrive\", force_remount=True).\n"
          ],
          "name": "stdout"
        }
      ]
    },
    {
      "metadata": {
        "id": "EWugDwACrZpI",
        "colab_type": "code",
        "colab": {}
      },
      "cell_type": "code",
      "source": [
        "df=pd.read_csv(os.path.join(input_data_path,'df0.csv'))"
      ],
      "execution_count": 0,
      "outputs": []
    },
    {
      "metadata": {
        "id": "CyFoSlM61Xnz",
        "colab_type": "code",
        "outputId": "244432a2-7a79-474a-eeb6-97c9f9a8874d",
        "colab": {
          "base_uri": "https://localhost:8080/",
          "height": 394
        }
      },
      "cell_type": "code",
      "source": [
        "df.head()"
      ],
      "execution_count": 66,
      "outputs": [
        {
          "output_type": "execute_result",
          "data": {
            "text/html": [
              "<div>\n",
              "<style scoped>\n",
              "    .dataframe tbody tr th:only-of-type {\n",
              "        vertical-align: middle;\n",
              "    }\n",
              "\n",
              "    .dataframe tbody tr th {\n",
              "        vertical-align: top;\n",
              "    }\n",
              "\n",
              "    .dataframe thead th {\n",
              "        text-align: right;\n",
              "    }\n",
              "</style>\n",
              "<table border=\"1\" class=\"dataframe\">\n",
              "  <thead>\n",
              "    <tr style=\"text-align: right;\">\n",
              "      <th></th>\n",
              "      <th>store_id</th>\n",
              "      <th>visit_datetime</th>\n",
              "      <th>reserve_datetime</th>\n",
              "      <th>reserve_visitors</th>\n",
              "      <th>genre_name</th>\n",
              "      <th>area_name</th>\n",
              "      <th>latitude</th>\n",
              "      <th>longitude</th>\n",
              "      <th>holiday</th>\n",
              "      <th>time_difference</th>\n",
              "      <th>visit_dayofweek</th>\n",
              "      <th>visit_month</th>\n",
              "      <th>visit_day</th>\n",
              "      <th>visit_hour</th>\n",
              "      <th>visit_date</th>\n",
              "      <th>visit_year</th>\n",
              "      <th>store_id_date</th>\n",
              "    </tr>\n",
              "  </thead>\n",
              "  <tbody>\n",
              "    <tr>\n",
              "      <th>0</th>\n",
              "      <td>air_877f79706adbfb06</td>\n",
              "      <td>2016-01-01 19:00:00</td>\n",
              "      <td>2016-01-01 16:00:00</td>\n",
              "      <td>1</td>\n",
              "      <td>Japanese food</td>\n",
              "      <td>Tōkyō-to Minato-ku Shibakōen</td>\n",
              "      <td>35.658068</td>\n",
              "      <td>139.751599</td>\n",
              "      <td>1.0</td>\n",
              "      <td>3.0</td>\n",
              "      <td>4</td>\n",
              "      <td>1</td>\n",
              "      <td>1</td>\n",
              "      <td>19</td>\n",
              "      <td>2016-01-01</td>\n",
              "      <td>2016</td>\n",
              "      <td>air_877f79706adbfb06-2016-01-01</td>\n",
              "    </tr>\n",
              "    <tr>\n",
              "      <th>1</th>\n",
              "      <td>air_db4b38ebe7a7ceff</td>\n",
              "      <td>2016-01-01 19:00:00</td>\n",
              "      <td>2016-01-01 19:00:00</td>\n",
              "      <td>3</td>\n",
              "      <td>Dining bar</td>\n",
              "      <td>Ōsaka-fu Ōsaka-shi Shinmachi</td>\n",
              "      <td>34.676231</td>\n",
              "      <td>135.486059</td>\n",
              "      <td>1.0</td>\n",
              "      <td>0.0</td>\n",
              "      <td>4</td>\n",
              "      <td>1</td>\n",
              "      <td>1</td>\n",
              "      <td>19</td>\n",
              "      <td>2016-01-01</td>\n",
              "      <td>2016</td>\n",
              "      <td>air_db4b38ebe7a7ceff-2016-01-01</td>\n",
              "    </tr>\n",
              "    <tr>\n",
              "      <th>2</th>\n",
              "      <td>air_db4b38ebe7a7ceff</td>\n",
              "      <td>2016-01-01 19:00:00</td>\n",
              "      <td>2016-01-01 19:00:00</td>\n",
              "      <td>6</td>\n",
              "      <td>Dining bar</td>\n",
              "      <td>Ōsaka-fu Ōsaka-shi Shinmachi</td>\n",
              "      <td>34.676231</td>\n",
              "      <td>135.486059</td>\n",
              "      <td>1.0</td>\n",
              "      <td>0.0</td>\n",
              "      <td>4</td>\n",
              "      <td>1</td>\n",
              "      <td>1</td>\n",
              "      <td>19</td>\n",
              "      <td>2016-01-01</td>\n",
              "      <td>2016</td>\n",
              "      <td>air_db4b38ebe7a7ceff-2016-01-01</td>\n",
              "    </tr>\n",
              "    <tr>\n",
              "      <th>3</th>\n",
              "      <td>air_877f79706adbfb06</td>\n",
              "      <td>2016-01-01 20:00:00</td>\n",
              "      <td>2016-01-01 16:00:00</td>\n",
              "      <td>2</td>\n",
              "      <td>Japanese food</td>\n",
              "      <td>Tōkyō-to Minato-ku Shibakōen</td>\n",
              "      <td>35.658068</td>\n",
              "      <td>139.751599</td>\n",
              "      <td>1.0</td>\n",
              "      <td>4.0</td>\n",
              "      <td>4</td>\n",
              "      <td>1</td>\n",
              "      <td>1</td>\n",
              "      <td>20</td>\n",
              "      <td>2016-01-01</td>\n",
              "      <td>2016</td>\n",
              "      <td>air_877f79706adbfb06-2016-01-01</td>\n",
              "    </tr>\n",
              "    <tr>\n",
              "      <th>4</th>\n",
              "      <td>air_db80363d35f10926</td>\n",
              "      <td>2016-01-01 20:00:00</td>\n",
              "      <td>2016-01-01 01:00:00</td>\n",
              "      <td>5</td>\n",
              "      <td>Dining bar</td>\n",
              "      <td>Hokkaidō Asahikawa-shi 6 Jōdōri</td>\n",
              "      <td>43.770635</td>\n",
              "      <td>142.364819</td>\n",
              "      <td>1.0</td>\n",
              "      <td>19.0</td>\n",
              "      <td>4</td>\n",
              "      <td>1</td>\n",
              "      <td>1</td>\n",
              "      <td>20</td>\n",
              "      <td>2016-01-01</td>\n",
              "      <td>2016</td>\n",
              "      <td>air_db80363d35f10926-2016-01-01</td>\n",
              "    </tr>\n",
              "  </tbody>\n",
              "</table>\n",
              "</div>"
            ],
            "text/plain": [
              "               store_id       visit_datetime     reserve_datetime  \\\n",
              "0  air_877f79706adbfb06  2016-01-01 19:00:00  2016-01-01 16:00:00   \n",
              "1  air_db4b38ebe7a7ceff  2016-01-01 19:00:00  2016-01-01 19:00:00   \n",
              "2  air_db4b38ebe7a7ceff  2016-01-01 19:00:00  2016-01-01 19:00:00   \n",
              "3  air_877f79706adbfb06  2016-01-01 20:00:00  2016-01-01 16:00:00   \n",
              "4  air_db80363d35f10926  2016-01-01 20:00:00  2016-01-01 01:00:00   \n",
              "\n",
              "   reserve_visitors     genre_name                        area_name  \\\n",
              "0                 1  Japanese food     Tōkyō-to Minato-ku Shibakōen   \n",
              "1                 3     Dining bar     Ōsaka-fu Ōsaka-shi Shinmachi   \n",
              "2                 6     Dining bar     Ōsaka-fu Ōsaka-shi Shinmachi   \n",
              "3                 2  Japanese food     Tōkyō-to Minato-ku Shibakōen   \n",
              "4                 5     Dining bar  Hokkaidō Asahikawa-shi 6 Jōdōri   \n",
              "\n",
              "    latitude   longitude  holiday  time_difference  visit_dayofweek  \\\n",
              "0  35.658068  139.751599      1.0              3.0                4   \n",
              "1  34.676231  135.486059      1.0              0.0                4   \n",
              "2  34.676231  135.486059      1.0              0.0                4   \n",
              "3  35.658068  139.751599      1.0              4.0                4   \n",
              "4  43.770635  142.364819      1.0             19.0                4   \n",
              "\n",
              "   visit_month  visit_day  visit_hour  visit_date  visit_year  \\\n",
              "0            1          1          19  2016-01-01        2016   \n",
              "1            1          1          19  2016-01-01        2016   \n",
              "2            1          1          19  2016-01-01        2016   \n",
              "3            1          1          20  2016-01-01        2016   \n",
              "4            1          1          20  2016-01-01        2016   \n",
              "\n",
              "                     store_id_date  \n",
              "0  air_877f79706adbfb06-2016-01-01  \n",
              "1  air_db4b38ebe7a7ceff-2016-01-01  \n",
              "2  air_db4b38ebe7a7ceff-2016-01-01  \n",
              "3  air_877f79706adbfb06-2016-01-01  \n",
              "4  air_db80363d35f10926-2016-01-01  "
            ]
          },
          "metadata": {
            "tags": []
          },
          "execution_count": 66
        }
      ]
    },
    {
      "metadata": {
        "id": "lbIwNmOjFx2l",
        "colab_type": "code",
        "colab": {
          "base_uri": "https://localhost:8080/",
          "height": 204
        },
        "outputId": "03134961-c47f-41e5-aca7-f530be856ce1"
      },
      "cell_type": "code",
      "source": [
        "coff=[0.,0.,0.,0.]\n",
        "a=list()\n",
        "for i ,item in enumerate(df.keys()):\n",
        "    if type(df.loc[0,item])!=str:\n",
        "        if np.corrcoef(df.iloc[:,i], df['reserve_visitors'])[0, 1]:\n",
        "            print(i,item,'\\t',np.corrcoef(df.iloc[:,i], df['reserve_visitors'])[0, 1])\n",
        "            a=a+[item]\n",
        "print(a)"
      ],
      "execution_count": 67,
      "outputs": [
        {
          "output_type": "stream",
          "text": [
            "3 reserve_visitors \t 1.0\n",
            "6 latitude \t -0.020300385571497877\n",
            "7 longitude \t 0.03341330098910298\n",
            "8 holiday \t -0.03195904343923001\n",
            "9 time_difference \t 0.24895370400099168\n",
            "10 visit_dayofweek \t -0.03444132773154534\n",
            "11 visit_month \t 0.020025384874401374\n",
            "12 visit_day \t 0.022526346520660684\n",
            "13 visit_hour \t 0.0477843545220157\n",
            "15 visit_year \t -0.002003066652767533\n",
            "['reserve_visitors', 'latitude', 'longitude', 'holiday', 'time_difference', 'visit_dayofweek', 'visit_month', 'visit_day', 'visit_hour', 'visit_year']\n"
          ],
          "name": "stdout"
        }
      ]
    },
    {
      "metadata": {
        "id": "kv-Dg8Ydk9iB",
        "colab_type": "code",
        "colab": {
          "base_uri": "https://localhost:8080/",
          "height": 204
        },
        "outputId": "782f79a2-f7f0-4efc-f476-d6680466af88"
      },
      "cell_type": "code",
      "source": [
        "#b=df[['store_id','store_id_date','holiday']].drop_duplicates('store_id_date', keep='first')\n",
        "data=df.groupby(['store_id_date']).reserve_visitors.sum().reset_index().join(\n",
        "    df[['store_id','store_id_date','holiday']].drop_duplicates('store_id_date', keep='first').set_index('store_id_date'),on='store_id_date')\n",
        "data.head()"
      ],
      "execution_count": 127,
      "outputs": [
        {
          "output_type": "execute_result",
          "data": {
            "text/html": [
              "<div>\n",
              "<style scoped>\n",
              "    .dataframe tbody tr th:only-of-type {\n",
              "        vertical-align: middle;\n",
              "    }\n",
              "\n",
              "    .dataframe tbody tr th {\n",
              "        vertical-align: top;\n",
              "    }\n",
              "\n",
              "    .dataframe thead th {\n",
              "        text-align: right;\n",
              "    }\n",
              "</style>\n",
              "<table border=\"1\" class=\"dataframe\">\n",
              "  <thead>\n",
              "    <tr style=\"text-align: right;\">\n",
              "      <th></th>\n",
              "      <th>store_id_date</th>\n",
              "      <th>reserve_visitors</th>\n",
              "      <th>store_id</th>\n",
              "      <th>holiday</th>\n",
              "    </tr>\n",
              "  </thead>\n",
              "  <tbody>\n",
              "    <tr>\n",
              "      <th>0</th>\n",
              "      <td>air_00a91d42b08b08d9-2016-10-31</td>\n",
              "      <td>2</td>\n",
              "      <td>air_00a91d42b08b08d9</td>\n",
              "      <td>0.0</td>\n",
              "    </tr>\n",
              "    <tr>\n",
              "      <th>1</th>\n",
              "      <td>air_00a91d42b08b08d9-2016-12-05</td>\n",
              "      <td>9</td>\n",
              "      <td>air_00a91d42b08b08d9</td>\n",
              "      <td>0.0</td>\n",
              "    </tr>\n",
              "    <tr>\n",
              "      <th>2</th>\n",
              "      <td>air_00a91d42b08b08d9-2016-12-14</td>\n",
              "      <td>18</td>\n",
              "      <td>air_00a91d42b08b08d9</td>\n",
              "      <td>0.0</td>\n",
              "    </tr>\n",
              "    <tr>\n",
              "      <th>3</th>\n",
              "      <td>air_00a91d42b08b08d9-2016-12-17</td>\n",
              "      <td>2</td>\n",
              "      <td>air_00a91d42b08b08d9</td>\n",
              "      <td>0.0</td>\n",
              "    </tr>\n",
              "    <tr>\n",
              "      <th>4</th>\n",
              "      <td>air_00a91d42b08b08d9-2016-12-20</td>\n",
              "      <td>4</td>\n",
              "      <td>air_00a91d42b08b08d9</td>\n",
              "      <td>0.0</td>\n",
              "    </tr>\n",
              "  </tbody>\n",
              "</table>\n",
              "</div>"
            ],
            "text/plain": [
              "                     store_id_date  reserve_visitors              store_id  \\\n",
              "0  air_00a91d42b08b08d9-2016-10-31                 2  air_00a91d42b08b08d9   \n",
              "1  air_00a91d42b08b08d9-2016-12-05                 9  air_00a91d42b08b08d9   \n",
              "2  air_00a91d42b08b08d9-2016-12-14                18  air_00a91d42b08b08d9   \n",
              "3  air_00a91d42b08b08d9-2016-12-17                 2  air_00a91d42b08b08d9   \n",
              "4  air_00a91d42b08b08d9-2016-12-20                 4  air_00a91d42b08b08d9   \n",
              "\n",
              "   holiday  \n",
              "0      0.0  \n",
              "1      0.0  \n",
              "2      0.0  \n",
              "3      0.0  \n",
              "4      0.0  "
            ]
          },
          "metadata": {
            "tags": []
          },
          "execution_count": 127
        }
      ]
    },
    {
      "metadata": {
        "id": "sbD32PrQyVlo",
        "colab_type": "code",
        "colab": {
          "base_uri": "https://localhost:8080/",
          "height": 142
        },
        "outputId": "c33ec5e4-7d33-4d06-fcc5-773a1039e774"
      },
      "cell_type": "code",
      "source": [
        "data_holiday=pd.DataFrame({'num_day':data.groupby('holiday').holiday.count(),\n",
        "              'num_visitor':data.groupby('holiday').reserve_visitors.sum()})\n",
        "data_holiday['visitory_holiday']=data_holiday.num_visitor/data_holiday.num_day\n",
        "data_holiday['avg_visitory']=data_holiday['num_visitor']/data_holiday['num_visitor'].sum()\n",
        "data_holiday"
      ],
      "execution_count": 128,
      "outputs": [
        {
          "output_type": "execute_result",
          "data": {
            "text/html": [
              "<div>\n",
              "<style scoped>\n",
              "    .dataframe tbody tr th:only-of-type {\n",
              "        vertical-align: middle;\n",
              "    }\n",
              "\n",
              "    .dataframe tbody tr th {\n",
              "        vertical-align: top;\n",
              "    }\n",
              "\n",
              "    .dataframe thead th {\n",
              "        text-align: right;\n",
              "    }\n",
              "</style>\n",
              "<table border=\"1\" class=\"dataframe\">\n",
              "  <thead>\n",
              "    <tr style=\"text-align: right;\">\n",
              "      <th></th>\n",
              "      <th>num_day</th>\n",
              "      <th>num_visitor</th>\n",
              "      <th>visitory_holiday</th>\n",
              "      <th>avg_visitory</th>\n",
              "    </tr>\n",
              "    <tr>\n",
              "      <th>holiday</th>\n",
              "      <th></th>\n",
              "      <th></th>\n",
              "      <th></th>\n",
              "      <th></th>\n",
              "    </tr>\n",
              "  </thead>\n",
              "  <tbody>\n",
              "    <tr>\n",
              "      <th>0.0</th>\n",
              "      <td>549770</td>\n",
              "      <td>4749719</td>\n",
              "      <td>8.639466</td>\n",
              "      <td>0.938168</td>\n",
              "    </tr>\n",
              "    <tr>\n",
              "      <th>1.0</th>\n",
              "      <td>38187</td>\n",
              "      <td>313041</td>\n",
              "      <td>8.197580</td>\n",
              "      <td>0.061832</td>\n",
              "    </tr>\n",
              "  </tbody>\n",
              "</table>\n",
              "</div>"
            ],
            "text/plain": [
              "         num_day  num_visitor  visitory_holiday  avg_visitory\n",
              "holiday                                                      \n",
              "0.0       549770      4749719          8.639466      0.938168\n",
              "1.0        38187       313041          8.197580      0.061832"
            ]
          },
          "metadata": {
            "tags": []
          },
          "execution_count": 128
        }
      ]
    },
    {
      "metadata": {
        "id": "9bRw7r5RFY-K",
        "colab_type": "text"
      },
      "cell_type": "markdown",
      "source": [
        "The ratio of visitors in day in holidays and non-holiday is not so different. However, since the number of the working days are 14.4 times more than number of holidays there will be more visitors in non-holidays. \n",
        "\n",
        "To test if holiday has impact on visitor numbers, we can set up \n",
        "\n",
        "1. a chi-square test as:\n",
        "  - Null hypothesis: number of visitors depends on holidays\n",
        "  - Alternative hypothesis: number of visitors does not depend on the type od day (being holiday or not)\n",
        "\n",
        "2. a bootstrap hypothesis test as :\n",
        "  - Null hypotesis: $H_o: \\mu_{holiday}-\\mu_{non-holiday}=0$\n",
        "  - Alternative hyppothesis: $H_a: \\mu_{holiday}-\\mu_{non-holiday}\\neq0$\n",
        "  \n",
        "### Chi-square test:"
      ]
    },
    {
      "metadata": {
        "id": "64w7fj0o1Z5W",
        "colab_type": "code",
        "colab": {
          "base_uri": "https://localhost:8080/",
          "height": 427
        },
        "outputId": "85143b5e-b859-4d16-b014-dd25ff307278"
      },
      "cell_type": "code",
      "source": [
        "sns.set(font_scale=1.5)\n",
        "sns.set_style(\"whitegrid\")\n",
        "fig = plt.figure(figsize=(20,6))\n",
        "sns.countplot(data=data,x='reserve_visitors',hue='holiday',palette='husl')\n",
        "plt.title('Histogram of people respect to holidays')\n",
        "plt.xlim([0,20])\n",
        "plt.show()\n",
        "plt.close(fig)"
      ],
      "execution_count": 129,
      "outputs": [
        {
          "output_type": "display_data",
          "data": {
            "image/png": "[encoded data removed]",
            "text/plain": [
              "<Figure size 1440x432 with 1 Axes>"
            ]
          },
          "metadata": {
            "tags": []
          }
        }
      ]
    },
    {
      "metadata": {
        "id": "fk9Gd7ws2ZLD",
        "colab_type": "code",
        "colab": {
          "base_uri": "https://localhost:8080/",
          "height": 85
        },
        "outputId": "01c6508e-0c9a-4ece-e512-db0dfd93234c"
      },
      "cell_type": "code",
      "source": [
        "# Directly using statsmodel (chi-squared)\n",
        "from statsmodels.stats.proportion import proportions_chisquare\n",
        "stat, p_val, tbl = proportions_chisquare([data_holiday.loc[0,'num_visitor'], data_holiday.loc[1,'num_visitor']], [data_holiday.num_day[0],data_holiday.num_day[1]])\n",
        "print('\\nFrom Chi-square test:\\nZ-Score={0:0.3f} \\nP-Value={1:0.3f}'.format(stat, p_val))"
      ],
      "execution_count": 130,
      "outputs": [
        {
          "output_type": "stream",
          "text": [
            "\n",
            "From Chi-square test:\n",
            "Z-Score=-106.390 \n",
            "P-Value=1.000\n"
          ],
          "name": "stdout"
        }
      ]
    },
    {
      "metadata": {
        "id": "Iq9AZQrYBWba",
        "colab_type": "text"
      },
      "cell_type": "markdown",
      "source": [
        "Since the P-value  is larger than the significance level (0.05), we  accept the null hypothesis. Thus, we conclude that there is no relationship between holiday and the number of visitors.\n",
        "\n",
        "### Bootstraping test:"
      ]
    },
    {
      "metadata": {
        "id": "WKWo7o-m5c4U",
        "colab_type": "code",
        "colab": {
          "base_uri": "https://localhost:8080/",
          "height": 68
        },
        "outputId": "8216e0c9-89b2-462f-e9fe-6bb1a2e1fc78"
      },
      "cell_type": "code",
      "source": [
        "h = data[data.holiday==1.0]\n",
        "d = data[data.holiday==0]\n",
        "\n",
        "#defining bootstrap sampling function\n",
        "def bs_sampling(data,size=10000):\n",
        "  np.random.seed(10)\n",
        "  #data:input data\n",
        "  #size: size of sampling\n",
        "  s=np.empty(size)\n",
        "  for i in range(size): s[i]=np.sum(np.random.choice(data, size))/size\n",
        "  return s\n",
        "\n",
        "#creating bootsatrap samples\n",
        "bs_h_visitors= bs_sampling(h.reserve_visitors)\n",
        "bs_d_visitors= bs_sampling(d.reserve_visitors)\n",
        "\n",
        "bs_diff= bs_h_visitors-bs_d_visitors\n",
        "p_diff = (np.sum(h.reserve_visitors)-np.sum(d.reserve_visitors))/len(h.reserve_visitors)\n",
        "\n",
        "bs_p_value=np.sum(bs_diff<=abs(p_diff))/len(bs_diff)\n",
        "bs_conf_int= np.percentile(bs_diff, [2.5, 97.5])\n",
        "bs_mu= np.mean(bs_diff) #mean of bootstraped sample\n",
        "bs_me=bs_conf_int-bs_mu\n",
        "\n",
        "\n",
        "print('Bootstraping test p-value:',bs_p_value)\n",
        "print('Bootstraping confidence level: ',bs_conf_int)\n",
        "print('Bootstrapping margin of error:',bs_me)\n"
      ],
      "execution_count": 131,
      "outputs": [
        {
          "output_type": "stream",
          "text": [
            "Bootstraping test p-value: 1.0\n",
            "Bootstraping confidence level:  [-0.7369025 -0.161495 ]\n",
            "Bootstrapping margin of error: [-0.29432683  0.28108067]\n"
          ],
          "name": "stdout"
        }
      ]
    },
    {
      "metadata": {
        "id": "1d-YFQzqDNxE",
        "colab_type": "text"
      },
      "cell_type": "markdown",
      "source": [
        "Since the bootstrap test p-value is less than significant level, hence we can accept the null hypotesis. The holiday has not impact on visitor numbers. "
      ]
    },
    {
      "metadata": {
        "id": "XAM-ZU8_JmBX",
        "colab_type": "code",
        "colab": {}
      },
      "cell_type": "code",
      "source": [
        ""
      ],
      "execution_count": 0,
      "outputs": []
    },
    {
      "metadata": {
        "id": "jDD_WePR8dnA",
        "colab_type": "code",
        "colab": {}
      },
      "cell_type": "code",
      "source": [
        ""
      ],
      "execution_count": 0,
      "outputs": []
    }
  ]
}