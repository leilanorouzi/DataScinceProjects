{
 "cells": [
  {
   "cell_type": "markdown",
   "metadata": {},
   "source": [
    "#### Importing main libraries"
   ]
  },
  {
   "cell_type": "code",
   "execution_count": 5,
   "metadata": {},
   "outputs": [],
   "source": [
    "import pandas as pd\n",
    "import numpy as np\n",
    "import os\n",
    "import time\n",
    "from datetime import datetime,timedelta \n"
   ]
  },
  {
   "cell_type": "markdown",
   "metadata": {},
   "source": [
    "#### Defining functions"
   ]
  },
  {
   "cell_type": "code",
   "execution_count": 6,
   "metadata": {
    "collapsed": true
   },
   "outputs": [],
   "source": [
    "def make_dataset(data,df_info):\n",
    "    df=data.dropna()\n",
    "    df_info=df_info.dropna()\n",
    "    df[\"genre_name\"] = np.nan\n",
    "    df[\"area_name\"] = np.nan\n",
    "    df[\"latitude\"] = np.nan\n",
    "    df[\"longitude\"] = np.nan\n",
    "    df[\"holiday\"] = np.nan\n",
    "\n",
    "\n",
    "\n",
    "    df.visit_datetime=df.visit_datetime.apply(lambda x: datetime.strptime(x,'%Y-%m-%d %H:%M:%S'))\n",
    "    df.reserve_datetime=df.reserve_datetime.apply(lambda x: datetime.strptime(x,'%Y-%m-%d %H:%M:%S') )\n",
    "\n",
    "    df[\"time_difference\"] =  (df.visit_datetime - df.reserve_datetime)/timedelta(hours=1)\n",
    "\n",
    "\n",
    "    for i in range(np.shape(df_info)[0]):\n",
    "        if np.isin(df_info.iloc[i,0],df.iloc[:,0]):\n",
    "            store_loc=np.where(df.iloc[:,0] == str(df_info.iloc[i,0]))[0]\n",
    "            df.loc[store_loc,[\"genre_name\"]]=df_info.iloc[i,1]\n",
    "            df.loc[store_loc,[\"area_name\"]]=df_info.iloc[i,2]\n",
    "            df.loc[store_loc,[\"latitude\"]]=df_info.iloc[i,3]\n",
    "            df.loc[store_loc,[\"longitude\"]]=df_info.iloc[i,4]\n",
    "\n",
    "\n",
    "    df[\"visit_dayofweek\"] =  df.visit_datetime.apply(lambda x: datetime.weekday(x))\n",
    "#    df[\"visit_year\"] =  df.visit_datetime.apply(lambda x: x.year)\n",
    "    df[\"visit_month\"] =  df.visit_datetime.apply(lambda x: x.month)\n",
    "    df[\"visit_day\"] =  df.visit_datetime.apply(lambda x: x.day)\n",
    "    df[\"visit_hour\"] =  df.visit_datetime.apply(lambda x: x.hour)\n",
    "#    df[\"reserve_dayofweek\"] =  df.reserve_datetime.apply(lambda x: datetime.weekday(x))\n",
    "#    df[\"reserve_year\"] =  df.reserve_datetime.apply(lambda x: x.year)\n",
    "#    df[\"reserve_month\"] =  df.reserve_datetime.apply(lambda x: x.month)\n",
    "#    df[\"reserve_day\"] =  df.reserve_datetime.apply(lambda x: x.day)\n",
    "#    df[\"reserve_hour\"] =  df.reserve_datetime.apply(lambda x: x.hour)\n",
    "    df[\"visit_date\"]=df.visit_datetime.apply(lambda x: x.date())\n",
    "\n",
    "    for i,item  in enumerate(holiday_data.calendar_date):\n",
    "        if np.isin(df.visit_date,item).any():\n",
    "            df.holiday[np.where(df.visit_date==item)[0]]=holiday_data.loc[i,'holiday_flg']\n",
    "    df=df.dropna()\n",
    "    return df\n",
    "\n"
   ]
  },
  {
   "cell_type": "markdown",
   "metadata": {},
   "source": [
    "#### Path directory "
   ]
  },
  {
   "cell_type": "code",
   "execution_count": 16,
   "metadata": {
    "collapsed": true
   },
   "outputs": [],
   "source": [
    "input_data_path='/Users/leilasapple/Documents/Springboard/recruit-restaurant-visitor-forecasting/input_files/'\n",
    "output_data_path='/Users/leilasapple/Documents/Springboard/recruit-restaurant-visitor-forecasting/output_files/'"
   ]
  },
  {
   "cell_type": "markdown",
   "metadata": {},
   "source": [
    "#### Importing data\n",
    "Data have come from two major websites which provide air and hpg data sets. "
   ]
  },
  {
   "cell_type": "markdown",
   "metadata": {},
   "source": [
    "##### To read air data"
   ]
  },
  {
   "cell_type": "code",
   "execution_count": 9,
   "metadata": {},
   "outputs": [],
   "source": [
    "air_reserve=pd.read_csv(os.path.join(input_data_path,'air_reserve.csv'))\n",
    "air_store_info=pd.read_csv(os.path.join(input_data_path,'air_store_info.csv'))\n",
    "air_visit_data=pd.read_csv(os.path.join(input_data_path,'air_visit_data.csv'))\n"
   ]
  },
  {
   "cell_type": "code",
   "execution_count": null,
   "metadata": {
    "collapsed": true
   },
   "outputs": [],
   "source": []
  },
  {
   "cell_type": "markdown",
   "metadata": {},
   "source": [
    "##### To read hpg data"
   ]
  },
  {
   "cell_type": "code",
   "execution_count": 10,
   "metadata": {
    "collapsed": true
   },
   "outputs": [],
   "source": [
    "hpg_reserve=pd.read_csv(os.path.join(input_data_path,'hpg_reserve.csv'))\n",
    "hpg_store_info=pd.read_csv(os.path.join(input_data_path,'hpg_store_info.csv'))\n"
   ]
  },
  {
   "cell_type": "markdown",
   "metadata": {},
   "source": [
    "##### To read other data"
   ]
  },
  {
   "cell_type": "code",
   "execution_count": 11,
   "metadata": {
    "collapsed": true
   },
   "outputs": [],
   "source": [
    "store_id_relation=pd.read_csv(os.path.join(input_data_path,'store_id_relation.csv'))\n",
    "date_info=pd.read_csv(os.path.join(input_data_path,'date_info.csv'))\n",
    "submission_data=pd.read_csv(os.path.join(input_data_path,'sample_submission.csv'))\n",
    "holiday_data=pd.read_csv(os.path.join(input_data_path,'date_info.csv'))\n"
   ]
  },
  {
   "cell_type": "code",
   "execution_count": 12,
   "metadata": {
    "collapsed": true
   },
   "outputs": [],
   "source": [
    "holiday_data.calendar_date=holiday_data.calendar_date.apply(lambda x:pd.to_datetime(x).date())\n"
   ]
  },
  {
   "cell_type": "code",
   "execution_count": 13,
   "metadata": {},
   "outputs": [
    {
     "name": "stderr",
     "output_type": "stream",
     "text": [
      "/Users/leilasapple/anaconda/lib/python3.6/site-packages/ipykernel_launcher.py:41: SettingWithCopyWarning: \n",
      "A value is trying to be set on a copy of a slice from a DataFrame\n",
      "\n",
      "See the caveats in the documentation: http://pandas.pydata.org/pandas-docs/stable/indexing.html#indexing-view-versus-copy\n"
     ]
    }
   ],
   "source": [
    "df_air=make_dataset(air_reserve,air_store_info)\n",
    "df_air=df_air.rename(columns={\"air_store_id\": \"store_id\"})\n"
   ]
  },
  {
   "cell_type": "code",
   "execution_count": 21,
   "metadata": {},
   "outputs": [
    {
     "name": "stderr",
     "output_type": "stream",
     "text": [
      "/Users/leilasapple/anaconda/lib/python3.6/site-packages/ipykernel_launcher.py:41: SettingWithCopyWarning: \n",
      "A value is trying to be set on a copy of a slice from a DataFrame\n",
      "\n",
      "See the caveats in the documentation: http://pandas.pydata.org/pandas-docs/stable/indexing.html#indexing-view-versus-copy\n"
     ]
    }
   ],
   "source": [
    "hpg_reserve_=hpg_reserve.dropna()\n",
    "hpg_store_info=hpg_store_info.dropna()\n",
    "df_hpg=make_dataset(hpg_reserve_,hpg_store_info)\n",
    "df_hpg=df_hpg.rename(columns={\"hpg_store_id\": \"store_id\"})\n",
    "df_hpg=df_hpg.dropna()"
   ]
  },
  {
   "cell_type": "code",
   "execution_count": null,
   "metadata": {
    "collapsed": true
   },
   "outputs": [],
   "source": [
    "for i, item in enumerate(store_id_relation.iloc[:,1]):\n",
    "    if np.isin(df_hpg.iloc[:,0],item).any():\n",
    "        hpg_loc=np.where(df_hpg.iloc[:,0]==item)[0]\n",
    "        df_hpg.iloc[hpg_loc,0]=store_id_relation.iloc[i,0]\n",
    "df=pd.concat([df_air,df_hpg],ignore_index=True)\n",
    "print(df.describe())\n",
    "print(df.head())"
   ]
  },
  {
   "cell_type": "markdown",
   "metadata": {},
   "source": [
    "To save all data in a csv file."
   ]
  },
  {
   "cell_type": "code",
   "execution_count": null,
   "metadata": {
    "collapsed": true
   },
   "outputs": [],
   "source": [
    "df.to_csv(os.path.join(output_data_path,'df0.csv'), encoding='utf-8',index=False)\n"
   ]
  },
  {
   "cell_type": "markdown",
   "metadata": {},
   "source": [
    "To have id for every resturant in every day\n",
    "We need to know how many customer went to each resturant\n"
   ]
  },
  {
   "cell_type": "code",
   "execution_count": null,
   "metadata": {
    "collapsed": true
   },
   "outputs": [],
   "source": [
    "df['store_id_date']=df.store_id.values+'_'+df.visit_date.values\n",
    "uniq_store_date=df['store_id_date'].unique().astype(str)"
   ]
  },
  {
   "cell_type": "markdown",
   "metadata": {},
   "source": [
    "Generate new set of data for the model\n",
    "This data set has unique values for each resturant in every day"
   ]
  },
  {
   "cell_type": "code",
   "execution_count": 17,
   "metadata": {},
   "outputs": [],
   "source": [
    "data=pd.read_csv(os.path.join(output_data_path,'data.csv'))\n"
   ]
  },
  {
   "cell_type": "code",
   "execution_count": null,
   "metadata": {
    "collapsed": true
   },
   "outputs": [],
   "source": []
  },
  {
   "cell_type": "markdown",
   "metadata": {},
   "source": [
    "Grouping data by resturant and day \n",
    "data were grouped by the resurant and the day of visit. So every resturant-day is a group. Data were grouped by resurant id store and the day"
   ]
  },
  {
   "cell_type": "code",
   "execution_count": 18,
   "metadata": {},
   "outputs": [
    {
     "ename": "NameError",
     "evalue": "name 'df' is not defined",
     "output_type": "error",
     "traceback": [
      "\u001b[0;31m---------------------------------------------------------------------------\u001b[0m",
      "\u001b[0;31mNameError\u001b[0m                                 Traceback (most recent call last)",
      "\u001b[0;32m<ipython-input-18-d05363bb8784>\u001b[0m in \u001b[0;36m<module>\u001b[0;34m()\u001b[0m\n\u001b[0;32m----> 1\u001b[0;31m \u001b[0mgrouped\u001b[0m\u001b[0;34m=\u001b[0m\u001b[0mdf\u001b[0m\u001b[0;34m.\u001b[0m\u001b[0mgroupby\u001b[0m\u001b[0;34m(\u001b[0m\u001b[0;34m'store_id_date'\u001b[0m\u001b[0;34m)\u001b[0m\u001b[0;34m\u001b[0m\u001b[0m\n\u001b[0m",
      "\u001b[0;31mNameError\u001b[0m: name 'df' is not defined"
     ]
    }
   ],
   "source": [
    "grouped=df.groupby('store_id_date')"
   ]
  },
  {
   "cell_type": "markdown",
   "metadata": {},
   "source": [
    "- Gener, area, holiday, day and month in every group are the same based on the grouping \n",
    "- Visitors in every group are summation of all visitors in each reservation for that group\n",
    "- The time differnce for each group is taken as the average of time difference of all reservations in a that group \n"
   ]
  },
  {
   "cell_type": "code",
   "execution_count": null,
   "metadata": {
    "collapsed": true
   },
   "outputs": [],
   "source": [
    "data['store_id']=data.id.apply(lambda x: x[:-11])\n",
    "data['genre']=data.id.apply(lambda x: grouped.get_group(x).iloc[0,4])\n",
    "data['visitor']=data.id.apply(lambda x: grouped.get_group(x).iloc[:,3].sum())\n",
    "data['area']=data.id.apply(lambda x: grouped.get_group(x).iloc[0,5])\n",
    "data['holiday']=data.id.apply(lambda x: grouped.get_group(x).iloc[0,8])\n",
    "data['dt']=data.id.apply(lambda x: grouped.get_group(x).iloc[:,9].mean())\n",
    "data['day']=data.id.apply(lambda x: grouped.get_group(x).iloc[0,10])\n",
    "data['month']=data.id.apply(lambda x: grouped.get_group(x).iloc[0,12])"
   ]
  },
  {
   "cell_type": "code",
   "execution_count": null,
   "metadata": {
    "collapsed": true
   },
   "outputs": [],
   "source": [
    "# backup the data\n",
    "data.to_csv(os.path.join(output_data_path,'data.csv'), encoding='utf-8',index=False)\n",
    "data=pd.read_csv(os.path.join(output_data_path,'data.csv'))\n"
   ]
  },
  {
   "cell_type": "code",
   "execution_count": 20,
   "metadata": {},
   "outputs": [
    {
     "data": {
      "text/html": [
       "<div>\n",
       "<style>\n",
       "    .dataframe thead tr:only-child th {\n",
       "        text-align: right;\n",
       "    }\n",
       "\n",
       "    .dataframe thead th {\n",
       "        text-align: left;\n",
       "    }\n",
       "\n",
       "    .dataframe tbody tr th {\n",
       "        vertical-align: top;\n",
       "    }\n",
       "</style>\n",
       "<table border=\"1\" class=\"dataframe\">\n",
       "  <thead>\n",
       "    <tr style=\"text-align: right;\">\n",
       "      <th></th>\n",
       "      <th>visitor</th>\n",
       "      <th>holiday</th>\n",
       "      <th>dt</th>\n",
       "      <th>day</th>\n",
       "      <th>month</th>\n",
       "    </tr>\n",
       "  </thead>\n",
       "  <tbody>\n",
       "    <tr>\n",
       "      <th>count</th>\n",
       "      <td>587957.000000</td>\n",
       "      <td>587957.000000</td>\n",
       "      <td>587957.000000</td>\n",
       "      <td>587957.000000</td>\n",
       "      <td>587957.000000</td>\n",
       "    </tr>\n",
       "    <tr>\n",
       "      <th>mean</th>\n",
       "      <td>8.610766</td>\n",
       "      <td>0.064949</td>\n",
       "      <td>167.435631</td>\n",
       "      <td>3.361385</td>\n",
       "      <td>5.728307</td>\n",
       "    </tr>\n",
       "    <tr>\n",
       "      <th>std</th>\n",
       "      <td>10.973159</td>\n",
       "      <td>0.246435</td>\n",
       "      <td>190.366523</td>\n",
       "      <td>1.836051</td>\n",
       "      <td>3.728686</td>\n",
       "    </tr>\n",
       "    <tr>\n",
       "      <th>min</th>\n",
       "      <td>1.000000</td>\n",
       "      <td>0.000000</td>\n",
       "      <td>0.000000</td>\n",
       "      <td>0.000000</td>\n",
       "      <td>1.000000</td>\n",
       "    </tr>\n",
       "    <tr>\n",
       "      <th>25%</th>\n",
       "      <td>3.000000</td>\n",
       "      <td>0.000000</td>\n",
       "      <td>46.000000</td>\n",
       "      <td>2.000000</td>\n",
       "      <td>3.000000</td>\n",
       "    </tr>\n",
       "    <tr>\n",
       "      <th>50%</th>\n",
       "      <td>5.000000</td>\n",
       "      <td>0.000000</td>\n",
       "      <td>107.000000</td>\n",
       "      <td>4.000000</td>\n",
       "      <td>4.000000</td>\n",
       "    </tr>\n",
       "    <tr>\n",
       "      <th>75%</th>\n",
       "      <td>10.000000</td>\n",
       "      <td>0.000000</td>\n",
       "      <td>219.500000</td>\n",
       "      <td>5.000000</td>\n",
       "      <td>9.000000</td>\n",
       "    </tr>\n",
       "    <tr>\n",
       "      <th>max</th>\n",
       "      <td>2241.000000</td>\n",
       "      <td>1.000000</td>\n",
       "      <td>8429.284314</td>\n",
       "      <td>6.000000</td>\n",
       "      <td>12.000000</td>\n",
       "    </tr>\n",
       "  </tbody>\n",
       "</table>\n",
       "</div>"
      ],
      "text/plain": [
       "             visitor        holiday             dt            day  \\\n",
       "count  587957.000000  587957.000000  587957.000000  587957.000000   \n",
       "mean        8.610766       0.064949     167.435631       3.361385   \n",
       "std        10.973159       0.246435     190.366523       1.836051   \n",
       "min         1.000000       0.000000       0.000000       0.000000   \n",
       "25%         3.000000       0.000000      46.000000       2.000000   \n",
       "50%         5.000000       0.000000     107.000000       4.000000   \n",
       "75%        10.000000       0.000000     219.500000       5.000000   \n",
       "max      2241.000000       1.000000    8429.284314       6.000000   \n",
       "\n",
       "               month  \n",
       "count  587957.000000  \n",
       "mean        5.728307  \n",
       "std         3.728686  \n",
       "min         1.000000  \n",
       "25%         3.000000  \n",
       "50%         4.000000  \n",
       "75%         9.000000  \n",
       "max        12.000000  "
      ]
     },
     "execution_count": 20,
     "metadata": {},
     "output_type": "execute_result"
    }
   ],
   "source": [
    "data.describe()"
   ]
  },
  {
   "cell_type": "code",
   "execution_count": 19,
   "metadata": {
    "collapsed": true
   },
   "outputs": [],
   "source": [
    "##Defining a function for grouping the data and returning the value of the customers in the grouping \n",
    "def cutomer_features(feature,key_name,d1,d2):\n",
    "    d2=d1\n",
    "    g=d2.groupby(feature)\n",
    "    d2[key_name]=np.nan\n",
    "    for i ,item in enumerate(g.groups):\n",
    "        a=True\n",
    "        for j , ftr in feature:\n",
    "            a=a & d2.loc[ftr]==item[j]\n",
    "        LOC=np.where(a)[0]\n",
    "        d2.loc[key_name]=g.get_group(item).loc[:'visitor'].mean()\n",
    "    return d2"
   ]
  },
  {
   "cell_type": "code",
   "execution_count": null,
   "metadata": {
    "collapsed": true
   },
   "outputs": [],
   "source": [
    "#grouping data by the resturant only\n",
    "grouped=data.groupby('store_id')\n",
    "data['store_index']=np.nan\n",
    "for i,item in enumerate(grouped.groups):\n",
    "    loc_item=np.where(data['store_id']==item)[0]\n",
    "    data.loc[loc_item,'store_index']=grouped.get_group(item).loc[:,'visitor'].mean()"
   ]
  },
  {
   "cell_type": "code",
   "execution_count": null,
   "metadata": {
    "collapsed": true
   },
   "outputs": [],
   "source": [
    "##### To check the effect of location on reservations  \n",
    "grouped=data.groupby('area')\n",
    "data['area_index']=np.nan\n",
    "for i,item in enumerate(grouped.groups):\n",
    "    loc_item=np.where(data['area']==item)[0]\n",
    "    data.loc[loc_item,'area_index']=grouped.get_group(item).loc[:,'visitor'].mean()"
   ]
  },
  {
   "cell_type": "code",
   "execution_count": null,
   "metadata": {
    "collapsed": true
   },
   "outputs": [],
   "source": [
    "grouped=data.groupby('genre')\n",
    "data['genre_index']=np.nan\n",
    "for i,item in enumerate(grouped.groups):\n",
    "    loc_item=np.where(data['genre']==item)[0]\n",
    "    data.loc[loc_item,'genre_index']=grouped.get_group(item).loc[:,'visitor'].mean()"
   ]
  },
  {
   "cell_type": "code",
   "execution_count": null,
   "metadata": {
    "collapsed": true
   },
   "outputs": [],
   "source": [
    "##### To check the effect of genre and location on reservations   \n",
    "grouped=data.groupby(['genre','area'])\n",
    "data['genre_area_index']=np.nan\n",
    "for i,item in enumerate(grouped.groups):\n",
    "    a=data.genre==item[0]\n",
    "    b=data.area==item[1]\n",
    "    LOC=np.where(a & b)[0]\n",
    "    data.loc[LOC,'genre_area_index']=grouped.get_group(item).loc[:,'visitor'].mean()"
   ]
  },
  {
   "cell_type": "code",
   "execution_count": null,
   "metadata": {
    "collapsed": true
   },
   "outputs": [],
   "source": [
    "##### To check the effect of the holiday on reservation \n",
    "\n",
    "grouped=data.groupby('holiday')\n",
    "data['holiday_index']=np.nan\n",
    "for i,item in enumerate(grouped.groups):\n",
    "    loc_item=np.where(data['holiday']==item)[0]\n",
    "    data.loc[loc_item,'holiday_index']=grouped.get_group(item).loc[:,'visitor'].mean()"
   ]
  },
  {
   "cell_type": "code",
   "execution_count": null,
   "metadata": {
    "collapsed": true
   },
   "outputs": [],
   "source": [
    "##### To check the effect of the holiday for each resturant on reservation \n",
    "grouped=data.groupby(['store_id','holiday'])\n",
    "data['store_holiday_index']=np.nan\n",
    "for i,item in enumerate(grouped.groups):\n",
    "    a=data.store_id==item[0]\n",
    "    b=data.holiday==item[1]\n",
    "    LOC=np.where(a & b)[0]\n",
    "    data.loc[LOC,'store_holiday_index']=grouped.get_group(item).loc[:,'visitor'].mean()"
   ]
  },
  {
   "cell_type": "code",
   "execution_count": null,
   "metadata": {
    "collapsed": true
   },
   "outputs": [],
   "source": [
    "##### To check the effect of the month on reservation \n",
    "\n",
    "grouped=data.groupby('month')\n",
    "data['month_index']=np.nan\n",
    "for i,item in enumerate(grouped.groups):\n",
    "    loc_item=np.where(data['month']==item)[0]\n",
    "    data.loc[loc_item,'month_index']=grouped.get_group(item).loc[:,'visitor'].mean()"
   ]
  },
  {
   "cell_type": "code",
   "execution_count": null,
   "metadata": {
    "collapsed": true
   },
   "outputs": [],
   "source": [
    "##### To check the effect of the month for each resturant on reservation \n",
    "grouped=data.groupby(['store_id','month'])\n",
    "data['store_month_index']=np.nan\n",
    "for i,item in enumerate(grouped.groups):\n",
    "    a=data.store_id==item[0]\n",
    "    b=data.month==item[1]\n",
    "    LOC=np.where(a & b)[0]\n",
    "    data.loc[LOC,'store_month_index']=grouped.get_group(item).loc[:,'visitor'].mean()"
   ]
  },
  {
   "cell_type": "code",
   "execution_count": null,
   "metadata": {
    "collapsed": true
   },
   "outputs": [],
   "source": [
    "##### To check the effect of the day of the week on reservation \n",
    "\n",
    "grouped=data.groupby('day')\n",
    "data['day_index']=np.nan\n",
    "for i,item in enumerate(grouped.groups):\n",
    "    loc_item=np.where(data['day']==item)[0]\n",
    "    data.loc[loc_item,'day_index']=grouped.get_group(item).loc[:,'visitor'].mean()"
   ]
  },
  {
   "cell_type": "code",
   "execution_count": null,
   "metadata": {
    "collapsed": true
   },
   "outputs": [],
   "source": [
    "##### To check the effect of the day of the week for each resturant on reservation \n",
    "grouped=data.groupby(['store_id','day'])\n",
    "data['store_day_index']=np.nan\n",
    "for i,item in enumerate(grouped.groups):\n",
    "    a=data.store_id==item[0]\n",
    "    b=data.day==item[1]\n",
    "    LOC=np.where(a & b)[0]\n",
    "    if i%5000==0:print(i,item,datetime.now())\n",
    "    data.loc[LOC,'store_day_index']=grouped.get_group(item).loc[:,'visitor'].mean()"
   ]
  },
  {
   "cell_type": "code",
   "execution_count": null,
   "metadata": {
    "collapsed": true
   },
   "outputs": [],
   "source": [
    "##### To check the effect of the day of the week in each month on reservation \n",
    "grouped=data.groupby(['day','month'])\n",
    "data['day_month_index']=np.nan\n",
    "for i,item in enumerate(grouped.groups):\n",
    "    a=data.day==item[0]\n",
    "    b=data.month==item[1]\n",
    "    LOC=np.where(a & b)[0]\n",
    "    data.loc[LOC,'day_month_index']=grouped.get_group(item).loc[:,'visitor'].mean()"
   ]
  },
  {
   "cell_type": "code",
   "execution_count": null,
   "metadata": {
    "collapsed": true
   },
   "outputs": [],
   "source": [
    "##### To check the effect of the day og the week and the month for each resturant on reservation \n",
    "grouped=data.groupby(['store_id','day','month'])\n",
    "data['store_day_month_index']=np.nan\n",
    "for i,item in enumerate(grouped.groups):\n",
    "    a=data.store_id==item[0]\n",
    "    b=data.day==item[1]\n",
    "    c=data.month==item[2]\n",
    "    LOC=np.where(a & b & c)[0]\n",
    "    if i%100 ==0: print(i,item)\n",
    "    data.loc[LOC,'store_day_month_index']=grouped.get_group(item).loc[:,'visitor'].mean()"
   ]
  },
  {
   "cell_type": "code",
   "execution_count": null,
   "metadata": {
    "collapsed": true
   },
   "outputs": [],
   "source": [
    "grouped=data.groupby(['holiday','day','month'])\n",
    "data['holiday_day_month_index']=np.nan\n",
    "for i,item in enumerate(grouped.groups):\n",
    "    \n",
    "    a=data.holiday==item[0]\n",
    "    b=data.day==item[1]\n",
    "    c=data.month==item[2]\n",
    "    LOC=np.where(a & b & c)[0]\n",
    "    data.loc[LOC,'holiday_day_month_index']=grouped.get_group(item).loc[:,'visitor'].mean()"
   ]
  },
  {
   "cell_type": "code",
   "execution_count": null,
   "metadata": {
    "collapsed": true
   },
   "outputs": [],
   "source": [
    "print(data.describe())\n",
    "print(data.head())\n",
    "\n",
    "data.to_csv(os.path.join(output_data_path,'data1.csv'), encoding='utf-8',index=False)\n",
    "data=pd.read_csv(os.path.join(output_data_path,'data1.csv'))"
   ]
  }
 ],
 "metadata": {
  "kernelspec": {
   "display_name": "Python 3",
   "language": "python",
   "name": "python3"
  },
  "language_info": {
   "codemirror_mode": {
    "name": "ipython",
    "version": 3
   },
   "file_extension": ".py",
   "mimetype": "text/x-python",
   "name": "python",
   "nbconvert_exporter": "python",
   "pygments_lexer": "ipython3",
   "version": "3.6.1"
  }
 },
 "nbformat": 4,
 "nbformat_minor": 2
}
